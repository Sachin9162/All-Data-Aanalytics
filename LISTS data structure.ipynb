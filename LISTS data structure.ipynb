{
 "cells": [
  {
   "cell_type": "markdown",
   "id": "4bfa10b2",
   "metadata": {},
   "source": [
    "# Lists"
   ]
  },
  {
   "cell_type": "code",
   "execution_count": 1,
   "id": "83f8120e",
   "metadata": {},
   "outputs": [
    {
     "data": {
      "text/plain": [
       "['India', 23, 'Mumbai']"
      ]
     },
     "execution_count": 1,
     "metadata": {},
     "output_type": "execute_result"
    }
   ],
   "source": [
    "L =[\"India\",23,\"Mumbai\"]\n",
    "L"
   ]
  },
  {
   "cell_type": "code",
   "execution_count": 2,
   "id": "f0a89cf7",
   "metadata": {},
   "outputs": [
    {
     "data": {
      "text/plain": [
       "['Chemistry', 'Biology', [1989, 2004], ('oreily', 'Pearson')]"
      ]
     },
     "execution_count": 2,
     "metadata": {},
     "output_type": "execute_result"
    }
   ],
   "source": [
    "#Nested list\n",
    "\n",
    "L = [\"Chemistry\", \"Biology\", [1989,2004], (\"oreily\",\"Pearson\")] #Tuples can be also put inside list\n",
    "L"
   ]
  },
  {
   "cell_type": "code",
   "execution_count": 3,
   "id": "6d32acd4",
   "metadata": {},
   "outputs": [
    {
     "data": {
      "text/plain": [
       "'Chemistry'"
      ]
     },
     "execution_count": 3,
     "metadata": {},
     "output_type": "execute_result"
    }
   ],
   "source": [
    "#Indexing\n",
    "\n",
    "L = [\"Chemistry\", \"Biology\", [1989,2004], (\"oreily\",\"Pearson\")]\n",
    "L[0]"
   ]
  },
  {
   "cell_type": "code",
   "execution_count": 4,
   "id": "4bb83220",
   "metadata": {},
   "outputs": [
    {
     "data": {
      "text/plain": [
       "[1989, 2004]"
      ]
     },
     "execution_count": 4,
     "metadata": {},
     "output_type": "execute_result"
    }
   ],
   "source": [
    "L[-2]"
   ]
  },
  {
   "cell_type": "code",
   "execution_count": 8,
   "id": "089e5e59",
   "metadata": {},
   "outputs": [
    {
     "data": {
      "text/plain": [
       "'Pearson'"
      ]
     },
     "execution_count": 8,
     "metadata": {},
     "output_type": "execute_result"
    }
   ],
   "source": [
    "L[3][1]"
   ]
  },
  {
   "cell_type": "code",
   "execution_count": 5,
   "id": "f3067bb6",
   "metadata": {},
   "outputs": [
    {
     "data": {
      "text/plain": [
       "['Chemistry', 'Biology', [1989, 2004]]"
      ]
     },
     "execution_count": 5,
     "metadata": {},
     "output_type": "execute_result"
    }
   ],
   "source": [
    "#Slicing\n",
    "\n",
    "L[0:3]"
   ]
  },
  {
   "cell_type": "code",
   "execution_count": 10,
   "id": "6cbd0604",
   "metadata": {},
   "outputs": [
    {
     "data": {
      "text/plain": [
       "['Biology', [1989, 2004], ('oreily', 'Pearson')]"
      ]
     },
     "execution_count": 10,
     "metadata": {},
     "output_type": "execute_result"
    }
   ],
   "source": [
    "L[-3:]"
   ]
  },
  {
   "cell_type": "code",
   "execution_count": 14,
   "id": "151b14ef",
   "metadata": {},
   "outputs": [
    {
     "name": "stdout",
     "output_type": "stream",
     "text": [
      "True\n",
      "False\n",
      "False\n",
      "True\n"
     ]
    }
   ],
   "source": [
    "#Membership in Lists\n",
    "\n",
    "L1= [1,2,3,4,5]\n",
    "print(1 in L1)              #in\n",
    "print(8 in L1)\n",
    "print(1 not in L1)          #not in\n",
    "print(8 not in L1)"
   ]
  },
  {
   "cell_type": "code",
   "execution_count": 16,
   "id": "0b97c688",
   "metadata": {},
   "outputs": [
    {
     "data": {
      "text/plain": [
       "['Chemistry', 'Biology', [1989, 2004], ('oreily', 'Pearson'), 5, 8]"
      ]
     },
     "execution_count": 16,
     "metadata": {},
     "output_type": "execute_result"
    }
   ],
   "source": [
    "# List concatanetion             merging two list\n",
    "\n",
    "L = [\"Chemistry\", \"Biology\", [1989,2004], (\"oreily\",\"Pearson\")]\n",
    "new_L = L+[5,8]\n",
    "new_L"
   ]
  },
  {
   "cell_type": "code",
   "execution_count": 24,
   "id": "76d2b50e",
   "metadata": {},
   "outputs": [
    {
     "data": {
      "text/plain": [
       "['Chemistry', 'Physics', [1989, 2004], ('oreily', 'Pearson')]"
      ]
     },
     "execution_count": 24,
     "metadata": {},
     "output_type": "execute_result"
    }
   ],
   "source": [
    "#Replace\n",
    "L = [\"Chemistry\", \"Biology\", [1989,2004], (\"oreily\",\"Pearson\")]\n",
    "L[1] = \"Physics\"\n",
    "L"
   ]
  },
  {
   "cell_type": "code",
   "execution_count": 29,
   "id": "916b3ce0",
   "metadata": {},
   "outputs": [
    {
     "data": {
      "text/plain": [
       "['Chemistry', 'Biology', [1989, 2004], ('oreily', 'Pearson'), 5, 8, 'Sachin']"
      ]
     },
     "execution_count": 29,
     "metadata": {},
     "output_type": "execute_result"
    }
   ],
   "source": [
    "#extend\n",
    "L = [\"Chemistry\", \"Biology\", [1989,2004], (\"oreily\",\"Pearson\")]\n",
    "L.extend([5,8,\"Sachin\"])\n",
    "L"
   ]
  },
  {
   "cell_type": "code",
   "execution_count": 30,
   "id": "511d50eb",
   "metadata": {},
   "outputs": [
    {
     "data": {
      "text/plain": [
       "['Chemistry', 'Biology', [1989, 2004], ('oreily', 'Pearson'), [5, 8, 'Sachin']]"
      ]
     },
     "execution_count": 30,
     "metadata": {},
     "output_type": "execute_result"
    }
   ],
   "source": [
    "#append\n",
    "L = [\"Chemistry\", \"Biology\", [1989,2004], (\"oreily\",\"Pearson\")]\n",
    "L.append([5,8,\"Sachin\"])\n",
    "L"
   ]
  },
  {
   "cell_type": "code",
   "execution_count": 35,
   "id": "be3e27e1",
   "metadata": {},
   "outputs": [
    {
     "data": {
      "text/plain": [
       "['Chemistry', 'Biology', ('oreily', 'Pearson')]"
      ]
     },
     "execution_count": 35,
     "metadata": {},
     "output_type": "execute_result"
    }
   ],
   "source": [
    "#del command\n",
    "L = [\"Chemistry\", \"Biology\", [1989,2004], (\"oreily\",\"Pearson\")]\n",
    "del L[2]\n",
    "L"
   ]
  },
  {
   "cell_type": "code",
   "execution_count": 36,
   "id": "1778517b",
   "metadata": {},
   "outputs": [],
   "source": [
    "del L[0:2]   # del command can also be used with slice"
   ]
  },
  {
   "cell_type": "code",
   "execution_count": 37,
   "id": "799dd83b",
   "metadata": {},
   "outputs": [
    {
     "data": {
      "text/plain": [
       "[('oreily', 'Pearson')]"
      ]
     },
     "execution_count": 37,
     "metadata": {},
     "output_type": "execute_result"
    }
   ],
   "source": [
    "L"
   ]
  },
  {
   "cell_type": "code",
   "execution_count": 38,
   "id": "e050c0ef",
   "metadata": {},
   "outputs": [
    {
     "data": {
      "text/plain": [
       "['Chemistry', 'Biology', [1989, 2004]]"
      ]
     },
     "execution_count": 38,
     "metadata": {},
     "output_type": "execute_result"
    }
   ],
   "source": [
    "#pop\n",
    "L = [\"Chemistry\", \"Biology\", [1989,2004], (\"oreily\",\"Pearson\")]   #Delete the last element\n",
    "L.pop()\n",
    "L"
   ]
  },
  {
   "cell_type": "code",
   "execution_count": 41,
   "id": "4a13fd36",
   "metadata": {},
   "outputs": [
    {
     "data": {
      "text/plain": [
       "['Biology', [1989, 2004], ('oreily', 'Pearson')]"
      ]
     },
     "execution_count": 41,
     "metadata": {},
     "output_type": "execute_result"
    }
   ],
   "source": [
    "#remove\n",
    "L = [\"Chemistry\", \"Biology\", [1989,2004], (\"oreily\",\"Pearson\")]\n",
    "L.remove(\"Chemistry\")\n",
    "L"
   ]
  },
  {
   "cell_type": "code",
   "execution_count": 45,
   "id": "0fb5f97c",
   "metadata": {},
   "outputs": [
    {
     "data": {
      "text/plain": [
       "[8, 9, 23, 29, 32]"
      ]
     },
     "execution_count": 45,
     "metadata": {},
     "output_type": "execute_result"
    }
   ],
   "source": [
    "#Sorting Lines\n",
    "                                      # Ascending order\n",
    "l = [32,23,29,9,8]\n",
    "l.sort()\n",
    "l"
   ]
  },
  {
   "cell_type": "code",
   "execution_count": 46,
   "id": "9e0b5383",
   "metadata": {},
   "outputs": [
    {
     "data": {
      "text/plain": [
       "[32, 29, 23, 9, 8]"
      ]
     },
     "execution_count": 46,
     "metadata": {},
     "output_type": "execute_result"
    }
   ],
   "source": [
    "l.sort(reverse = True)\n",
    "l                                  #To reverse the sort i.e Descending order"
   ]
  },
  {
   "cell_type": "markdown",
   "id": "87b19930",
   "metadata": {},
   "source": [
    "## Difference Between Sort and Sorted"
   ]
  },
  {
   "cell_type": "code",
   "execution_count": 47,
   "id": "446bc31a",
   "metadata": {},
   "outputs": [
    {
     "name": "stdout",
     "output_type": "stream",
     "text": [
      "['Mango', 'Orange', 'Strawberry']\n",
      "None\n"
     ]
    }
   ],
   "source": [
    "#sort\n",
    "A =[\"Orange\",\"Strawberry\",\"Mango\"]\n",
    "B = A.sort()\n",
    "print(A)\n",
    "print(B)                                     #Sort the list in ascending order wrt to their ASCII values but will return the same list in a  sorted form"
   ]
  },
  {
   "cell_type": "code",
   "execution_count": 50,
   "id": "be17b5a5",
   "metadata": {},
   "outputs": [
    {
     "name": "stdout",
     "output_type": "stream",
     "text": [
      "['Orange', 'Strawberry', 'Mango']\n",
      "['Mango', 'Orange', 'Strawberry']\n"
     ]
    }
   ],
   "source": [
    "# Sorted\n",
    "A =[\"Orange\",\"Strawberry\",\"Mango\"]\n",
    "C = sorted(A)\n",
    "print(A)                          #Original object is untouched\n",
    "print(C)                          # Sorted function has given a new list of the sorted elements\n",
    "                  "
   ]
  },
  {
   "cell_type": "markdown",
   "id": "c391c238",
   "metadata": {},
   "source": [
    "### Shallow Copying"
   ]
  },
  {
   "cell_type": "code",
   "execution_count": 51,
   "id": "7871ab1b",
   "metadata": {},
   "outputs": [],
   "source": [
    "A =[\"Orange\",\"Strawberry\",\"Mango\"]   # A is not replicated it is just copied to vartiable B\n",
    "B =A\n",
    "A[0]=\"Apple\"\n"
   ]
  },
  {
   "cell_type": "code",
   "execution_count": 52,
   "id": "d904162c",
   "metadata": {},
   "outputs": [
    {
     "data": {
      "text/plain": [
       "['Apple', 'Strawberry', 'Mango']"
      ]
     },
     "execution_count": 52,
     "metadata": {},
     "output_type": "execute_result"
    }
   ],
   "source": [
    "A"
   ]
  },
  {
   "cell_type": "code",
   "execution_count": 53,
   "id": "d12e3c94",
   "metadata": {},
   "outputs": [
    {
     "data": {
      "text/plain": [
       "['Apple', 'Strawberry', 'Mango']"
      ]
     },
     "execution_count": 53,
     "metadata": {},
     "output_type": "execute_result"
    }
   ],
   "source": [
    "B "
   ]
  },
  {
   "cell_type": "code",
   "execution_count": 54,
   "id": "25ebef74",
   "metadata": {},
   "outputs": [],
   "source": [
    "#using shallow copying\n",
    "A =[\"Orange\",\"Strawberry\",\"Mango\"]\n",
    "B =A[:]                            #Element is List A has changed but the element in List 'B' remains untouched\n",
    "A[0]= \"Apple\"                   "
   ]
  },
  {
   "cell_type": "code",
   "execution_count": 55,
   "id": "b74febd2",
   "metadata": {},
   "outputs": [
    {
     "data": {
      "text/plain": [
       "['Apple', 'Strawberry', 'Mango']"
      ]
     },
     "execution_count": 55,
     "metadata": {},
     "output_type": "execute_result"
    }
   ],
   "source": [
    "A"
   ]
  },
  {
   "cell_type": "code",
   "execution_count": 56,
   "id": "347ffb6c",
   "metadata": {},
   "outputs": [
    {
     "data": {
      "text/plain": [
       "['Orange', 'Strawberry', 'Mango']"
      ]
     },
     "execution_count": 56,
     "metadata": {},
     "output_type": "execute_result"
    }
   ],
   "source": [
    "B"
   ]
  },
  {
   "cell_type": "code",
   "execution_count": 58,
   "id": "15652b8a",
   "metadata": {},
   "outputs": [
    {
     "name": "stdout",
     "output_type": "stream",
     "text": [
      "['five', 'four', 'one', 'six', 'three', 'two']\n",
      "['one', 'two', 'three', 'four', 'five', 'six']\n"
     ]
    }
   ],
   "source": [
    "L = ['one','two','three', 'four', 'five', 'six']\n",
    "print(sorted(L))\n",
    "print (L)"
   ]
  },
  {
   "cell_type": "code",
   "execution_count": null,
   "id": "daed9b15",
   "metadata": {},
   "outputs": [],
   "source": []
  }
 ],
 "metadata": {
  "kernelspec": {
   "display_name": "Python 3",
   "language": "python",
   "name": "python3"
  },
  "language_info": {
   "codemirror_mode": {
    "name": "ipython",
    "version": 3
   },
   "file_extension": ".py",
   "mimetype": "text/x-python",
   "name": "python",
   "nbconvert_exporter": "python",
   "pygments_lexer": "ipython3",
   "version": "3.8.8"
  }
 },
 "nbformat": 4,
 "nbformat_minor": 5
}
