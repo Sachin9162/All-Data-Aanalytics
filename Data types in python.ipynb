{
 "cells": [
  {
   "cell_type": "code",
   "execution_count": 5,
   "id": "a2c1c1ea",
   "metadata": {},
   "outputs": [
    {
     "name": "stdout",
     "output_type": "stream",
     "text": [
      "rahul\n"
     ]
    }
   ],
   "source": [
    "name= (\"rahul\")\n",
    "print(name)"
   ]
  },
  {
   "cell_type": "code",
   "execution_count": 6,
   "id": "b1e37574",
   "metadata": {},
   "outputs": [
    {
     "name": "stdout",
     "output_type": "stream",
     "text": [
      "Enter you name here:Vandana\n",
      "welcome Vandana\n"
     ]
    }
   ],
   "source": [
    "name= input(\"Enter you name here:\")\n",
    "print(\"welcome\",name)"
   ]
  },
  {
   "cell_type": "code",
   "execution_count": 7,
   "id": "17e1d233",
   "metadata": {},
   "outputs": [
    {
     "name": "stdout",
     "output_type": "stream",
     "text": [
      "Enter your first name here: Vandana\n",
      "Enter your last name here:Rani\n",
      "Hello there! Welcome Vandana Rani\n"
     ]
    }
   ],
   "source": [
    "first_name= input(\"Enter your first name here: \")\n",
    "last_name= input(\"Enter your last name here:\")\n",
    "print(\"Hello there! Welcome\",first_name, last_name)"
   ]
  },
  {
   "cell_type": "code",
   "execution_count": 8,
   "id": "82f28e72",
   "metadata": {},
   "outputs": [
    {
     "data": {
      "text/plain": [
       "3"
      ]
     },
     "execution_count": 8,
     "metadata": {},
     "output_type": "execute_result"
    }
   ],
   "source": [
    "x=3.1333\n",
    "int(x)"
   ]
  },
  {
   "cell_type": "code",
   "execution_count": 9,
   "id": "624eb273",
   "metadata": {},
   "outputs": [
    {
     "data": {
      "text/plain": [
       "3.1333"
      ]
     },
     "execution_count": 9,
     "metadata": {},
     "output_type": "execute_result"
    }
   ],
   "source": [
    "float(x)"
   ]
  },
  {
   "cell_type": "code",
   "execution_count": 10,
   "id": "4ea01523",
   "metadata": {},
   "outputs": [
    {
     "data": {
      "text/plain": [
       "True"
      ]
     },
     "execution_count": 10,
     "metadata": {},
     "output_type": "execute_result"
    }
   ],
   "source": [
    "bool(x)"
   ]
  },
  {
   "cell_type": "code",
   "execution_count": 11,
   "id": "c7d77c7a",
   "metadata": {},
   "outputs": [
    {
     "data": {
      "text/plain": [
       "'3.1333'"
      ]
     },
     "execution_count": 11,
     "metadata": {},
     "output_type": "execute_result"
    }
   ],
   "source": [
    "str(x)"
   ]
  },
  {
   "cell_type": "code",
   "execution_count": 12,
   "id": "f296e818",
   "metadata": {},
   "outputs": [
    {
     "data": {
      "text/plain": [
       "2.0"
      ]
     },
     "execution_count": 12,
     "metadata": {},
     "output_type": "execute_result"
    }
   ],
   "source": [
    "float(2)"
   ]
  },
  {
   "cell_type": "code",
   "execution_count": 14,
   "id": "f5192f6b",
   "metadata": {},
   "outputs": [
    {
     "data": {
      "text/plain": [
       "1"
      ]
     },
     "execution_count": 14,
     "metadata": {},
     "output_type": "execute_result"
    }
   ],
   "source": [
    "int(True)"
   ]
  },
  {
   "cell_type": "code",
   "execution_count": 15,
   "id": "3c09bf84",
   "metadata": {},
   "outputs": [
    {
     "data": {
      "text/plain": [
       "0"
      ]
     },
     "execution_count": 15,
     "metadata": {},
     "output_type": "execute_result"
    }
   ],
   "source": [
    "int(False)"
   ]
  },
  {
   "cell_type": "code",
   "execution_count": 16,
   "id": "8f33ae88",
   "metadata": {},
   "outputs": [
    {
     "data": {
      "text/plain": [
       "1.0"
      ]
     },
     "execution_count": 16,
     "metadata": {},
     "output_type": "execute_result"
    }
   ],
   "source": [
    "float(True)"
   ]
  },
  {
   "cell_type": "code",
   "execution_count": 17,
   "id": "50908479",
   "metadata": {},
   "outputs": [
    {
     "data": {
      "text/plain": [
       "0.0"
      ]
     },
     "execution_count": 17,
     "metadata": {},
     "output_type": "execute_result"
    }
   ],
   "source": [
    "float(False)"
   ]
  },
  {
   "cell_type": "code",
   "execution_count": 18,
   "id": "60d412b2",
   "metadata": {},
   "outputs": [
    {
     "data": {
      "text/plain": [
       "False"
      ]
     },
     "execution_count": 18,
     "metadata": {},
     "output_type": "execute_result"
    }
   ],
   "source": [
    "bool(0)"
   ]
  },
  {
   "cell_type": "code",
   "execution_count": 19,
   "id": "49de91ae",
   "metadata": {},
   "outputs": [
    {
     "data": {
      "text/plain": [
       "True"
      ]
     },
     "execution_count": 19,
     "metadata": {},
     "output_type": "execute_result"
    }
   ],
   "source": [
    "bool(1)"
   ]
  },
  {
   "cell_type": "code",
   "execution_count": 27,
   "id": "01c5832c",
   "metadata": {},
   "outputs": [
    {
     "name": "stdout",
     "output_type": "stream",
     "text": [
      "Sum of given numbers is: 11\n",
      "Difference of given numbers is: 7\n",
      "Product of given numbers is: 18\n",
      " Result after dividing a by b is: 4.5\n",
      "floor division is: 4\n",
      "Modulus or Remainder is: 1\n",
      "exponential is: 81\n"
     ]
    }
   ],
   "source": [
    "a= 9\n",
    "b= 2\n",
    "addition = (a+b)\n",
    "subtraction = (a-b)\n",
    "multiplication = (a*b)\n",
    "division = (a/b)\n",
    "floor_division =(a//b)\n",
    "modulus_or_remainder =(a%b)\n",
    "exponential = (a**b)\n",
    "\n",
    "print(\"Sum of given numbers is:\", addition)\n",
    "print(\"Difference of given numbers is:\", subtraction )\n",
    "print(\"Product of given numbers is:\", multiplication)\n",
    "print(\" Result after dividing a by b is:\", division)\n",
    "print(\"floor division is:\", floor_division )\n",
    "print(\"Modulus or Remainder is:\", modulus_or_remainder)\n",
    "print(\"exponential is:\", exponential)"
   ]
  },
  {
   "cell_type": "code",
   "execution_count": 28,
   "id": "61626c0f",
   "metadata": {},
   "outputs": [],
   "source": [
    "string= \"VAORA1234NT\""
   ]
  },
  {
   "cell_type": "code",
   "execution_count": 29,
   "id": "78c51381",
   "metadata": {},
   "outputs": [
    {
     "data": {
      "text/plain": [
       "11"
      ]
     },
     "execution_count": 29,
     "metadata": {},
     "output_type": "execute_result"
    }
   ],
   "source": [
    "len(string)"
   ]
  },
  {
   "cell_type": "code",
   "execution_count": 30,
   "id": "0ae87530",
   "metadata": {},
   "outputs": [
    {
     "data": {
      "text/plain": [
       "'V'"
      ]
     },
     "execution_count": 30,
     "metadata": {},
     "output_type": "execute_result"
    }
   ],
   "source": [
    "string[0]"
   ]
  },
  {
   "cell_type": "code",
   "execution_count": 31,
   "id": "5773ba07",
   "metadata": {},
   "outputs": [
    {
     "data": {
      "text/plain": [
       "'2'"
      ]
     },
     "execution_count": 31,
     "metadata": {},
     "output_type": "execute_result"
    }
   ],
   "source": [
    "string[6]"
   ]
  },
  {
   "cell_type": "code",
   "execution_count": 32,
   "id": "2350111e",
   "metadata": {},
   "outputs": [
    {
     "data": {
      "text/plain": [
       "'N'"
      ]
     },
     "execution_count": 32,
     "metadata": {},
     "output_type": "execute_result"
    }
   ],
   "source": [
    "string[9]"
   ]
  },
  {
   "cell_type": "code",
   "execution_count": 33,
   "id": "b0daad0f",
   "metadata": {},
   "outputs": [
    {
     "data": {
      "text/plain": [
       "'T'"
      ]
     },
     "execution_count": 33,
     "metadata": {},
     "output_type": "execute_result"
    }
   ],
   "source": [
    "string[-1]"
   ]
  },
  {
   "cell_type": "code",
   "execution_count": 34,
   "id": "b75288a2",
   "metadata": {},
   "outputs": [
    {
     "data": {
      "text/plain": [
       "'3'"
      ]
     },
     "execution_count": 34,
     "metadata": {},
     "output_type": "execute_result"
    }
   ],
   "source": [
    "string[-4]"
   ]
  },
  {
   "cell_type": "code",
   "execution_count": 39,
   "id": "3ac2a454",
   "metadata": {},
   "outputs": [
    {
     "name": "stdout",
     "output_type": "stream",
     "text": [
      "sachin  kumar\n"
     ]
    }
   ],
   "source": [
    "first_name=(\"sachin\")\n",
    "last_name=(\"kumar\")\n",
    "name= first_name+\"  \"+last_name\n",
    "print(name)"
   ]
  },
  {
   "cell_type": "code",
   "execution_count": 45,
   "id": "0df68ce4",
   "metadata": {},
   "outputs": [
    {
     "name": "stdout",
     "output_type": "stream",
     "text": [
      "I am 22 years old\n"
     ]
    }
   ],
   "source": [
    "age= 22\n",
    "print(\"I am \" + str(age) + \" years old\")"
   ]
  },
  {
   "cell_type": "code",
   "execution_count": 58,
   "id": "bdd93d04",
   "metadata": {},
   "outputs": [
    {
     "name": "stdout",
     "output_type": "stream",
     "text": [
      "is \n"
     ]
    }
   ],
   "source": [
    "statement=\"Python is a fun language\"\n",
    "sliced_statement= statement[7:10]\n",
    "print(sliced_statement)"
   ]
  },
  {
   "cell_type": "code",
   "execution_count": 59,
   "id": "a2c9edac",
   "metadata": {},
   "outputs": [
    {
     "name": "stdout",
     "output_type": "stream",
     "text": [
      "Python\n"
     ]
    }
   ],
   "source": [
    "st2= statement[ :6]\n",
    "print(st2)"
   ]
  },
  {
   "cell_type": "code",
   "execution_count": 64,
   "id": "fae1633c",
   "metadata": {},
   "outputs": [
    {
     "name": "stdout",
     "output_type": "stream",
     "text": [
      " a fun language\n"
     ]
    }
   ],
   "source": [
    "st3= statement[9: ]\n",
    "print(st3)"
   ]
  },
  {
   "cell_type": "code",
   "execution_count": 67,
   "id": "aaa11339",
   "metadata": {},
   "outputs": [
    {
     "name": "stdout",
     "output_type": "stream",
     "text": [
      "True\n"
     ]
    }
   ],
   "source": [
    "print(\"Python\" in statement)"
   ]
  },
  {
   "cell_type": "code",
   "execution_count": 68,
   "id": "1289f7ce",
   "metadata": {},
   "outputs": [
    {
     "name": "stdout",
     "output_type": "stream",
     "text": [
      "False\n"
     ]
    }
   ],
   "source": [
    "print(\"Pythin\" in statement)"
   ]
  },
  {
   "cell_type": "code",
   "execution_count": 69,
   "id": "71ab92e7",
   "metadata": {},
   "outputs": [
    {
     "name": "stdout",
     "output_type": "stream",
     "text": [
      "False\n"
     ]
    }
   ],
   "source": [
    "print(\"python\" in statement)"
   ]
  },
  {
   "cell_type": "code",
   "execution_count": 70,
   "id": "84e21fb8",
   "metadata": {},
   "outputs": [
    {
     "name": "stdout",
     "output_type": "stream",
     "text": [
      "True\n"
     ]
    }
   ],
   "source": [
    "print(\"pythin\" not in statement)"
   ]
  },
  {
   "cell_type": "code",
   "execution_count": 71,
   "id": "ee9e6e24",
   "metadata": {},
   "outputs": [
    {
     "name": "stdout",
     "output_type": "stream",
     "text": [
      "True\n"
     ]
    }
   ],
   "source": [
    "print(\"python\" not in statement)"
   ]
  },
  {
   "cell_type": "code",
   "execution_count": 73,
   "id": "614821ad",
   "metadata": {},
   "outputs": [
    {
     "name": "stdout",
     "output_type": "stream",
     "text": [
      "False\n"
     ]
    }
   ],
   "source": [
    "print(\"Python\" not in statement)"
   ]
  },
  {
   "cell_type": "code",
   "execution_count": 75,
   "id": "fcb225ab",
   "metadata": {},
   "outputs": [
    {
     "name": "stdout",
     "output_type": "stream",
     "text": [
      "Python is a fun languagePython is a fun languagePython is a fun language\n"
     ]
    }
   ],
   "source": [
    "print(statement*3)"
   ]
  },
  {
   "cell_type": "code",
   "execution_count": 80,
   "id": "a24ab0d6",
   "metadata": {},
   "outputs": [
    {
     "name": "stdout",
     "output_type": "stream",
     "text": [
      "Python\n"
     ]
    }
   ],
   "source": [
    "word=\"I love Python programming\"\n",
    "sliced_word= word[-18:-12]\n",
    "print(sliced_word)"
   ]
  },
  {
   "cell_type": "code",
   "execution_count": 81,
   "id": "2a4efd5c",
   "metadata": {},
   "outputs": [
    {
     "data": {
      "text/plain": [
       "'e'"
      ]
     },
     "execution_count": 81,
     "metadata": {},
     "output_type": "execute_result"
    }
   ],
   "source": [
    "x= 'len'\n",
    "x[len(x*2)-5]"
   ]
  },
  {
   "cell_type": "code",
   "execution_count": 86,
   "id": "d703bd9f",
   "metadata": {},
   "outputs": [
    {
     "name": "stdout",
     "output_type": "stream",
     "text": [
      "HI MY NAME IS SACHIN\n"
     ]
    }
   ],
   "source": [
    "lower_str=(\"hi my name is sachin\")\n",
    "print(lower_str.upper())"
   ]
  },
  {
   "cell_type": "code",
   "execution_count": 87,
   "id": "8c4c5611",
   "metadata": {},
   "outputs": [
    {
     "name": "stdout",
     "output_type": "stream",
     "text": [
      "i like to play video games\n"
     ]
    }
   ],
   "source": [
    "upper_str=(\"I LIKE TO PLAY VIDEO GAMES\")\n",
    "print(upper_str.lower())"
   ]
  },
  {
   "cell_type": "code",
   "execution_count": 90,
   "id": "8ba272ff",
   "metadata": {},
   "outputs": [
    {
     "name": "stdout",
     "output_type": "stream",
     "text": [
      "Hi my name is sachin\n"
     ]
    }
   ],
   "source": [
    "rear=(\"Hi my name is sachin    \")\n",
    "print(rear.rstrip())"
   ]
  },
  {
   "cell_type": "code",
   "execution_count": 100,
   "id": "d806f783",
   "metadata": {},
   "outputs": [
    {
     "name": "stdout",
     "output_type": "stream",
     "text": [
      "Hi my name is sachin\n"
     ]
    }
   ],
   "source": [
    "rear_smthg=(\"Hi my name is sachin%\")\n",
    "print(rear_smthg.rstrip('%'))"
   ]
  },
  {
   "cell_type": "code",
   "execution_count": 102,
   "id": "0c95c4dc",
   "metadata": {},
   "outputs": [
    {
     "name": "stdout",
     "output_type": "stream",
     "text": [
      "Hi my name is sachin\n"
     ]
    }
   ],
   "source": [
    "front=(\"      Hi my name is sachin\")\n",
    "print(front.lstrip())"
   ]
  },
  {
   "cell_type": "code",
   "execution_count": 106,
   "id": "af44f8aa",
   "metadata": {},
   "outputs": [
    {
     "name": "stdout",
     "output_type": "stream",
     "text": [
      "Hi my name is sachin\n"
     ]
    }
   ],
   "source": [
    "front_smthg=(\"%Hi my name is sachin\")\n",
    "print(front_smthg.lstrip('%'))"
   ]
  },
  {
   "cell_type": "code",
   "execution_count": 108,
   "id": "66158a95",
   "metadata": {},
   "outputs": [
    {
     "name": "stdout",
     "output_type": "stream",
     "text": [
      "Hi my name is sachin\n"
     ]
    }
   ],
   "source": [
    "front_rear=(\"%%Hi my name is sachin%%\")\n",
    "print(front_rear.strip('%'))"
   ]
  },
  {
   "cell_type": "code",
   "execution_count": 110,
   "id": "389ddec3",
   "metadata": {},
   "outputs": [
    {
     "name": "stdout",
     "output_type": "stream",
     "text": [
      "Hi my name is sachin\n"
     ]
    }
   ],
   "source": [
    "diff=(\"%%%%%Hi my name is sachin******\")\n",
    "print(diff.lstrip('%').rstrip('*'))"
   ]
  },
  {
   "cell_type": "code",
   "execution_count": 116,
   "id": "9a059582",
   "metadata": {},
   "outputs": [
    {
     "name": "stdout",
     "output_type": "stream",
     "text": [
      "3\n",
      "2\n"
     ]
    }
   ],
   "source": [
    "diff=(\"Hi my name is sachin\")\n",
    "print(diff.count('i'))\n",
    "print(diff.count('i',3))"
   ]
  },
  {
   "cell_type": "code",
   "execution_count": 118,
   "id": "41a0885d",
   "metadata": {},
   "outputs": [
    {
     "name": "stdout",
     "output_type": "stream",
     "text": [
      "I am 22 years old\n"
     ]
    }
   ],
   "source": [
    "age = 22\n",
    "my_age=(\"I am {0} years old\".format(age))\n",
    "print(my_age)"
   ]
  },
  {
   "cell_type": "code",
   "execution_count": 123,
   "id": "135ba47a",
   "metadata": {},
   "outputs": [
    {
     "name": "stdout",
     "output_type": "stream",
     "text": [
      "I Love Coding in python\n"
     ]
    }
   ],
   "source": [
    "A= \"Love\"\n",
    "B= \"Coding\"\n",
    "C= \"python\"\n",
    "\n",
    "print(\"I {0} {1} in {2}\".format(A,B,C))"
   ]
  },
  {
   "cell_type": "code",
   "execution_count": null,
   "id": "2dd43060",
   "metadata": {},
   "outputs": [],
   "source": []
  }
 ],
 "metadata": {
  "kernelspec": {
   "display_name": "Python 3",
   "language": "python",
   "name": "python3"
  },
  "language_info": {
   "codemirror_mode": {
    "name": "ipython",
    "version": 3
   },
   "file_extension": ".py",
   "mimetype": "text/x-python",
   "name": "python",
   "nbconvert_exporter": "python",
   "pygments_lexer": "ipython3",
   "version": "3.8.8"
  }
 },
 "nbformat": 4,
 "nbformat_minor": 5
}
