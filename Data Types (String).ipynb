{
 "cells": [
  {
   "cell_type": "markdown",
   "id": "8d1763ff",
   "metadata": {},
   "source": [
    "## String"
   ]
  },
  {
   "cell_type": "code",
   "execution_count": 9,
   "id": "8c4b0a68",
   "metadata": {},
   "outputs": [
    {
     "data": {
      "text/plain": [
       "'algebra'"
      ]
     },
     "execution_count": 9,
     "metadata": {},
     "output_type": "execute_result"
    }
   ],
   "source": [
    "#Single word\n",
    "my_first_string = 'algebra'\n",
    "my_first_string"
   ]
  },
  {
   "cell_type": "code",
   "execution_count": 10,
   "id": "87e97727",
   "metadata": {},
   "outputs": [
    {
     "data": {
      "text/plain": [
       "str"
      ]
     },
     "execution_count": 10,
     "metadata": {},
     "output_type": "execute_result"
    }
   ],
   "source": [
    "type(my_first_string)"
   ]
  },
  {
   "cell_type": "code",
   "execution_count": 11,
   "id": "0620a900",
   "metadata": {},
   "outputs": [],
   "source": [
    "#Entire phrase\n",
    "phrase= 'Statistics sits at the heart of Machine Learning'"
   ]
  },
  {
   "cell_type": "code",
   "execution_count": 12,
   "id": "76bb1fb6",
   "metadata": {},
   "outputs": [
    {
     "data": {
      "text/plain": [
       "'Statistics sits at the heart of Machine Learning'"
      ]
     },
     "execution_count": 12,
     "metadata": {},
     "output_type": "execute_result"
    }
   ],
   "source": [
    "phrase"
   ]
  },
  {
   "cell_type": "code",
   "execution_count": 13,
   "id": "91464dd0",
   "metadata": {},
   "outputs": [
    {
     "data": {
      "text/plain": [
       "str"
      ]
     },
     "execution_count": 13,
     "metadata": {},
     "output_type": "execute_result"
    }
   ],
   "source": [
    "#statement toget the type of a variable\n",
    "type(my_first_string)"
   ]
  },
  {
   "cell_type": "code",
   "execution_count": 14,
   "id": "c0b84978",
   "metadata": {},
   "outputs": [
    {
     "data": {
      "text/plain": [
       "str"
      ]
     },
     "execution_count": 14,
     "metadata": {},
     "output_type": "execute_result"
    }
   ],
   "source": [
    "type(phrase)"
   ]
  },
  {
   "cell_type": "code",
   "execution_count": 15,
   "id": "caaa9546",
   "metadata": {},
   "outputs": [
    {
     "name": "stdout",
     "output_type": "stream",
     "text": [
      "String built  in double quotes\n"
     ]
    }
   ],
   "source": [
    "#We can also use double quote to build strings\n",
    "my_string= \"String built  in double quotes\"\n",
    "print(my_string)"
   ]
  },
  {
   "cell_type": "code",
   "execution_count": 16,
   "id": "e7201a4e",
   "metadata": {},
   "outputs": [
    {
     "data": {
      "text/plain": [
       "'String built  in double quotes'"
      ]
     },
     "execution_count": 16,
     "metadata": {},
     "output_type": "execute_result"
    }
   ],
   "source": [
    "my_string"
   ]
  },
  {
   "cell_type": "code",
   "execution_count": 17,
   "id": "8ebd2d14",
   "metadata": {},
   "outputs": [
    {
     "data": {
      "text/plain": [
       "str"
      ]
     },
     "execution_count": 17,
     "metadata": {},
     "output_type": "execute_result"
    }
   ],
   "source": [
    "type(my_string)"
   ]
  },
  {
   "cell_type": "code",
   "execution_count": 20,
   "id": "0727d048",
   "metadata": {},
   "outputs": [
    {
     "ename": "SyntaxError",
     "evalue": "invalid syntax (<ipython-input-20-9ad06c542b31>, line 2)",
     "output_type": "error",
     "traceback": [
      "\u001b[1;36m  File \u001b[1;32m\"<ipython-input-20-9ad06c542b31>\"\u001b[1;36m, line \u001b[1;32m2\u001b[0m\n\u001b[1;33m    sentence='I' am using single quotes, but this will create an error'\u001b[0m\n\u001b[1;37m                 ^\u001b[0m\n\u001b[1;31mSyntaxError\u001b[0m\u001b[1;31m:\u001b[0m invalid syntax\n"
     ]
    }
   ],
   "source": [
    "#Be careful with quotes\n",
    "sentence='I'm using single quotes, but this will create an error'\n",
    "print(sentence)"
   ]
  },
  {
   "cell_type": "code",
   "execution_count": 2,
   "id": "c035309b",
   "metadata": {},
   "outputs": [
    {
     "name": "stdout",
     "output_type": "stream",
     "text": [
      "I'm using double quotes and inside it I am using single quotes, so this is the correct way\n"
     ]
    }
   ],
   "source": [
    "#Correct way to write the above string is:-\n",
    "sentence1= \"I'm using double quotes and inside it I am using single quotes, so this is the correct way\"\n",
    "print(sentence1)"
   ]
  },
  {
   "cell_type": "code",
   "execution_count": 3,
   "id": "8af51618",
   "metadata": {},
   "outputs": [
    {
     "name": "stdout",
     "output_type": "stream",
     "text": [
      "#\n"
     ]
    }
   ],
   "source": [
    "hashtag=\"#\"\n",
    "print(hashtag)"
   ]
  },
  {
   "cell_type": "code",
   "execution_count": 4,
   "id": "dfa1ce4d",
   "metadata": {},
   "outputs": [
    {
     "data": {
      "text/plain": [
       "str"
      ]
     },
     "execution_count": 4,
     "metadata": {},
     "output_type": "execute_result"
    }
   ],
   "source": [
    "type(hashtag)"
   ]
  },
  {
   "cell_type": "markdown",
   "id": "fabe37e8",
   "metadata": {},
   "source": [
    "### How to Print Strings"
   ]
  },
  {
   "cell_type": "code",
   "execution_count": 6,
   "id": "27280e55",
   "metadata": {},
   "outputs": [
    {
     "data": {
      "text/plain": [
       "'DEep Learning'"
      ]
     },
     "execution_count": 6,
     "metadata": {},
     "output_type": "execute_result"
    }
   ],
   "source": [
    "#We can simply declare a string\n",
    "'DEep Learning'"
   ]
  },
  {
   "cell_type": "code",
   "execution_count": 7,
   "id": "d2dc9d83",
   "metadata": {},
   "outputs": [
    {
     "data": {
      "text/plain": [
       "'Calculus'"
      ]
     },
     "execution_count": 7,
     "metadata": {},
     "output_type": "execute_result"
    }
   ],
   "source": [
    "#Note theat we can't output multiple strings this way\n",
    "'Liniear Algebra'\n",
    "'Calculus'   #latest one will get printed"
   ]
  },
  {
   "cell_type": "code",
   "execution_count": 9,
   "id": "4e78ff51",
   "metadata": {
    "scrolled": true
   },
   "outputs": [
    {
     "name": "stdout",
     "output_type": "stream",
     "text": [
      "Liniear \n",
      "Algebra\n",
      "Calculus\n"
     ]
    }
   ],
   "source": [
    "print('Liniear Algebra')\n",
    "print('Calculus')"
   ]
  },
  {
   "cell_type": "code",
   "execution_count": 10,
   "id": "d75b2388",
   "metadata": {},
   "outputs": [
    {
     "name": "stdout",
     "output_type": "stream",
     "text": [
      "Hello everyone!\n",
      "My name is Sachin\n"
     ]
    }
   ],
   "source": [
    "# \\n is used to change line\n",
    "print(\"Hello everyone!\\nMy name is Sachin\")"
   ]
  },
  {
   "cell_type": "markdown",
   "id": "bcfcc9d3",
   "metadata": {},
   "source": [
    "#### We can use print() statement to print a string."
   ]
  },
  {
   "cell_type": "code",
   "execution_count": 13,
   "id": "a794a283",
   "metadata": {},
   "outputs": [
    {
     "name": "stdout",
     "output_type": "stream",
     "text": [
      "Use \n",
      " to print a new line\n",
      "\n",
      "\n",
      "See what \n",
      " I Mean?\n"
     ]
    }
   ],
   "source": [
    "# print('Linear Algebra')\n",
    "# print('Calculus')\n",
    "print('Use \\n to print a new line')\n",
    "print('\\n')\n",
    "print('See what \\n I Mean?')"
   ]
  },
  {
   "cell_type": "markdown",
   "id": "5e77f620",
   "metadata": {},
   "source": [
    "#### Playing with strings"
   ]
  },
  {
   "cell_type": "code",
   "execution_count": 21,
   "id": "3b84ea66",
   "metadata": {},
   "outputs": [],
   "source": [
    "my_name = 'Sachin'\n",
    "my_name1 = 'Sac hin'\n",
    "my_name2 = 'Sac          hin'\n",
    "my_name3 = '      Sachin'"
   ]
  },
  {
   "cell_type": "code",
   "execution_count": 22,
   "id": "e5ad0961",
   "metadata": {},
   "outputs": [
    {
     "data": {
      "text/plain": [
       "6"
      ]
     },
     "execution_count": 22,
     "metadata": {},
     "output_type": "execute_result"
    }
   ],
   "source": [
    "len(my_name)"
   ]
  },
  {
   "cell_type": "code",
   "execution_count": 23,
   "id": "0b32ebb0",
   "metadata": {},
   "outputs": [
    {
     "data": {
      "text/plain": [
       "7"
      ]
     },
     "execution_count": 23,
     "metadata": {},
     "output_type": "execute_result"
    }
   ],
   "source": [
    "len(my_name1)  #Here there is a space and space is also considered to be a character"
   ]
  },
  {
   "cell_type": "code",
   "execution_count": 24,
   "id": "4279d30d",
   "metadata": {},
   "outputs": [
    {
     "data": {
      "text/plain": [
       "16"
      ]
     },
     "execution_count": 24,
     "metadata": {},
     "output_type": "execute_result"
    }
   ],
   "source": [
    "len(my_name2) "
   ]
  },
  {
   "cell_type": "code",
   "execution_count": 25,
   "id": "9bc2be57",
   "metadata": {},
   "outputs": [
    {
     "data": {
      "text/plain": [
       "12"
      ]
     },
     "execution_count": 25,
     "metadata": {},
     "output_type": "execute_result"
    }
   ],
   "source": [
    "len(my_name3)"
   ]
  },
  {
   "cell_type": "code",
   "execution_count": 26,
   "id": "3bc6123a",
   "metadata": {},
   "outputs": [
    {
     "data": {
      "text/plain": [
       "False"
      ]
     },
     "execution_count": 26,
     "metadata": {},
     "output_type": "execute_result"
    }
   ],
   "source": [
    "'customer name' == 'customer_name'"
   ]
  },
  {
   "cell_type": "code",
   "execution_count": 27,
   "id": "93f7f341",
   "metadata": {},
   "outputs": [
    {
     "data": {
      "text/plain": [
       "True"
      ]
     },
     "execution_count": 27,
     "metadata": {},
     "output_type": "execute_result"
    }
   ],
   "source": [
    "'customer name' == 'customer name'"
   ]
  },
  {
   "cell_type": "code",
   "execution_count": 29,
   "id": "a1a80558",
   "metadata": {},
   "outputs": [
    {
     "data": {
      "text/plain": [
       "12"
      ]
     },
     "execution_count": 29,
     "metadata": {},
     "output_type": "execute_result"
    }
   ],
   "source": [
    "algo = 'regres sion '\n",
    "len(algo)"
   ]
  },
  {
   "cell_type": "markdown",
   "id": "98ff1e03",
   "metadata": {},
   "source": [
    "## String Indexing"
   ]
  },
  {
   "cell_type": "code",
   "execution_count": 30,
   "id": "99bc3d48",
   "metadata": {},
   "outputs": [],
   "source": [
    "# Assign string as a string\n",
    "string = 'Principal component Analysis!'"
   ]
  },
  {
   "cell_type": "code",
   "execution_count": 31,
   "id": "51191c3a",
   "metadata": {},
   "outputs": [
    {
     "name": "stdout",
     "output_type": "stream",
     "text": [
      "Principal component Analysis!\n"
     ]
    }
   ],
   "source": [
    "# Print the  object\n",
    "print(string)"
   ]
  },
  {
   "cell_type": "markdown",
   "id": "d5fb007c",
   "metadata": {},
   "source": [
    "#### Let us start Indexing"
   ]
  },
  {
   "cell_type": "markdown",
   "id": "0dac5696",
   "metadata": {},
   "source": [
    "#### Find the sequence of \"c\""
   ]
  },
  {
   "cell_type": "code",
   "execution_count": 38,
   "id": "0cdfdf56",
   "metadata": {},
   "outputs": [
    {
     "name": "stdout",
     "output_type": "stream",
     "text": [
      "c\n"
     ]
    }
   ],
   "source": [
    "print(string[10])   #Indexing starts from \"0\" (Left Indexing)"
   ]
  },
  {
   "cell_type": "code",
   "execution_count": 39,
   "id": "3123ab4b",
   "metadata": {},
   "outputs": [
    {
     "name": "stdout",
     "output_type": "stream",
     "text": [
      "c\n"
     ]
    }
   ],
   "source": [
    "print(string[-19]) #Right indexing starts from \"-1\""
   ]
  },
  {
   "cell_type": "code",
   "execution_count": 42,
   "id": "de2d89e0",
   "metadata": {},
   "outputs": [
    {
     "ename": "IndexError",
     "evalue": "string index out of range",
     "output_type": "error",
     "traceback": [
      "\u001b[1;31m---------------------------------------------------------------------------\u001b[0m",
      "\u001b[1;31mIndexError\u001b[0m                                Traceback (most recent call last)",
      "\u001b[1;32m<ipython-input-42-44ba254e66db>\u001b[0m in \u001b[0;36m<module>\u001b[1;34m\u001b[0m\n\u001b[1;32m----> 1\u001b[1;33m \u001b[0mprint\u001b[0m\u001b[1;33m(\u001b[0m\u001b[0mstring\u001b[0m\u001b[1;33m[\u001b[0m\u001b[1;36m34\u001b[0m\u001b[1;33m]\u001b[0m\u001b[1;33m)\u001b[0m   \u001b[1;31m#Read the error\u001b[0m\u001b[1;33m\u001b[0m\u001b[1;33m\u001b[0m\u001b[0m\n\u001b[0m",
      "\u001b[1;31mIndexError\u001b[0m: string index out of range"
     ]
    }
   ],
   "source": [
    "print(string[34])   #Read the error"
   ]
  },
  {
   "cell_type": "code",
   "execution_count": 43,
   "id": "192ec98a",
   "metadata": {},
   "outputs": [
    {
     "name": "stdout",
     "output_type": "stream",
     "text": [
      "!\n"
     ]
    }
   ],
   "source": [
    "print(string[-1])"
   ]
  },
  {
   "cell_type": "code",
   "execution_count": 46,
   "id": "c08fe331",
   "metadata": {},
   "outputs": [
    {
     "data": {
      "text/plain": [
       "29"
      ]
     },
     "execution_count": 46,
     "metadata": {},
     "output_type": "execute_result"
    }
   ],
   "source": [
    "len(string) # do this in a easy way first find the length of the string and print the last element using (length-1)"
   ]
  },
  {
   "cell_type": "code",
   "execution_count": 47,
   "id": "ad1e2b1a",
   "metadata": {
    "scrolled": true
   },
   "outputs": [
    {
     "name": "stdout",
     "output_type": "stream",
     "text": [
      "!\n"
     ]
    }
   ],
   "source": [
    "print(string[28]) #here last character is 29-1 -->> 28  (Because it starts with zero)"
   ]
  },
  {
   "cell_type": "markdown",
   "id": "3daca132",
   "metadata": {},
   "source": [
    "### String Slicing\n"
   ]
  },
  {
   "cell_type": "code",
   "execution_count": 49,
   "id": "1f7ad9dc",
   "metadata": {},
   "outputs": [
    {
     "name": "stdout",
     "output_type": "stream",
     "text": [
      "Principal component Analysis!\n"
     ]
    }
   ],
   "source": [
    "print(string)"
   ]
  },
  {
   "cell_type": "code",
   "execution_count": 50,
   "id": "4058d731",
   "metadata": {},
   "outputs": [
    {
     "name": "stdout",
     "output_type": "stream",
     "text": [
      "Principal component Analysis!\n"
     ]
    }
   ],
   "source": [
    "print(string[:]) # [Where_to_start : Where_to_end]"
   ]
  },
  {
   "cell_type": "code",
   "execution_count": 48,
   "id": "b36b693b",
   "metadata": {},
   "outputs": [
    {
     "name": "stdout",
     "output_type": "stream",
     "text": [
      "Principal component Analysis!\n",
      "Principal com\n"
     ]
    }
   ],
   "source": [
    "#Grab everything past the first term all the way to the length of the s which is len()\n",
    "print(string)\n",
    "print(string[:13])"
   ]
  },
  {
   "cell_type": "code",
   "execution_count": 52,
   "id": "80266213",
   "metadata": {},
   "outputs": [
    {
     "name": "stdout",
     "output_type": "stream",
     "text": [
      "component\n"
     ]
    }
   ],
   "source": [
    "print(string[10:19])"
   ]
  },
  {
   "cell_type": "code",
   "execution_count": 55,
   "id": "1359b7df",
   "metadata": {},
   "outputs": [
    {
     "name": "stdout",
     "output_type": "stream",
     "text": [
      "9\n"
     ]
    }
   ],
   "source": [
    "print(len(string[10:19]))"
   ]
  },
  {
   "cell_type": "code",
   "execution_count": 56,
   "id": "04ef5c0a",
   "metadata": {},
   "outputs": [
    {
     "name": "stdout",
     "output_type": "stream",
     "text": [
      "component \n"
     ]
    }
   ],
   "source": [
    "print(string[10:20])"
   ]
  },
  {
   "cell_type": "code",
   "execution_count": 58,
   "id": "600afa74",
   "metadata": {},
   "outputs": [
    {
     "name": "stdout",
     "output_type": "stream",
     "text": [
      "10\n"
     ]
    }
   ],
   "source": [
    "print(len(string[10:20]))  #Empty spaces count as elements and index"
   ]
  },
  {
   "cell_type": "code",
   "execution_count": 63,
   "id": "3c2d4380",
   "metadata": {},
   "outputs": [
    {
     "name": "stdout",
     "output_type": "stream",
     "text": [
      " Analysis!\n"
     ]
    }
   ],
   "source": [
    "print(string[-10:])"
   ]
  },
  {
   "cell_type": "code",
   "execution_count": 64,
   "id": "9e616485",
   "metadata": {},
   "outputs": [
    {
     "data": {
      "text/plain": [
       "'p'"
      ]
     },
     "execution_count": 64,
     "metadata": {},
     "output_type": "execute_result"
    }
   ],
   "source": [
    "string[13]"
   ]
  },
  {
   "cell_type": "code",
   "execution_count": 67,
   "id": "0adac044",
   "metadata": {},
   "outputs": [
    {
     "name": "stdout",
     "output_type": "stream",
     "text": [
      "Anal\n"
     ]
    }
   ],
   "source": [
    "print(string[-9:-5])"
   ]
  },
  {
   "cell_type": "code",
   "execution_count": 71,
   "id": "c6427e70",
   "metadata": {},
   "outputs": [
    {
     "name": "stdout",
     "output_type": "stream",
     "text": [
      "Principal component Analysis!\n"
     ]
    }
   ],
   "source": [
    "#Skipped one char\n",
    "print(string[::1])   # '::' start : end :skip character (Does't make any different)"
   ]
  },
  {
   "cell_type": "code",
   "execution_count": 69,
   "id": "f2759f30",
   "metadata": {},
   "outputs": [
    {
     "name": "stdout",
     "output_type": "stream",
     "text": [
      "PicplcmoetAayi!\n"
     ]
    }
   ],
   "source": [
    "print(string[::2])  # Skipped two character"
   ]
  },
  {
   "cell_type": "code",
   "execution_count": 70,
   "id": "b9b6fa9d",
   "metadata": {},
   "outputs": [
    {
     "name": "stdout",
     "output_type": "stream",
     "text": [
      "Pnp mntnys\n"
     ]
    }
   ],
   "source": [
    "print(string[::3]) #Skipped three character"
   ]
  },
  {
   "cell_type": "code",
   "execution_count": 73,
   "id": "1dd0614c",
   "metadata": {},
   "outputs": [
    {
     "name": "stdout",
     "output_type": "stream",
     "text": [
      "!sisylanA tnenopmoc lapicnirP\n"
     ]
    }
   ],
   "source": [
    "#reverse\n",
    "print(string[::-1])   # '-1' will print everything backwords"
   ]
  },
  {
   "cell_type": "code",
   "execution_count": 74,
   "id": "8c45fc64",
   "metadata": {},
   "outputs": [
    {
     "name": "stdout",
     "output_type": "stream",
     "text": [
      "Aayi!\n"
     ]
    }
   ],
   "source": [
    "print(string[20:30:2])"
   ]
  },
  {
   "cell_type": "code",
   "execution_count": 83,
   "id": "6cb2cf36",
   "metadata": {},
   "outputs": [
    {
     "name": "stdout",
     "output_type": "stream",
     "text": [
      "abc def\n",
      "abcdef\n"
     ]
    }
   ],
   "source": [
    "#Concatenate strings\n",
    "string1 ='abc'\n",
    "string2 = 'def'\n",
    "num=4\n",
    "print(string1 + ' ' + string2)\n",
    "print(string1 + '' + string2)"
   ]
  },
  {
   "cell_type": "code",
   "execution_count": 84,
   "id": "b82e3ee2",
   "metadata": {},
   "outputs": [
    {
     "ename": "TypeError",
     "evalue": "can only concatenate str (not \"int\") to str",
     "output_type": "error",
     "traceback": [
      "\u001b[1;31m---------------------------------------------------------------------------\u001b[0m",
      "\u001b[1;31mTypeError\u001b[0m                                 Traceback (most recent call last)",
      "\u001b[1;32m<ipython-input-84-f5ecb7619286>\u001b[0m in \u001b[0;36m<module>\u001b[1;34m\u001b[0m\n\u001b[1;32m----> 1\u001b[1;33m \u001b[0mprint\u001b[0m\u001b[1;33m(\u001b[0m\u001b[0mstring1\u001b[0m \u001b[1;33m+\u001b[0m \u001b[1;36m4\u001b[0m \u001b[1;33m+\u001b[0m \u001b[0mstring2\u001b[0m\u001b[1;33m)\u001b[0m \u001b[1;31m#Cannot concatenate integers with strings\u001b[0m\u001b[1;33m\u001b[0m\u001b[1;33m\u001b[0m\u001b[0m\n\u001b[0m",
      "\u001b[1;31mTypeError\u001b[0m: can only concatenate str (not \"int\") to str"
     ]
    }
   ],
   "source": [
    "print(string1 + 4 + string2) #Cannot concatenate integers with strings"
   ]
  },
  {
   "cell_type": "code",
   "execution_count": 85,
   "id": "30e3ece8",
   "metadata": {},
   "outputs": [
    {
     "name": "stdout",
     "output_type": "stream",
     "text": [
      "abc 4 def\n"
     ]
    }
   ],
   "source": [
    "print(string1 + ' 4 ' + string2)   #But we can concatenate strings"
   ]
  },
  {
   "cell_type": "code",
   "execution_count": 86,
   "id": "578079fc",
   "metadata": {},
   "outputs": [
    {
     "name": "stdout",
     "output_type": "stream",
     "text": [
      "abc4def\n"
     ]
    }
   ],
   "source": [
    "print(string1 + str(4) + string2)"
   ]
  },
  {
   "cell_type": "code",
   "execution_count": 88,
   "id": "c34aa7f5",
   "metadata": {},
   "outputs": [
    {
     "name": "stdout",
     "output_type": "stream",
     "text": [
      "abc4def\n"
     ]
    }
   ],
   "source": [
    "print(string1 + str(num) + string2)"
   ]
  },
  {
   "cell_type": "code",
   "execution_count": 93,
   "id": "d588ad68",
   "metadata": {},
   "outputs": [
    {
     "data": {
      "text/plain": [
       "'Hello'"
      ]
     },
     "execution_count": 93,
     "metadata": {},
     "output_type": "execute_result"
    }
   ],
   "source": [
    "string= 'Hello'\n",
    "string"
   ]
  },
  {
   "cell_type": "code",
   "execution_count": 94,
   "id": "00eacffa",
   "metadata": {},
   "outputs": [
    {
     "name": "stdout",
     "output_type": "stream",
     "text": [
      "Hello Concatenate me!\n"
     ]
    }
   ],
   "source": [
    "# We can reassign string completely though!\n",
    "string = string + ' Concatenate me!'\n",
    "print(string)"
   ]
  },
  {
   "cell_type": "code",
   "execution_count": 95,
   "id": "cf08ad39",
   "metadata": {},
   "outputs": [
    {
     "name": "stdout",
     "output_type": "stream",
     "text": [
      "Hello Concatenate me!Hello Concatenate me!Hello Concatenate me!Hello Concatenate me!\n"
     ]
    }
   ],
   "source": [
    "print(string *4)  # Multiplying the string"
   ]
  },
  {
   "cell_type": "markdown",
   "id": "eecbec59",
   "metadata": {},
   "source": [
    "### lower()\n",
    "\n",
    "##### lower() method converts the string to lowercase"
   ]
  },
  {
   "cell_type": "code",
   "execution_count": 99,
   "id": "a5b53a68",
   "metadata": {},
   "outputs": [
    {
     "name": "stdout",
     "output_type": "stream",
     "text": [
      "Neural Networks\n"
     ]
    }
   ],
   "source": [
    "algorithm = 'Neural Networks'\n",
    "print(algorithm)"
   ]
  },
  {
   "cell_type": "code",
   "execution_count": 100,
   "id": "7c20f9d7",
   "metadata": {},
   "outputs": [
    {
     "data": {
      "text/plain": [
       "15"
      ]
     },
     "execution_count": 100,
     "metadata": {},
     "output_type": "execute_result"
    }
   ],
   "source": [
    "len(algorithm)"
   ]
  },
  {
   "cell_type": "code",
   "execution_count": 101,
   "id": "6829edd1",
   "metadata": {},
   "outputs": [
    {
     "data": {
      "text/plain": [
       "'neural networks'"
      ]
     },
     "execution_count": 101,
     "metadata": {},
     "output_type": "execute_result"
    }
   ],
   "source": [
    "#Convert the string to lower case\n",
    "algorithm.lower()\n"
   ]
  },
  {
   "cell_type": "markdown",
   "id": "a93325a5",
   "metadata": {},
   "source": [
    "### upper()\n",
    "\n",
    "#####  upper() method converts the string to lowercase"
   ]
  },
  {
   "cell_type": "code",
   "execution_count": 102,
   "id": "660ffb03",
   "metadata": {},
   "outputs": [
    {
     "data": {
      "text/plain": [
       "'NEURAL NETWORKS'"
      ]
     },
     "execution_count": 102,
     "metadata": {},
     "output_type": "execute_result"
    }
   ],
   "source": [
    "#Convert the string to upper case\n",
    "algorithm.upper()"
   ]
  },
  {
   "cell_type": "code",
   "execution_count": 108,
   "id": "33c2b4f4",
   "metadata": {},
   "outputs": [
    {
     "name": "stdout",
     "output_type": "stream",
     "text": [
      "Neural Networks\n"
     ]
    }
   ],
   "source": [
    "print(algorithm)"
   ]
  },
  {
   "cell_type": "code",
   "execution_count": 109,
   "id": "dd97f5b4",
   "metadata": {},
   "outputs": [],
   "source": [
    "upper_algo = algorithm.upper()  #Storing value in a variable"
   ]
  },
  {
   "cell_type": "code",
   "execution_count": 110,
   "id": "290a59ae",
   "metadata": {},
   "outputs": [
    {
     "name": "stdout",
     "output_type": "stream",
     "text": [
      "NEURAL NETWORKS\n"
     ]
    }
   ],
   "source": [
    "print(upper_algo)"
   ]
  },
  {
   "cell_type": "markdown",
   "id": "c7a2810a",
   "metadata": {},
   "source": [
    "#### Length is a function   (inside)\n",
    "#### lower,upper are methods(outside"
   ]
  },
  {
   "cell_type": "code",
   "execution_count": 104,
   "id": "897fa8b6",
   "metadata": {},
   "outputs": [
    {
     "name": "stdout",
     "output_type": "stream",
     "text": [
      "Neural Networks\n"
     ]
    }
   ],
   "source": [
    "#count (will tell you how many times this characteris coming)\n",
    "print(algorithm)"
   ]
  },
  {
   "cell_type": "code",
   "execution_count": 105,
   "id": "53c702ff",
   "metadata": {},
   "outputs": [
    {
     "data": {
      "text/plain": [
       "0"
      ]
     },
     "execution_count": 105,
     "metadata": {},
     "output_type": "execute_result"
    }
   ],
   "source": [
    "algorithm.count('K')"
   ]
  },
  {
   "cell_type": "code",
   "execution_count": 106,
   "id": "4c0375bc",
   "metadata": {},
   "outputs": [
    {
     "data": {
      "text/plain": [
       "1"
      ]
     },
     "execution_count": 106,
     "metadata": {},
     "output_type": "execute_result"
    }
   ],
   "source": [
    "algorithm.count('k')"
   ]
  },
  {
   "cell_type": "code",
   "execution_count": 107,
   "id": "69f45c57",
   "metadata": {},
   "outputs": [
    {
     "data": {
      "text/plain": [
       "1"
      ]
     },
     "execution_count": 107,
     "metadata": {},
     "output_type": "execute_result"
    }
   ],
   "source": [
    "algorithm.count('eu')"
   ]
  },
  {
   "cell_type": "code",
   "execution_count": 112,
   "id": "62ff7dd0",
   "metadata": {},
   "outputs": [
    {
     "data": {
      "text/plain": [
       "1"
      ]
     },
     "execution_count": 112,
     "metadata": {},
     "output_type": "execute_result"
    }
   ],
   "source": [
    "algorithm.count(' ')"
   ]
  },
  {
   "cell_type": "code",
   "execution_count": 114,
   "id": "8c29ffa5",
   "metadata": {},
   "outputs": [
    {
     "data": {
      "text/plain": [
       "2"
      ]
     },
     "execution_count": 114,
     "metadata": {},
     "output_type": "execute_result"
    }
   ],
   "source": [
    "algorithm.count('e')"
   ]
  },
  {
   "cell_type": "markdown",
   "id": "f1def2ae",
   "metadata": {},
   "source": [
    "## find()\n",
    "\n",
    "**find() method returns the index of the first occurence of a strimg present in a given string. Similar to count() method, the find() method takes a string as an argument**\n"
   ]
  },
  {
   "cell_type": "code",
   "execution_count": 115,
   "id": "c803bb77",
   "metadata": {},
   "outputs": [
    {
     "name": "stdout",
     "output_type": "stream",
     "text": [
      "Neural Networks\n"
     ]
    }
   ],
   "source": [
    "print(algorithm)"
   ]
  },
  {
   "cell_type": "code",
   "execution_count": 116,
   "id": "2af76ba6",
   "metadata": {},
   "outputs": [
    {
     "data": {
      "text/plain": [
       "1"
      ]
     },
     "execution_count": 116,
     "metadata": {},
     "output_type": "execute_result"
    }
   ],
   "source": [
    "algorithm.find('e')  #Only show the first occurence of the character"
   ]
  },
  {
   "cell_type": "code",
   "execution_count": 117,
   "id": "a06c6cda",
   "metadata": {},
   "outputs": [
    {
     "data": {
      "text/plain": [
       "0"
      ]
     },
     "execution_count": 117,
     "metadata": {},
     "output_type": "execute_result"
    }
   ],
   "source": [
    "algorithm.find('Neural')"
   ]
  },
  {
   "cell_type": "code",
   "execution_count": 120,
   "id": "ad487c0f",
   "metadata": {},
   "outputs": [
    {
     "data": {
      "text/plain": [
       "7"
      ]
     },
     "execution_count": 120,
     "metadata": {},
     "output_type": "execute_result"
    }
   ],
   "source": [
    "algorithm.find('Networks')"
   ]
  },
  {
   "cell_type": "code",
   "execution_count": 121,
   "id": "99aee11c",
   "metadata": {},
   "outputs": [
    {
     "data": {
      "text/plain": [
       "-1"
      ]
     },
     "execution_count": 121,
     "metadata": {},
     "output_type": "execute_result"
    }
   ],
   "source": [
    "algorithm.find('Box')  # If trying to look for a string which is not there, It will return '-1'"
   ]
  },
  {
   "cell_type": "code",
   "execution_count": 119,
   "id": "59654f3f",
   "metadata": {},
   "outputs": [
    {
     "data": {
      "text/plain": [
       "13"
      ]
     },
     "execution_count": 119,
     "metadata": {},
     "output_type": "execute_result"
    }
   ],
   "source": [
    "algorithm.find('k')"
   ]
  },
  {
   "cell_type": "markdown",
   "id": "1bae76c4",
   "metadata": {},
   "source": [
    "### replace()"
   ]
  },
  {
   "cell_type": "code",
   "execution_count": 122,
   "id": "8b892c04",
   "metadata": {},
   "outputs": [
    {
     "name": "stdout",
     "output_type": "stream",
     "text": [
      "Neural Networks\n"
     ]
    }
   ],
   "source": [
    "print(algorithm)"
   ]
  },
  {
   "cell_type": "code",
   "execution_count": 123,
   "id": "29e0d37f",
   "metadata": {},
   "outputs": [
    {
     "data": {
      "text/plain": [
       "'Neural-Networks'"
      ]
     },
     "execution_count": 123,
     "metadata": {},
     "output_type": "execute_result"
    }
   ],
   "source": [
    "algorithm.replace(' ','-')"
   ]
  },
  {
   "cell_type": "code",
   "execution_count": 126,
   "id": "0792d837",
   "metadata": {},
   "outputs": [],
   "source": [
    "rep_algo = algorithm.replace('N','L')"
   ]
  },
  {
   "cell_type": "code",
   "execution_count": 127,
   "id": "47a396d1",
   "metadata": {},
   "outputs": [
    {
     "name": "stdout",
     "output_type": "stream",
     "text": [
      "Neural Networks\n"
     ]
    }
   ],
   "source": [
    "print(algorithm)"
   ]
  },
  {
   "cell_type": "code",
   "execution_count": 128,
   "id": "968643db",
   "metadata": {},
   "outputs": [
    {
     "name": "stdout",
     "output_type": "stream",
     "text": [
      "Leural Letworks\n"
     ]
    }
   ],
   "source": [
    "print(rep_algo)"
   ]
  },
  {
   "cell_type": "code",
   "execution_count": 129,
   "id": "ea52b960",
   "metadata": {},
   "outputs": [
    {
     "data": {
      "text/plain": [
       "'08-02-2024'"
      ]
     },
     "execution_count": 129,
     "metadata": {},
     "output_type": "execute_result"
    }
   ],
   "source": [
    "my_date = '08-02-2024'\n",
    "my_date"
   ]
  },
  {
   "cell_type": "code",
   "execution_count": 131,
   "id": "4d63affc",
   "metadata": {},
   "outputs": [
    {
     "data": {
      "text/plain": [
       "'08/02/2024'"
      ]
     },
     "execution_count": 131,
     "metadata": {},
     "output_type": "execute_result"
    }
   ],
   "source": [
    "my_date.replace('-','/')"
   ]
  },
  {
   "cell_type": "markdown",
   "id": "8cba5a8a",
   "metadata": {},
   "source": [
    "#### Printing Strings is a bit different"
   ]
  },
  {
   "cell_type": "code",
   "execution_count": 133,
   "id": "1f0499f3",
   "metadata": {},
   "outputs": [
    {
     "name": "stdout",
     "output_type": "stream",
     "text": [
      "Left plus right makes Rahul Modi\n"
     ]
    }
   ],
   "source": [
    "first_name ='Rahul'\n",
    "last_name ='Modi'  # using 'f ' will give me the right to use the variables over here\n",
    "\n",
    "full_name = f'Left plus right makes {first_name} {last_name}' #Use {}  to print the variable you want to\n",
    "print(full_name)"
   ]
  },
  {
   "cell_type": "code",
   "execution_count": 138,
   "id": "6a834f61",
   "metadata": {},
   "outputs": [
    {
     "name": "stdout",
     "output_type": "stream",
     "text": [
      "Left plus right makes Rahul Modi\n"
     ]
    }
   ],
   "source": [
    "full_name1 = 'Left plus right makes' + ' ' + first_name + ' ' + last_name\n",
    "print(full_name1)"
   ]
  },
  {
   "cell_type": "code",
   "execution_count": 137,
   "id": "27a7ce33",
   "metadata": {},
   "outputs": [
    {
     "name": "stdout",
     "output_type": "stream",
     "text": [
      "Rahul Modi\n"
     ]
    }
   ],
   "source": [
    "print(first_name + ' ' + last_name)"
   ]
  },
  {
   "cell_type": "code",
   "execution_count": 141,
   "id": "c4765b52",
   "metadata": {},
   "outputs": [
    {
     "name": "stdout",
     "output_type": "stream",
     "text": [
      "I am none other than Sachin  Kumar. I am a data scientist\n"
     ]
    }
   ],
   "source": [
    "first_name ='Sachin'\n",
    "middle_name = ''\n",
    "last_name = 'Kumar'\n",
    "\n",
    "full_name = f'I am none other than {first_name} {middle_name} {last_name}. I am a data scientist'\n",
    "print(full_name)"
   ]
  },
  {
   "cell_type": "code",
   "execution_count": 142,
   "id": "3be154f6",
   "metadata": {},
   "outputs": [
    {
     "name": "stdout",
     "output_type": "stream",
     "text": [
      "I am none other than Sachin  Kumar. I am a data scientist\n"
     ]
    }
   ],
   "source": [
    "print(f'I am none other than {first_name} {middle_name} {last_name}. I am a data scientist')"
   ]
  },
  {
   "cell_type": "markdown",
   "id": "645798a7",
   "metadata": {},
   "source": [
    "##### Check if a string contains a particular word or character"
   ]
  },
  {
   "cell_type": "code",
   "execution_count": 143,
   "id": "5107e17c",
   "metadata": {},
   "outputs": [],
   "source": [
    "my_string ='Albert Einstein'"
   ]
  },
  {
   "cell_type": "code",
   "execution_count": 144,
   "id": "01f469b7",
   "metadata": {},
   "outputs": [
    {
     "data": {
      "text/plain": [
       "True"
      ]
     },
     "execution_count": 144,
     "metadata": {},
     "output_type": "execute_result"
    }
   ],
   "source": [
    "'Albert' in my_string"
   ]
  },
  {
   "cell_type": "code",
   "execution_count": 146,
   "id": "2edcf043",
   "metadata": {},
   "outputs": [
    {
     "data": {
      "text/plain": [
       "False"
      ]
     },
     "execution_count": 146,
     "metadata": {},
     "output_type": "execute_result"
    }
   ],
   "source": [
    "'Alberta' in my_string"
   ]
  },
  {
   "cell_type": "code",
   "execution_count": 147,
   "id": "13fb7c0c",
   "metadata": {},
   "outputs": [
    {
     "data": {
      "text/plain": [
       "False"
      ]
     },
     "execution_count": 147,
     "metadata": {},
     "output_type": "execute_result"
    }
   ],
   "source": [
    "'Albert' not in my_string"
   ]
  },
  {
   "cell_type": "code",
   "execution_count": 148,
   "id": "a20743de",
   "metadata": {},
   "outputs": [
    {
     "data": {
      "text/plain": [
       "True"
      ]
     },
     "execution_count": 148,
     "metadata": {},
     "output_type": "execute_result"
    }
   ],
   "source": [
    "'Alberta' not in my_string"
   ]
  },
  {
   "cell_type": "code",
   "execution_count": null,
   "id": "6f49985e",
   "metadata": {},
   "outputs": [],
   "source": []
  }
 ],
 "metadata": {
  "kernelspec": {
   "display_name": "Python 3",
   "language": "python",
   "name": "python3"
  },
  "language_info": {
   "codemirror_mode": {
    "name": "ipython",
    "version": 3
   },
   "file_extension": ".py",
   "mimetype": "text/x-python",
   "name": "python",
   "nbconvert_exporter": "python",
   "pygments_lexer": "ipython3",
   "version": "3.8.8"
  }
 },
 "nbformat": 4,
 "nbformat_minor": 5
}
