{
 "cells": [
  {
   "cell_type": "code",
   "execution_count": null,
   "id": "2d6a91db",
   "metadata": {},
   "outputs": [],
   "source": [
    "class Upgrad:\n",
    "    def __init__(self,name,age,city,course,gender):\n",
    "        self.name =  name\n",
    "        self.age =  age\n",
    "        self.city =  city\n",
    "        self.course =  course\n",
    "        self.gender =  gender\n",
    "        \n",
    "    def qualification(self):\n",
    "        print (\"Engineer\")"
   ]
  },
  {
   "cell_type": "code",
   "execution_count": null,
   "id": "5c21cefa",
   "metadata": {},
   "outputs": [],
   "source": [
    "student_info = Upgrad(\"Sachin\",22,\"Ranchi\",\"Data Science\",\"Male\")"
   ]
  },
  {
   "cell_type": "code",
   "execution_count": null,
   "id": "a4beec85",
   "metadata": {},
   "outputs": [],
   "source": [
    "student_info.city"
   ]
  },
  {
   "cell_type": "code",
   "execution_count": null,
   "id": "83254c6d",
   "metadata": {},
   "outputs": [],
   "source": [
    "student_info.age"
   ]
  },
  {
   "cell_type": "code",
   "execution_count": null,
   "id": "275a7630",
   "metadata": {},
   "outputs": [],
   "source": [
    "student_info.qualification()"
   ]
  },
  {
   "cell_type": "code",
   "execution_count": 11,
   "id": "a1f6f6d4",
   "metadata": {},
   "outputs": [],
   "source": [
    "class Calculator:\n",
    "    def __init__(self,input_1,input_2):        \n",
    "        self.input_1 = input_1\n",
    "        self.input_2 = input_2\n",
    "        \n",
    "    def addition(self):\n",
    "        return self.input_1 + self.input_2\n",
    "    \n",
    "    def substraction(self):\n",
    "        return self.input_1 - self.input_2\n",
    "    \n",
    "    def multiplication(self):\n",
    "        return self.input_1 * self.input_2\n",
    "    \n",
    "    def division(self):\n",
    "        return self.input_1 / self.input_2\n",
    "    "
   ]
  },
  {
   "cell_type": "code",
   "execution_count": 18,
   "id": "370ac04a",
   "metadata": {},
   "outputs": [],
   "source": [
    "my_cals = Calculator(4,2)"
   ]
  },
  {
   "cell_type": "code",
   "execution_count": 19,
   "id": "93e784f1",
   "metadata": {},
   "outputs": [
    {
     "data": {
      "text/plain": [
       "6"
      ]
     },
     "execution_count": 19,
     "metadata": {},
     "output_type": "execute_result"
    }
   ],
   "source": [
    "my_cals.addition()"
   ]
  },
  {
   "cell_type": "code",
   "execution_count": 20,
   "id": "7f5acc0a",
   "metadata": {},
   "outputs": [
    {
     "data": {
      "text/plain": [
       "2"
      ]
     },
     "execution_count": 20,
     "metadata": {},
     "output_type": "execute_result"
    }
   ],
   "source": [
    "my_cals.substraction()"
   ]
  },
  {
   "cell_type": "code",
   "execution_count": 21,
   "id": "19bd739a",
   "metadata": {},
   "outputs": [
    {
     "data": {
      "text/plain": [
       "8"
      ]
     },
     "execution_count": 21,
     "metadata": {},
     "output_type": "execute_result"
    }
   ],
   "source": [
    "my_cals.multiplication()"
   ]
  },
  {
   "cell_type": "code",
   "execution_count": 22,
   "id": "82f268e5",
   "metadata": {},
   "outputs": [
    {
     "data": {
      "text/plain": [
       "2.0"
      ]
     },
     "execution_count": 22,
     "metadata": {},
     "output_type": "execute_result"
    }
   ],
   "source": [
    "my_cals.division()"
   ]
  },
  {
   "cell_type": "code",
   "execution_count": 24,
   "id": "4873ead4",
   "metadata": {},
   "outputs": [
    {
     "name": "stdout",
     "output_type": "stream",
     "text": [
      "*\r\n",
      "**\r\n",
      "***\r\n",
      "****\r\n",
      "*****\r\n",
      "******\r\n",
      "*******\r\n",
      "********\r\n",
      "*********\r\n",
      "**********\r\n"
     ]
    }
   ],
   "source": [
    "def pattern(n):\n",
    "    for i in range(0,n):\n",
    "        for j in range(0, i+1):\n",
    "            print(\"*\", end=\"\")\n",
    "        print(\"\\r\")\n",
    "        \n",
    "n= 10\n",
    "pattern(n)"
   ]
  },
  {
   "cell_type": "code",
   "execution_count": 25,
   "id": "1ec75194",
   "metadata": {},
   "outputs": [
    {
     "name": "stdout",
     "output_type": "stream",
     "text": [
      "*\n",
      "**\n",
      "***\n",
      "****\n",
      "*****\n",
      "******\n",
      "*******\n",
      "********\n",
      "*********\n",
      "**********\n"
     ]
    }
   ],
   "source": [
    "n= 10\n",
    "for i in range(1,n+1):         #Optimised\n",
    "    print(f\"{i*'*'}\")"
   ]
  },
  {
   "cell_type": "code",
   "execution_count": 34,
   "id": "50c49c5e",
   "metadata": {},
   "outputs": [
    {
     "name": "stdout",
     "output_type": "stream",
     "text": [
      "Enter the steps you want to be printed: 10\n",
      "         *\n",
      "         * *\n",
      "         * * *\n",
      "         * * * *\n",
      "         * * * * *\n",
      "         * * * * * *\n",
      "         * * * * * * *\n",
      "         * * * * * * * *\n",
      "         * * * * * * * * *\n",
      "         * * * * * * * * * *\n"
     ]
    }
   ],
   "source": [
    "n=int(input(\"Enter the steps you want to be printed: \"))\n",
    "for i in range (1,n+1):\n",
    "    for j in range(n-1):\n",
    "        print(\"\", end=\" \")\n",
    "    for k in range(i-1):\n",
    "        print(\"*\",end =\" \")\n",
    "    print('*')"
   ]
  },
  {
   "cell_type": "code",
   "execution_count": 36,
   "id": "3a5d57d6",
   "metadata": {},
   "outputs": [
    {
     "name": "stdout",
     "output_type": "stream",
     "text": [
      "         *\n",
      "        ***\n",
      "       *****\n",
      "      *******\n",
      "     *********\n",
      "    ***********\n",
      "   *************\n",
      "  ***************\n",
      " *****************\n",
      "*******************\n"
     ]
    }
   ],
   "source": [
    "def pyramid(rows):\n",
    "    for i in range(rows):\n",
    "        print(' '*(rows - i - 1) + '*' *(2 * i + 1))\n",
    "        \n",
    "pyramid(10)"
   ]
  },
  {
   "cell_type": "code",
   "execution_count": 37,
   "id": "bfbce68f",
   "metadata": {},
   "outputs": [],
   "source": [
    "class ListOperations:\n",
    "    def __init__(self, input_list):\n",
    "        self.input_list = input_list\n",
    "\n",
    "    def minimum(self):\n",
    "        if not self.input_list:\n",
    "            return None\n",
    "        return min(self.input_list)\n",
    "\n",
    "    def maximum(self):\n",
    "        if not self.input_list:\n",
    "            return None\n",
    "        return max(self.input_list)\n",
    "\n",
    "    def occurrence(self, number):\n",
    "        if not self.input_list:\n",
    "            return 0\n",
    "        \n",
    "        try:\n",
    "            return self.input_list.count(number)\n",
    "        except ValueError:\n",
    "            raise ValueError(f\"The number {number} is not present in the list.\")\n"
   ]
  },
  {
   "cell_type": "code",
   "execution_count": 46,
   "id": "c2653640",
   "metadata": {},
   "outputs": [],
   "source": [
    "if __name__ == \"__main__\":\n",
    "    input_list = [2,2,2,1,4,5,6,7,8,9,0]\n",
    "    list_operations = ListOperations(input_list)\n"
   ]
  },
  {
   "cell_type": "code",
   "execution_count": 47,
   "id": "4a67c1dd",
   "metadata": {},
   "outputs": [
    {
     "name": "stdout",
     "output_type": "stream",
     "text": [
      "Minimum: 0\n"
     ]
    }
   ],
   "source": [
    "min_value = list_operations.minimum() \n",
    "print(f\"Minimum: {min_value}\")\n"
   ]
  },
  {
   "cell_type": "code",
   "execution_count": 48,
   "id": "a16f894d",
   "metadata": {},
   "outputs": [
    {
     "name": "stdout",
     "output_type": "stream",
     "text": [
      "Maximum: 9\n"
     ]
    }
   ],
   "source": [
    "max_value = list_operations.maximum()\n",
    "print(f\"Maximum: {max_value}\")"
   ]
  },
  {
   "cell_type": "code",
   "execution_count": 50,
   "id": "68d5fa87",
   "metadata": {},
   "outputs": [
    {
     "name": "stdout",
     "output_type": "stream",
     "text": [
      "Occurrence of 2: 3\n"
     ]
    }
   ],
   "source": [
    "number_to_find = 2\n",
    "try:\n",
    "    occurrence_count = list_operations.occurrence(number_to_find)\n",
    "    print(f\"Occurrence of {number_to_find}: {occurrence_count}\")\n",
    "except ValueError as e:\n",
    "    print(e)"
   ]
  },
  {
   "cell_type": "code",
   "execution_count": 76,
   "id": "592c2511",
   "metadata": {},
   "outputs": [],
   "source": [
    "class ListOperation:\n",
    "    def __init__(self, inputlist):\n",
    "        self.inputlist = inputlist\n",
    "\n",
    "    def getMax(self):\n",
    "        return max(self.inputlist)\n",
    "        \n",
    "    def getMin(self):\n",
    "        return min(self.inputlist)\n",
    "        \n",
    "    def getOccurances(self,number):\n",
    "        if number in self.inputlist:\n",
    "            count = 0\n",
    "            for i in self.inputlist:\n",
    "                if i == number:\n",
    "                    count = count + 1\n",
    "            print(\"Total Occurance : \", count)\n",
    "        else:\n",
    "            print(\"The Number is not in the list provided.\")\n",
    "        \n",
    "numbers = [1, 2, 3, 4, 2, 3, 4, 5, 3, 4, 4, 5, 6]\n",
    "lOps = ListOperation(numbers)"
   ]
  },
  {
   "cell_type": "code",
   "execution_count": 77,
   "id": "2afd023f",
   "metadata": {},
   "outputs": [
    {
     "data": {
      "text/plain": [
       "[1, 2, 3, 4, 2, 3, 4, 5, 3, 4, 4, 5, 6]"
      ]
     },
     "execution_count": 77,
     "metadata": {},
     "output_type": "execute_result"
    }
   ],
   "source": [
    "lOps.inputlist"
   ]
  },
  {
   "cell_type": "code",
   "execution_count": 78,
   "id": "66133f60",
   "metadata": {},
   "outputs": [
    {
     "data": {
      "text/plain": [
       "6"
      ]
     },
     "execution_count": 78,
     "metadata": {},
     "output_type": "execute_result"
    }
   ],
   "source": [
    "lOps.getMax()"
   ]
  },
  {
   "cell_type": "code",
   "execution_count": 79,
   "id": "b0593eb5",
   "metadata": {},
   "outputs": [
    {
     "data": {
      "text/plain": [
       "1"
      ]
     },
     "execution_count": 79,
     "metadata": {},
     "output_type": "execute_result"
    }
   ],
   "source": [
    "lOps.getMin()"
   ]
  },
  {
   "cell_type": "code",
   "execution_count": 80,
   "id": "9b6d3ffe",
   "metadata": {},
   "outputs": [
    {
     "name": "stdout",
     "output_type": "stream",
     "text": [
      "Total Occurance :  3\n"
     ]
    }
   ],
   "source": [
    "lOps.getOccurances(3)"
   ]
  },
  {
   "cell_type": "code",
   "execution_count": 81,
   "id": "51960f73",
   "metadata": {},
   "outputs": [
    {
     "name": "stdout",
     "output_type": "stream",
     "text": [
      "The Number is not in the list provided.\n"
     ]
    }
   ],
   "source": [
    "lOps.getOccurances(10)"
   ]
  },
  {
   "cell_type": "code",
   "execution_count": null,
   "id": "e9b4d746",
   "metadata": {},
   "outputs": [],
   "source": []
  }
 ],
 "metadata": {
  "kernelspec": {
   "display_name": "Python 3",
   "language": "python",
   "name": "python3"
  },
  "language_info": {
   "codemirror_mode": {
    "name": "ipython",
    "version": 3
   },
   "file_extension": ".py",
   "mimetype": "text/x-python",
   "name": "python",
   "nbconvert_exporter": "python",
   "pygments_lexer": "ipython3",
   "version": "3.8.8"
  }
 },
 "nbformat": 4,
 "nbformat_minor": 5
}
