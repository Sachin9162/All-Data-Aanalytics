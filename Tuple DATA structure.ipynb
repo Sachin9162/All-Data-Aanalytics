{
 "cells": [
  {
   "cell_type": "markdown",
   "id": "6c9368d8",
   "metadata": {},
   "source": [
    "## Tuples"
   ]
  },
  {
   "cell_type": "code",
   "execution_count": 3,
   "id": "496d6fea",
   "metadata": {},
   "outputs": [
    {
     "name": "stdout",
     "output_type": "stream",
     "text": [
      "('Sachin', 22, 5.7)\n"
     ]
    }
   ],
   "source": [
    "t =(\"Sachin\", 22, 5.7)\n",
    "print(t)                       #create a tuple"
   ]
  },
  {
   "cell_type": "code",
   "execution_count": 4,
   "id": "438c2ee6",
   "metadata": {},
   "outputs": [
    {
     "data": {
      "text/plain": [
       "tuple"
      ]
     },
     "execution_count": 4,
     "metadata": {},
     "output_type": "execute_result"
    }
   ],
   "source": [
    "type(t)                      "
   ]
  },
  {
   "cell_type": "code",
   "execution_count": 7,
   "id": "cc1844bd",
   "metadata": {},
   "outputs": [
    {
     "name": "stdout",
     "output_type": "stream",
     "text": [
      "('Sachin', 22, 5.6)\n"
     ]
    }
   ],
   "source": [
    "sample_tuple=  \"Sachin\",22,5.6\n",
    "print(sample_tuple)"
   ]
  },
  {
   "cell_type": "code",
   "execution_count": 9,
   "id": "661ddbd0",
   "metadata": {},
   "outputs": [
    {
     "data": {
      "text/plain": [
       "tuple"
      ]
     },
     "execution_count": 9,
     "metadata": {},
     "output_type": "execute_result"
    }
   ],
   "source": [
    "type(sample_tuple)"
   ]
  },
  {
   "cell_type": "code",
   "execution_count": 11,
   "id": "0109bfbc",
   "metadata": {},
   "outputs": [
    {
     "name": "stdout",
     "output_type": "stream",
     "text": [
      "('sachin',)\n"
     ]
    }
   ],
   "source": [
    "sample_tuple1= \"sachin\",\n",
    "print(sample_tuple1)"
   ]
  },
  {
   "cell_type": "code",
   "execution_count": 12,
   "id": "6a8a8d8b",
   "metadata": {},
   "outputs": [
    {
     "data": {
      "text/plain": [
       "tuple"
      ]
     },
     "execution_count": 12,
     "metadata": {},
     "output_type": "execute_result"
    }
   ],
   "source": [
    "type(sample_tuple1)"
   ]
  },
  {
   "cell_type": "code",
   "execution_count": 13,
   "id": "6174ffed",
   "metadata": {},
   "outputs": [
    {
     "name": "stdout",
     "output_type": "stream",
     "text": [
      "(3,)\n"
     ]
    }
   ],
   "source": [
    "sample_tuple2= (3,)\n",
    "print(sample_tuple2)"
   ]
  },
  {
   "cell_type": "code",
   "execution_count": 16,
   "id": "6777bd34",
   "metadata": {},
   "outputs": [
    {
     "data": {
      "text/plain": [
       "tuple"
      ]
     },
     "execution_count": 16,
     "metadata": {},
     "output_type": "execute_result"
    }
   ],
   "source": [
    "type(sample_tuple2)"
   ]
  },
  {
   "cell_type": "code",
   "execution_count": 19,
   "id": "83c8fe23",
   "metadata": {},
   "outputs": [
    {
     "name": "stdout",
     "output_type": "stream",
     "text": [
      "3\n"
     ]
    },
    {
     "data": {
      "text/plain": [
       "int"
      ]
     },
     "execution_count": 19,
     "metadata": {},
     "output_type": "execute_result"
    }
   ],
   "source": [
    "check_tuple = (3)\n",
    "print(check_tuple)\n",
    "type(check_tuple)   #This is not a tuple "
   ]
  },
  {
   "cell_type": "markdown",
   "id": "60c79106",
   "metadata": {},
   "source": [
    "#### Indexing in tuples"
   ]
  },
  {
   "cell_type": "code",
   "execution_count": 41,
   "id": "7f494d81",
   "metadata": {},
   "outputs": [],
   "source": [
    "sachin = (\"Ranchi\", 22, \"Male\")\n",
    "                                      #Indexing(How to access elements in tuple)\n"
   ]
  },
  {
   "cell_type": "code",
   "execution_count": 46,
   "id": "1bd32b3c",
   "metadata": {},
   "outputs": [
    {
     "data": {
      "text/plain": [
       "'Ranchi'"
      ]
     },
     "execution_count": 46,
     "metadata": {},
     "output_type": "execute_result"
    }
   ],
   "source": [
    "sachin[0]"
   ]
  },
  {
   "cell_type": "markdown",
   "id": "06a2ed40",
   "metadata": {},
   "source": [
    "### Slicing in tuple"
   ]
  },
  {
   "cell_type": "code",
   "execution_count": 56,
   "id": "1fedf709",
   "metadata": {},
   "outputs": [],
   "source": [
    "sachin_1 = (\"Ranchi\",22,\"MAle\",\"Engineer\",2022)   #slicing in tuple"
   ]
  },
  {
   "cell_type": "code",
   "execution_count": 57,
   "id": "88eff13c",
   "metadata": {},
   "outputs": [
    {
     "data": {
      "text/plain": [
       "('Ranchi', 22, 'MAle')"
      ]
     },
     "execution_count": 57,
     "metadata": {},
     "output_type": "execute_result"
    }
   ],
   "source": [
    "sachin_1[0:3]    #slicing first three elements"
   ]
  },
  {
   "cell_type": "code",
   "execution_count": 66,
   "id": "59e10403",
   "metadata": {},
   "outputs": [
    {
     "data": {
      "text/plain": [
       "('MAle', 'Engineer', 2022)"
      ]
     },
     "execution_count": 66,
     "metadata": {},
     "output_type": "execute_result"
    }
   ],
   "source": [
    "sachin_1[-3:]      #to slice last three element"
   ]
  },
  {
   "cell_type": "markdown",
   "id": "fb79cc67",
   "metadata": {},
   "source": [
    "#### Length of a tuple"
   ]
  },
  {
   "cell_type": "code",
   "execution_count": 65,
   "id": "3a478e0f",
   "metadata": {},
   "outputs": [
    {
     "data": {
      "text/plain": [
       "5"
      ]
     },
     "execution_count": 65,
     "metadata": {},
     "output_type": "execute_result"
    }
   ],
   "source": [
    "len(sachin_1)                   #Length of a tuple"
   ]
  },
  {
   "cell_type": "markdown",
   "id": "19de1597",
   "metadata": {},
   "source": [
    "#### Concatenating in tuples"
   ]
  },
  {
   "cell_type": "code",
   "execution_count": 67,
   "id": "3f98c012",
   "metadata": {},
   "outputs": [
    {
     "data": {
      "text/plain": [
       "('sachin', 22, 'Male', 'Ranchi', 2024)"
      ]
     },
     "execution_count": 67,
     "metadata": {},
     "output_type": "execute_result"
    }
   ],
   "source": [
    "t1= (\"sachin\", 22, \"Male\")\n",
    "t2= (\"Ranchi\",2024)\n",
    "t3 = t1 + t2                # adding contents of t1 to t2 and storing in t3\n",
    "t3"
   ]
  },
  {
   "cell_type": "code",
   "execution_count": 68,
   "id": "5ade6bd4",
   "metadata": {},
   "outputs": [
    {
     "data": {
      "text/plain": [
       "('Ranchi', 2024, 'sachin', 22, 'Male')"
      ]
     },
     "execution_count": 68,
     "metadata": {},
     "output_type": "execute_result"
    }
   ],
   "source": [
    "t4 = t2+t1\n",
    "t4"
   ]
  },
  {
   "cell_type": "markdown",
   "id": "607a4184",
   "metadata": {},
   "source": [
    "#### sum()-min()-max()\n"
   ]
  },
  {
   "cell_type": "code",
   "execution_count": 74,
   "id": "993b3ee2",
   "metadata": {},
   "outputs": [],
   "source": [
    "smm =(2,2,3,4,5,3,8,65,5,9,2,0)"
   ]
  },
  {
   "cell_type": "code",
   "execution_count": 75,
   "id": "c3241102",
   "metadata": {},
   "outputs": [
    {
     "data": {
      "text/plain": [
       "108"
      ]
     },
     "execution_count": 75,
     "metadata": {},
     "output_type": "execute_result"
    }
   ],
   "source": [
    "sum(smm)"
   ]
  },
  {
   "cell_type": "code",
   "execution_count": 76,
   "id": "6365c5b2",
   "metadata": {},
   "outputs": [
    {
     "data": {
      "text/plain": [
       "0"
      ]
     },
     "execution_count": 76,
     "metadata": {},
     "output_type": "execute_result"
    }
   ],
   "source": [
    "min(smm)"
   ]
  },
  {
   "cell_type": "code",
   "execution_count": 77,
   "id": "f9b482bc",
   "metadata": {},
   "outputs": [
    {
     "data": {
      "text/plain": [
       "65"
      ]
     },
     "execution_count": 77,
     "metadata": {},
     "output_type": "execute_result"
    }
   ],
   "source": [
    "max(smm)"
   ]
  },
  {
   "cell_type": "markdown",
   "id": "2951113d",
   "metadata": {},
   "source": [
    "### Immutablity of tuples"
   ]
  },
  {
   "cell_type": "code",
   "execution_count": 78,
   "id": "e2f9dde1",
   "metadata": {},
   "outputs": [
    {
     "ename": "TypeError",
     "evalue": "'tuple' object does not support item assignment",
     "output_type": "error",
     "traceback": [
      "\u001b[1;31m---------------------------------------------------------------------------\u001b[0m",
      "\u001b[1;31mTypeError\u001b[0m                                 Traceback (most recent call last)",
      "\u001b[1;32m<ipython-input-78-e4dc9212820a>\u001b[0m in \u001b[0;36m<module>\u001b[1;34m\u001b[0m\n\u001b[0;32m      1\u001b[0m \u001b[0mimmu_tuple\u001b[0m \u001b[1;33m=\u001b[0m \u001b[1;34m\"sachin\"\u001b[0m\u001b[1;33m,\u001b[0m \u001b[1;36m22\u001b[0m\u001b[1;33m,\u001b[0m \u001b[1;34m\"ranchi\"\u001b[0m\u001b[1;33m\u001b[0m\u001b[1;33m\u001b[0m\u001b[0m\n\u001b[1;32m----> 2\u001b[1;33m \u001b[0mt\u001b[0m\u001b[1;33m[\u001b[0m\u001b[1;36m2\u001b[0m\u001b[1;33m]\u001b[0m \u001b[1;33m=\u001b[0m \u001b[1;36m24\u001b[0m\u001b[1;33m\u001b[0m\u001b[1;33m\u001b[0m\u001b[0m\n\u001b[0m",
      "\u001b[1;31mTypeError\u001b[0m: 'tuple' object does not support item assignment"
     ]
    }
   ],
   "source": [
    "immu_tuple = \"sachin\", 22, \"ranchi\"\n",
    "t[2] = 24                                 # cannot be altered this way"
   ]
  },
  {
   "cell_type": "code",
   "execution_count": 83,
   "id": "b68059c0",
   "metadata": {},
   "outputs": [
    {
     "data": {
      "text/plain": [
       "('sachin', 22, 'ranchi')"
      ]
     },
     "execution_count": 83,
     "metadata": {},
     "output_type": "execute_result"
    }
   ],
   "source": [
    "new_tup = immu_tuple[0], 22 , immu_tuple[2]\n",
    "new_tup                          # can be altered by slicing the elements"
   ]
  },
  {
   "cell_type": "markdown",
   "id": "5c908399",
   "metadata": {},
   "source": [
    "#### Sorting "
   ]
  },
  {
   "cell_type": "code",
   "execution_count": 84,
   "id": "5ce4a77e",
   "metadata": {},
   "outputs": [
    {
     "data": {
      "text/plain": [
       "[0, 1, 3, 5, 12, 13, 34, 69, 78]"
      ]
     },
     "execution_count": 84,
     "metadata": {},
     "output_type": "execute_result"
    }
   ],
   "source": [
    "sor =  (3,5,34,12,13,0,78,1,69)     # this gives the output as a list\n",
    "sorted(sor)"
   ]
  },
  {
   "cell_type": "code",
   "execution_count": 86,
   "id": "f688199b",
   "metadata": {},
   "outputs": [
    {
     "data": {
      "text/plain": [
       "(0, 1, 3, 5, 12, 13, 34, 69, 78)"
      ]
     },
     "execution_count": 86,
     "metadata": {},
     "output_type": "execute_result"
    }
   ],
   "source": [
    "x= sorted(sor)\n",
    "tuple(x)                             # Convert the sorted list into tuples"
   ]
  },
  {
   "cell_type": "code",
   "execution_count": 88,
   "id": "6f06ed26",
   "metadata": {},
   "outputs": [
    {
     "data": {
      "text/plain": [
       "'Java'"
      ]
     },
     "execution_count": 88,
     "metadata": {},
     "output_type": "execute_result"
    }
   ],
   "source": [
    "# nested tuples\n",
    "\n",
    "nt =(2,3,4,\"ranchi\",(\"Python\",\"Java\"))\n",
    "\n",
    "# Acccess \"Java\" from the nested tuples\n",
    "nt[4][1]"
   ]
  },
  {
   "cell_type": "markdown",
   "id": "ec2512af",
   "metadata": {},
   "source": [
    "#### Packing and Unpacking in Tuples"
   ]
  },
  {
   "cell_type": "code",
   "execution_count": 90,
   "id": "571edf4d",
   "metadata": {},
   "outputs": [
    {
     "name": "stdout",
     "output_type": "stream",
     "text": [
      "4\n"
     ]
    }
   ],
   "source": [
    "tp = (1,2,3,4,5)   #packing\n",
    "(a,b,c,d,e) =tp    #unpacking                         #assigning a value\n",
    "print(d)"
   ]
  },
  {
   "cell_type": "markdown",
   "id": "698bee64",
   "metadata": {},
   "source": [
    "__Dir() -  to view the attributes or methods of an object__"
   ]
  },
  {
   "cell_type": "code",
   "execution_count": 91,
   "id": "78c1d21c",
   "metadata": {},
   "outputs": [
    {
     "name": "stdout",
     "output_type": "stream",
     "text": [
      "['__add__', '__class__', '__contains__', '__delattr__', '__dir__', '__doc__', '__eq__', '__format__', '__ge__', '__getattribute__', '__getitem__', '__getnewargs__', '__gt__', '__hash__', '__init__', '__init_subclass__', '__iter__', '__le__', '__len__', '__lt__', '__mul__', '__ne__', '__new__', '__reduce__', '__reduce_ex__', '__repr__', '__rmul__', '__setattr__', '__sizeof__', '__str__', '__subclasshook__', 'count', 'index']\n"
     ]
    }
   ],
   "source": [
    "t =()\n",
    "print(dir(t))"
   ]
  },
  {
   "cell_type": "code",
   "execution_count": null,
   "id": "b4525cb6",
   "metadata": {},
   "outputs": [],
   "source": []
  }
 ],
 "metadata": {
  "kernelspec": {
   "display_name": "Python 3",
   "language": "python",
   "name": "python3"
  },
  "language_info": {
   "codemirror_mode": {
    "name": "ipython",
    "version": 3
   },
   "file_extension": ".py",
   "mimetype": "text/x-python",
   "name": "python",
   "nbconvert_exporter": "python",
   "pygments_lexer": "ipython3",
   "version": "3.8.8"
  }
 },
 "nbformat": 4,
 "nbformat_minor": 5
}
