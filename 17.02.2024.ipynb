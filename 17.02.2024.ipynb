{
 "cells": [
  {
   "cell_type": "markdown",
   "id": "a108c1d5",
   "metadata": {},
   "source": [
    "#### Comprehension"
   ]
  },
  {
   "cell_type": "markdown",
   "id": "644ae44d",
   "metadata": {},
   "source": [
    "*It is a method to create sequences from another sequences in a clear and concise manner*<Br>\n",
    "*Also this brings in better coade readablity*"
   ]
  },
  {
   "cell_type": "markdown",
   "id": "42b8528b",
   "metadata": {},
   "source": [
    "**List Comprehension**                      *(Most Commonly used)*   <Br>\n",
    "**Set Comprehension<Br>\n",
    "  Dictiionary Comprehension**"
   ]
  },
  {
   "cell_type": "code",
   "execution_count": 1,
   "id": "7d5de592",
   "metadata": {},
   "outputs": [],
   "source": [
    "#List Comprehension\n",
    "# [ item for item in list]"
   ]
  },
  {
   "cell_type": "code",
   "execution_count": 11,
   "id": "d120a59c",
   "metadata": {},
   "outputs": [
    {
     "data": {
      "text/plain": [
       "[0, 2, 4, 6, 8]"
      ]
     },
     "execution_count": 11,
     "metadata": {},
     "output_type": "execute_result"
    }
   ],
   "source": [
    "[i for i in range(0,10,2)]    # List Comprehension"
   ]
  },
  {
   "cell_type": "code",
   "execution_count": 9,
   "id": "67e3d568",
   "metadata": {},
   "outputs": [
    {
     "name": "stdout",
     "output_type": "stream",
     "text": [
      "0\n",
      "2\n",
      "4\n",
      "6\n",
      "8\n"
     ]
    }
   ],
   "source": [
    "for i in range(0,10,2):\n",
    "    print(i)"
   ]
  },
  {
   "cell_type": "code",
   "execution_count": 10,
   "id": "afc86307",
   "metadata": {},
   "outputs": [
    {
     "name": "stdout",
     "output_type": "stream",
     "text": [
      "1\n",
      "3\n",
      "5\n",
      "7\n",
      "9\n"
     ]
    }
   ],
   "source": [
    "for i in range(0,10,2):\n",
    "    print(i+1)"
   ]
  },
  {
   "cell_type": "code",
   "execution_count": 13,
   "id": "d857c877",
   "metadata": {},
   "outputs": [
    {
     "data": {
      "text/plain": [
       "[0, 4, 8, 12, 16]"
      ]
     },
     "execution_count": 13,
     "metadata": {},
     "output_type": "execute_result"
    }
   ],
   "source": [
    "[i+i for i in range(0,10,2)]        #List Comprehension"
   ]
  },
  {
   "cell_type": "code",
   "execution_count": 14,
   "id": "03388d59",
   "metadata": {},
   "outputs": [
    {
     "data": {
      "text/plain": [
       "[0, 9, 36, 81]"
      ]
     },
     "execution_count": 14,
     "metadata": {},
     "output_type": "execute_result"
    }
   ],
   "source": [
    "[i*i for i in range(0,10) if i%3==0] "
   ]
  },
  {
   "cell_type": "code",
   "execution_count": 21,
   "id": "470e69e6",
   "metadata": {},
   "outputs": [
    {
     "data": {
      "text/plain": [
       "[11, 1, 11, 1, 1, 1, 1, 233, 423, 1, 21, 21]"
      ]
     },
     "execution_count": 21,
     "metadata": {},
     "output_type": "execute_result"
    }
   ],
   "source": [
    "[i for i in [11,1,11,1,1,1,1,233,423,1,21,21,]]"
   ]
  },
  {
   "cell_type": "code",
   "execution_count": 22,
   "id": "f196b82c",
   "metadata": {},
   "outputs": [
    {
     "data": {
      "text/plain": [
       "{1, 11, 21, 233, 423}"
      ]
     },
     "execution_count": 22,
     "metadata": {},
     "output_type": "execute_result"
    }
   ],
   "source": [
    "{i for i in [11,1,11,1,1,1,1,233,423,1,21,21,]}    #Set Comprehension  (Remove Duplicates)"
   ]
  },
  {
   "cell_type": "markdown",
   "id": "69d605af",
   "metadata": {},
   "source": [
    "##### Dictionary Comprehension"
   ]
  },
  {
   "cell_type": "markdown",
   "id": "9b9779e0",
   "metadata": {},
   "source": [
    "**We create dictionary using 2 sequences**  <Br>\n",
    "    1. **Sequence 1** : *Key* <Br>\n",
    "    2. **Sequence 2** : *Value* <Br>                                              "
   ]
  },
  {
   "cell_type": "code",
   "execution_count": 23,
   "id": "a6d1c7dd",
   "metadata": {},
   "outputs": [
    {
     "data": {
      "text/plain": [
       "{'Ram': 'Sachin', 'Shyam': 'Subham'}"
      ]
     },
     "execution_count": 23,
     "metadata": {},
     "output_type": "execute_result"
    }
   ],
   "source": [
    "manager_list=[\"Ram\",\"Shyam\"]   #Sequence 1\n",
    "employee_list=[\"Sachin\",\"Subham\"]   #Sequence 2\n",
    "\n",
    "{m : e for m,e in zip(manager_list,employee_list)}"
   ]
  },
  {
   "cell_type": "code",
   "execution_count": 24,
   "id": "1da6909a",
   "metadata": {},
   "outputs": [
    {
     "data": {
      "text/plain": [
       "{'Sachin': 'Highradius',\n",
       " 'Subham': 'Mindtree',\n",
       " 'Nitesh': 'Cognizant',\n",
       " 'Rudra': 'TCS',\n",
       " 'Harsh': 'Upgrad'}"
      ]
     },
     "execution_count": 24,
     "metadata": {},
     "output_type": "execute_result"
    }
   ],
   "source": [
    "name_list =[\"Sachin\", \"Subham\",\"Nitesh\",\"Rudra\",\"Harsh\"]\n",
    "company_list =[\"Highradius\",\"Mindtree\",\"Cognizant\",\"TCS\",\"Upgrad\"]\n",
    "\n",
    "{n : c for n,c in zip(name_list,company_list)}"
   ]
  },
  {
   "cell_type": "code",
   "execution_count": 28,
   "id": "e6053061",
   "metadata": {},
   "outputs": [
    {
     "data": {
      "text/plain": [
       "['Employee Name is Sachin',\n",
       " 'Employee Name is Subham',\n",
       " 'Employee Name is Nitesh',\n",
       " 'Employee Name is Rudra',\n",
       " 'Employee Name is Harsh']"
      ]
     },
     "execution_count": 28,
     "metadata": {},
     "output_type": "execute_result"
    }
   ],
   "source": [
    "prefix = \"Employee Name is \"     #Concatenation\n",
    "[prefix + i for i in[\"Sachin\", \"Subham\",\"Nitesh\",\"Rudra\",\"Harsh\"]]"
   ]
  },
  {
   "cell_type": "code",
   "execution_count": 35,
   "id": "0334225c",
   "metadata": {},
   "outputs": [
    {
     "data": {
      "text/plain": [
       "{1: 1, 2: 8, 3: 27, 4: 64}"
      ]
     },
     "execution_count": 35,
     "metadata": {},
     "output_type": "execute_result"
    }
   ],
   "source": [
    "def List2Dict(input_list):\n",
    "    output_dict = {i :i**3 for i in input_list}\n",
    "    return output_dict\n",
    "\n",
    "input_list = [1,2,3,4]\n",
    "List2Dict(input_list)\n",
    "\n",
    "\n"
   ]
  },
  {
   "cell_type": "code",
   "execution_count": 54,
   "id": "7daddc12",
   "metadata": {},
   "outputs": [
    {
     "data": {
      "text/plain": [
       "{'a': 'A', 'i': 'I', 'u': 'U'}"
      ]
     },
     "execution_count": 54,
     "metadata": {},
     "output_type": "execute_result"
    }
   ],
   "source": [
    "def Extract_vowels(input_string):\n",
    "    output_dic = {char : char.upper() for char in input_string.lower() if char in'aeiou'}\n",
    "    return output_dic\n",
    "\n",
    "input_string= \"Sachin Kumar\"\n",
    "Extract_vowels(input_string)"
   ]
  },
  {
   "cell_type": "code",
   "execution_count": 64,
   "id": "b38da5e6",
   "metadata": {},
   "outputs": [],
   "source": [
    "#This type of functions are defined when the a piece of a code is reused/called multiple time across a application\n",
    "def extract_the_vowels():\n",
    "    #body or logic\n",
    "    return output_str\n",
    "\n",
    "# Adhoc Function : Lambda Function (Does not have a body) | Where there is no complex manipulation : Anonymous functions\n",
    "#It can handle only single expression"
   ]
  },
  {
   "cell_type": "code",
   "execution_count": 58,
   "id": "0a32202d",
   "metadata": {},
   "outputs": [],
   "source": [
    "lambda1 = lambda x : x+2  #lambda input parameter : the output parameter"
   ]
  },
  {
   "cell_type": "code",
   "execution_count": 61,
   "id": "913596bd",
   "metadata": {},
   "outputs": [
    {
     "data": {
      "text/plain": [
       "7"
      ]
     },
     "execution_count": 61,
     "metadata": {},
     "output_type": "execute_result"
    }
   ],
   "source": [
    "lambda1(5)"
   ]
  },
  {
   "cell_type": "code",
   "execution_count": 65,
   "id": "d7b53a79",
   "metadata": {},
   "outputs": [
    {
     "data": {
      "text/plain": [
       "7"
      ]
     },
     "execution_count": 65,
     "metadata": {},
     "output_type": "execute_result"
    }
   ],
   "source": [
    "def plus_2(x):\n",
    "    #lambda functions\n",
    "    # i can define another sub function\n",
    "    return x+2\n",
    "plus_2(5)"
   ]
  },
  {
   "cell_type": "code",
   "execution_count": 70,
   "id": "c82638c6",
   "metadata": {},
   "outputs": [],
   "source": [
    "lambda2 = lambda x,y:x+y-4   #Single line"
   ]
  },
  {
   "cell_type": "code",
   "execution_count": 71,
   "id": "85d1ec78",
   "metadata": {},
   "outputs": [
    {
     "data": {
      "text/plain": [
       "1"
      ]
     },
     "execution_count": 71,
     "metadata": {},
     "output_type": "execute_result"
    }
   ],
   "source": [
    "lambda2(2,3)"
   ]
  },
  {
   "cell_type": "markdown",
   "id": "76cf0070",
   "metadata": {},
   "source": [
    "## Functional Programming"
   ]
  },
  {
   "cell_type": "markdown",
   "id": "c085a5f5",
   "metadata": {},
   "source": [
    "**IN-Built functions**"
   ]
  },
  {
   "cell_type": "markdown",
   "id": "9e0b3c51",
   "metadata": {},
   "source": [
    "1. Map\n",
    "2. Filter\n",
    "2. Reduce"
   ]
  },
  {
   "cell_type": "code",
   "execution_count": null,
   "id": "fea21dc5",
   "metadata": {},
   "outputs": [],
   "source": [
    "#Syntax of map\n",
    "outcome = map(func,seq)"
   ]
  },
  {
   "cell_type": "code",
   "execution_count": 76,
   "id": "4b72f8dc",
   "metadata": {},
   "outputs": [
    {
     "name": "stdout",
     "output_type": "stream",
     "text": [
      "<map object at 0x000002997F7BD9D0>\n"
     ]
    }
   ],
   "source": [
    "def double_value(x):\n",
    "    return 2*x\n",
    "\n",
    "numbers = [1,2,2,3,4,5]\n",
    "outcome = map(double_value,numbers)\n",
    "print(outcome)"
   ]
  },
  {
   "cell_type": "code",
   "execution_count": 77,
   "id": "0ace8b91",
   "metadata": {},
   "outputs": [
    {
     "data": {
      "text/plain": [
       "[2, 4, 4, 6, 8, 10]"
      ]
     },
     "execution_count": 77,
     "metadata": {},
     "output_type": "execute_result"
    }
   ],
   "source": [
    "[i for i in map(double_value,numbers)] #List comprehension"
   ]
  },
  {
   "cell_type": "code",
   "execution_count": 79,
   "id": "ce0bd101",
   "metadata": {},
   "outputs": [
    {
     "data": {
      "text/plain": [
       "{2, 4, 6, 8, 10}"
      ]
     },
     "execution_count": 79,
     "metadata": {},
     "output_type": "execute_result"
    }
   ],
   "source": [
    "{i for i in map(double_value,numbers)} #Set comprehension"
   ]
  },
  {
   "cell_type": "code",
   "execution_count": null,
   "id": "362ead84",
   "metadata": {},
   "outputs": [],
   "source": [
    "#Syntax of filter\n",
    "outcome = filter(func,seq)"
   ]
  },
  {
   "cell_type": "code",
   "execution_count": 80,
   "id": "9e42039a",
   "metadata": {},
   "outputs": [
    {
     "data": {
      "text/plain": [
       "[2, 4]"
      ]
     },
     "execution_count": 80,
     "metadata": {},
     "output_type": "execute_result"
    }
   ],
   "source": [
    "def is_even(x):\n",
    "    return x%2==0\n",
    "                                    \n",
    "numbers = [1,2,3,4,5]\n",
    "[i for i in filter(is_even,numbers)]"
   ]
  },
  {
   "cell_type": "code",
   "execution_count": null,
   "id": "ed04910d",
   "metadata": {},
   "outputs": [],
   "source": []
  }
 ],
 "metadata": {
  "kernelspec": {
   "display_name": "Python 3",
   "language": "python",
   "name": "python3"
  },
  "language_info": {
   "codemirror_mode": {
    "name": "ipython",
    "version": 3
   },
   "file_extension": ".py",
   "mimetype": "text/x-python",
   "name": "python",
   "nbconvert_exporter": "python",
   "pygments_lexer": "ipython3",
   "version": "3.8.8"
  }
 },
 "nbformat": 4,
 "nbformat_minor": 5
}
