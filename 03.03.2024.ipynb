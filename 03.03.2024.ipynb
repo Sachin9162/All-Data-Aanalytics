{
 "cells": [
  {
   "cell_type": "markdown",
   "id": "cb995b22",
   "metadata": {},
   "source": [
    "## Introduction to Numpy"
   ]
  },
  {
   "cell_type": "code",
   "execution_count": 9,
   "id": "8f000451",
   "metadata": {},
   "outputs": [],
   "source": [
    "import pandas as pd"
   ]
  },
  {
   "cell_type": "code",
   "execution_count": 10,
   "id": "f56edee9",
   "metadata": {},
   "outputs": [],
   "source": [
    "import numpy as np"
   ]
  },
  {
   "cell_type": "code",
   "execution_count": 12,
   "id": "7a35ef32",
   "metadata": {},
   "outputs": [],
   "source": [
    "variable = [2,3,5,7,11]"
   ]
  },
  {
   "cell_type": "code",
   "execution_count": 13,
   "id": "1183ea32",
   "metadata": {},
   "outputs": [
    {
     "data": {
      "text/plain": [
       "list"
      ]
     },
     "execution_count": 13,
     "metadata": {},
     "output_type": "execute_result"
    }
   ],
   "source": [
    "type([2,3,5,7,11])"
   ]
  },
  {
   "cell_type": "code",
   "execution_count": 11,
   "id": "6608ba24",
   "metadata": {},
   "outputs": [
    {
     "name": "stdout",
     "output_type": "stream",
     "text": [
      "[ 2  3  5  7 11]\n"
     ]
    }
   ],
   "source": [
    "#Create a one dimensional Array\n",
    "prime_array= np.array([2,3,5,7,11])\n",
    "print(prime_array)"
   ]
  },
  {
   "cell_type": "code",
   "execution_count": 14,
   "id": "5b3692ec",
   "metadata": {},
   "outputs": [
    {
     "data": {
      "text/plain": [
       "numpy.ndarray"
      ]
     },
     "execution_count": 14,
     "metadata": {},
     "output_type": "execute_result"
    }
   ],
   "source": [
    "type(prime_array)"
   ]
  },
  {
   "cell_type": "code",
   "execution_count": 15,
   "id": "7596c195",
   "metadata": {},
   "outputs": [],
   "source": [
    "new_var = []\n",
    "for i in variable:\n",
    "    new_var.append(i*2)"
   ]
  },
  {
   "cell_type": "code",
   "execution_count": 16,
   "id": "b25956c7",
   "metadata": {},
   "outputs": [
    {
     "name": "stdout",
     "output_type": "stream",
     "text": [
      "[4, 6, 10, 14, 22]\n"
     ]
    }
   ],
   "source": [
    "print(new_var)"
   ]
  },
  {
   "cell_type": "code",
   "execution_count": 17,
   "id": "2ff19306",
   "metadata": {},
   "outputs": [
    {
     "name": "stdout",
     "output_type": "stream",
     "text": [
      "5\n"
     ]
    }
   ],
   "source": [
    "print(prime_array[2])"
   ]
  },
  {
   "cell_type": "code",
   "execution_count": 18,
   "id": "778b4c3c",
   "metadata": {},
   "outputs": [
    {
     "data": {
      "text/plain": [
       "numpy.int32"
      ]
     },
     "execution_count": 18,
     "metadata": {},
     "output_type": "execute_result"
    }
   ],
   "source": [
    "type(prime_array[0])"
   ]
  },
  {
   "cell_type": "code",
   "execution_count": 19,
   "id": "b8bdc3e4",
   "metadata": {},
   "outputs": [
    {
     "name": "stdout",
     "output_type": "stream",
     "text": [
      "[[1 2]\n",
      " [3 4]\n",
      " [5 6]]\n"
     ]
    }
   ],
   "source": [
    "#Create a two dimensional array\n",
    "another_array = np.array([[1,2],[3,4],[5,6]])\n",
    "print(another_array)"
   ]
  },
  {
   "cell_type": "code",
   "execution_count": 21,
   "id": "c449c9c4",
   "metadata": {},
   "outputs": [
    {
     "data": {
      "text/plain": [
       "4"
      ]
     },
     "execution_count": 21,
     "metadata": {},
     "output_type": "execute_result"
    }
   ],
   "source": [
    "#How to get 4 out of the array\n",
    "another_array[1][1]"
   ]
  },
  {
   "cell_type": "code",
   "execution_count": 23,
   "id": "407b0ef7",
   "metadata": {},
   "outputs": [
    {
     "data": {
      "text/plain": [
       "4"
      ]
     },
     "execution_count": 23,
     "metadata": {},
     "output_type": "execute_result"
    }
   ],
   "source": [
    "another_array[1,1]   #another way is to use \",\""
   ]
  },
  {
   "cell_type": "code",
   "execution_count": 24,
   "id": "07fb76bf",
   "metadata": {},
   "outputs": [],
   "source": [
    "oned_array = np.array(range(0,100))"
   ]
  },
  {
   "cell_type": "code",
   "execution_count": 25,
   "id": "61eea310",
   "metadata": {},
   "outputs": [
    {
     "data": {
      "text/plain": [
       "array([ 0,  1,  2,  3,  4,  5,  6,  7,  8,  9, 10, 11, 12, 13, 14, 15, 16,\n",
       "       17, 18, 19, 20, 21, 22, 23, 24, 25, 26, 27, 28, 29, 30, 31, 32, 33,\n",
       "       34, 35, 36, 37, 38, 39, 40, 41, 42, 43, 44, 45, 46, 47, 48, 49, 50,\n",
       "       51, 52, 53, 54, 55, 56, 57, 58, 59, 60, 61, 62, 63, 64, 65, 66, 67,\n",
       "       68, 69, 70, 71, 72, 73, 74, 75, 76, 77, 78, 79, 80, 81, 82, 83, 84,\n",
       "       85, 86, 87, 88, 89, 90, 91, 92, 93, 94, 95, 96, 97, 98, 99])"
      ]
     },
     "execution_count": 25,
     "metadata": {},
     "output_type": "execute_result"
    }
   ],
   "source": [
    "oned_array"
   ]
  },
  {
   "cell_type": "code",
   "execution_count": 26,
   "id": "8e26d738",
   "metadata": {},
   "outputs": [
    {
     "data": {
      "text/plain": [
       "array([50, 51, 52, 53, 54, 55, 56, 57, 58, 59, 60, 61, 62, 63, 64, 65, 66,\n",
       "       67, 68, 69, 70, 71, 72, 73, 74, 75, 76, 77, 78, 79, 80, 81, 82, 83,\n",
       "       84, 85, 86, 87, 88, 89, 90, 91, 92, 93, 94, 95, 96, 97, 98, 99])"
      ]
     },
     "execution_count": 26,
     "metadata": {},
     "output_type": "execute_result"
    }
   ],
   "source": [
    "oned_array[50:]"
   ]
  },
  {
   "cell_type": "code",
   "execution_count": 31,
   "id": "5cbdb95b",
   "metadata": {},
   "outputs": [],
   "source": [
    "twod_array= np.array([[1,2,3,4],[5,6,7,8]])"
   ]
  },
  {
   "cell_type": "code",
   "execution_count": 32,
   "id": "be51f6ed",
   "metadata": {},
   "outputs": [
    {
     "data": {
      "text/plain": [
       "(2, 4)"
      ]
     },
     "execution_count": 32,
     "metadata": {},
     "output_type": "execute_result"
    }
   ],
   "source": [
    "twod_array.shape"
   ]
  },
  {
   "cell_type": "code",
   "execution_count": 33,
   "id": "01f57d6d",
   "metadata": {},
   "outputs": [
    {
     "name": "stdout",
     "output_type": "stream",
     "text": [
      "[[[ 1  2  3  4]\n",
      "  [ 5  6  7  8]]\n",
      "\n",
      " [[ 9 10 11 12]\n",
      "  [13 14 15 16]]]\n",
      "(2, 2, 4)\n"
     ]
    }
   ],
   "source": [
    "#Create a three-dimensional array\n",
    "threeD_array = np.array([[[1,2,3,4],\n",
    "                         [5,6,7,8]],\n",
    "                         [[9,10,11,12],\n",
    "                         [13,14,15,16]]])\n",
    "print(threeD_array)\n",
    "print(threeD_array.shape)"
   ]
  },
  {
   "cell_type": "code",
   "execution_count": 34,
   "id": "11b682fa",
   "metadata": {},
   "outputs": [],
   "source": [
    "alma_array = np.array([[1,2,3],[4,5,6]])"
   ]
  },
  {
   "cell_type": "code",
   "execution_count": 36,
   "id": "bf125edd",
   "metadata": {},
   "outputs": [
    {
     "data": {
      "text/plain": [
       "(2, 3)"
      ]
     },
     "execution_count": 36,
     "metadata": {},
     "output_type": "execute_result"
    }
   ],
   "source": [
    "alma_array.shape         #shape of the array"
   ]
  },
  {
   "cell_type": "code",
   "execution_count": 37,
   "id": "458d4fbb",
   "metadata": {},
   "outputs": [
    {
     "data": {
      "text/plain": [
       "2"
      ]
     },
     "execution_count": 37,
     "metadata": {},
     "output_type": "execute_result"
    }
   ],
   "source": [
    "alma_array.ndim          #highest dimension of the array"
   ]
  },
  {
   "cell_type": "code",
   "execution_count": 38,
   "id": "60efbb9d",
   "metadata": {},
   "outputs": [
    {
     "data": {
      "text/plain": [
       "(2, 4)"
      ]
     },
     "execution_count": 38,
     "metadata": {},
     "output_type": "execute_result"
    }
   ],
   "source": [
    "alma_array = np.array([[1,2,3,4],[4,5,6,9]])\n",
    "alma_array.shape "
   ]
  },
  {
   "cell_type": "code",
   "execution_count": 41,
   "id": "4c0a333f",
   "metadata": {},
   "outputs": [
    {
     "name": "stdout",
     "output_type": "stream",
     "text": [
      "(4, 2, 3)\n"
     ]
    }
   ],
   "source": [
    "alma_array= np.array([[[1,2,3],[4,5,6]],\n",
    "                      [[1,2,3],[4,5,6]],\n",
    "                      [[1,2,3],[4,5,6]],\n",
    "                      [[1,2,3],[4,5,6]]])\n",
    "print(alma_array.shape)"
   ]
  },
  {
   "cell_type": "code",
   "execution_count": 42,
   "id": "b28f7a09",
   "metadata": {},
   "outputs": [
    {
     "data": {
      "text/plain": [
       "24"
      ]
     },
     "execution_count": 42,
     "metadata": {},
     "output_type": "execute_result"
    }
   ],
   "source": [
    "alma_array.size            #count of elements"
   ]
  },
  {
   "cell_type": "code",
   "execution_count": 43,
   "id": "4429ccce",
   "metadata": {},
   "outputs": [
    {
     "data": {
      "text/plain": [
       "dtype('int32')"
      ]
     },
     "execution_count": 43,
     "metadata": {},
     "output_type": "execute_result"
    }
   ],
   "source": [
    "alma_array.dtype            #data type"
   ]
  },
  {
   "cell_type": "markdown",
   "id": "646f8b8b",
   "metadata": {},
   "source": [
    "#### Changing th etypr using 'ndarray.astype"
   ]
  },
  {
   "cell_type": "code",
   "execution_count": 47,
   "id": "51d714dd",
   "metadata": {},
   "outputs": [
    {
     "name": "stdout",
     "output_type": "stream",
     "text": [
      "[2 3 4]\n",
      "int32\n",
      "[2. 3. 4.]\n",
      "float64\n",
      "[b'2' b'3' b'4']\n",
      "|S11\n"
     ]
    }
   ],
   "source": [
    "#Create an array\n",
    "aravali= np.array([2,3,4])\n",
    "print(aravali)\n",
    "print(aravali.dtype)\n",
    "\n",
    "#change the data type of the array to float\n",
    "aravali_ =aravali.astype('float64')\n",
    "print(aravali_)\n",
    "print(aravali_.dtype)\n",
    "\n",
    "#Change the data type of the array to string\n",
    "_aravali_ =aravali.astype('string_')\n",
    "print(_aravali_)\n",
    "print(_aravali_.dtype)"
   ]
  },
  {
   "cell_type": "code",
   "execution_count": null,
   "id": "f745a47c",
   "metadata": {},
   "outputs": [],
   "source": []
  }
 ],
 "metadata": {
  "kernelspec": {
   "display_name": "Python 3",
   "language": "python",
   "name": "python3"
  },
  "language_info": {
   "codemirror_mode": {
    "name": "ipython",
    "version": 3
   },
   "file_extension": ".py",
   "mimetype": "text/x-python",
   "name": "python",
   "nbconvert_exporter": "python",
   "pygments_lexer": "ipython3",
   "version": "3.8.8"
  }
 },
 "nbformat": 4,
 "nbformat_minor": 5
}
