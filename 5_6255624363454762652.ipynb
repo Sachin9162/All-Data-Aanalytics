{
 "cells": [
  {
   "cell_type": "code",
   "execution_count": null,
   "id": "751c53ec",
   "metadata": {},
   "outputs": [],
   "source": [
    "# Class Name : Dog\n",
    "\n",
    "# Class Dog (Attributes/information/data)\n",
    "# 1. Name\n",
    "# 2. Breed \n",
    "# 3. Age\n",
    "# 4. Color \n",
    "# 5. Gender\n",
    "\n",
    "# Class Dog (Behaviour/Methods)\n",
    "# 1. bark\n",
    "# 2. wag_tail\n",
    "# 3. eat\n",
    "# 4. shake_hand\n",
    "# 5. sleep\n",
    "# 6. fetch_ball"
   ]
  },
  {
   "cell_type": "code",
   "execution_count": 1,
   "id": "91573bef",
   "metadata": {},
   "outputs": [],
   "source": [
    "class Dog:\n",
    "    \n",
    "    # Object Initialization\n",
    "    def __init__(self,name,breed,age,color,gender):\n",
    "        self.name = name\n",
    "        self.breed = breed\n",
    "        self.age = age\n",
    "        self.color = color\n",
    "        self.gender = gender\n",
    "    \n",
    "    def bark(self):\n",
    "        # logics\n",
    "        print(\"Woof !!\")\n",
    "    \n",
    "    def wag_tail(self):\n",
    "        # logics\n",
    "        print(\" wags the tail :-) \")\n",
    "        "
   ]
  },
  {
   "cell_type": "code",
   "execution_count": 2,
   "id": "cbdb52fd",
   "metadata": {},
   "outputs": [],
   "source": [
    "my_dog = Dog(\"spot\",\"golden_retriver\",5,\"gold\",\"male\")"
   ]
  },
  {
   "cell_type": "code",
   "execution_count": 3,
   "id": "eb2d25c0",
   "metadata": {},
   "outputs": [
    {
     "data": {
      "text/plain": [
       "'spot'"
      ]
     },
     "execution_count": 3,
     "metadata": {},
     "output_type": "execute_result"
    }
   ],
   "source": [
    "my_dog.name"
   ]
  },
  {
   "cell_type": "code",
   "execution_count": 4,
   "id": "0ceff952",
   "metadata": {},
   "outputs": [
    {
     "name": "stdout",
     "output_type": "stream",
     "text": [
      "Woof !!\n"
     ]
    }
   ],
   "source": [
    "my_dog.bark()"
   ]
  },
  {
   "cell_type": "code",
   "execution_count": null,
   "id": "94ee8354",
   "metadata": {},
   "outputs": [],
   "source": [
    "#class name should be camel case\n",
    "\n",
    "Upgrad (Single)\n",
    "\n",
    "DataPreparation (More than 1)\n",
    "\n",
    "#function\n",
    "\n",
    "displaySmallMessage\n",
    "\n",
    "# variables\n",
    "\n",
    "name\n",
    "\n",
    "student_name\n",
    "\n",
    "father_name\n",
    "\n",
    "date_of_birth"
   ]
  },
  {
   "cell_type": "code",
   "execution_count": null,
   "id": "1c03ce6a",
   "metadata": {},
   "outputs": [],
   "source": [
    "write a program to create a Calculator Functionality using class and objects"
   ]
  },
  {
   "cell_type": "code",
   "execution_count": null,
   "id": "1ab9f45f",
   "metadata": {},
   "outputs": [],
   "source": [
    "# class name : Calculator \n",
    "\n",
    "# data/attributes : input_1 , input_2\n",
    "\n",
    "# methods/behaviours\n",
    "\n",
    "# 1. Addition\n",
    "# 2. Substraction\n",
    "# 3. Multiplication\n",
    "# 4. Division"
   ]
  },
  {
   "cell_type": "code",
   "execution_count": 61,
   "id": "382f23d7",
   "metadata": {},
   "outputs": [
    {
     "ename": "SyntaxError",
     "evalue": "non-default argument follows default argument (2207533026.py, line 1)",
     "output_type": "error",
     "traceback": [
      "\u001b[0;36m  Cell \u001b[0;32mIn[61], line 1\u001b[0;36m\u001b[0m\n\u001b[0;31m    def check_ab(a=\"srikant\",b): # Mandatory Parameters\u001b[0m\n\u001b[0m                             ^\u001b[0m\n\u001b[0;31mSyntaxError\u001b[0m\u001b[0;31m:\u001b[0m non-default argument follows default argument\n"
     ]
    }
   ],
   "source": [
    "def check_ab(a=\"srikant\",b): # Optional & Mandatory Parameters\n",
    "    print(a,b)\n",
    "\n",
    "check_ab(\"srikant\",)"
   ]
  },
  {
   "cell_type": "code",
   "execution_count": 55,
   "id": "662f879d",
   "metadata": {},
   "outputs": [
    {
     "name": "stdout",
     "output_type": "stream",
     "text": [
      "srikant subham\n"
     ]
    }
   ],
   "source": [
    "def check_ab(a,b): # Mandatory Parameters\n",
    "    print(a,b)\n",
    "\n",
    "check_ab(\"srikant\",\"subham\")"
   ]
  },
  {
   "cell_type": "code",
   "execution_count": 57,
   "id": "4a4347d8",
   "metadata": {},
   "outputs": [],
   "source": [
    "def check_ab(a=\"shyam\",b=\"ram\"): #Default Parameters/Optional parameters\n",
    "    print(a,b)"
   ]
  },
  {
   "cell_type": "code",
   "execution_count": 60,
   "id": "e44cd68a",
   "metadata": {},
   "outputs": [
    {
     "name": "stdout",
     "output_type": "stream",
     "text": [
      "shyam ram\n"
     ]
    }
   ],
   "source": [
    "check_ab()"
   ]
  },
  {
   "cell_type": "code",
   "execution_count": 59,
   "id": "3f6f693d",
   "metadata": {},
   "outputs": [
    {
     "name": "stdout",
     "output_type": "stream",
     "text": [
      "srikant sahoo\n"
     ]
    }
   ],
   "source": [
    "check_ab(\"srikant\",\"sahoo\")"
   ]
  },
  {
   "cell_type": "code",
   "execution_count": 66,
   "id": "a61eca6e",
   "metadata": {},
   "outputs": [],
   "source": [
    "class Calculator:\n",
    "    def __init__(self, input_1, input_2):\n",
    "        self.input_1 = input_1\n",
    "        self.input_2 = input_2\n",
    "        #self.input_3 = input_1+input_2\n",
    "        print(\"Object is Intialized\")\n",
    "\n",
    "    #def addition(self,input_1,input_2): # this called a mandatory parameter\n",
    "    def addition(self,input_1 = 0,input_2 = 0): \n",
    "        if input_1 == 0 and input_2 == 0:\n",
    "            # inputs are now the original initialized values \n",
    "            input_1 = self.input_1\n",
    "            input_2 = self.input_2\n",
    "        return input_1 + input_2\n",
    "\n",
    "    def subtraction(self,input_1 = 0,input_2 = 0):\n",
    "        if input_1 == 0 and input_2 == 0:\n",
    "            input_1 = self.input_1\n",
    "            input_2 = self.input_2\n",
    "        return input_1 - input_2\n",
    "\n",
    "    def multiplication(self,input_1 = 0,input_2 = 0):\n",
    "        if input_1 == 0 and input_2 == 0:\n",
    "            input_1 = self.input_1\n",
    "            input_2 = self.input_2\n",
    "        return input_1 * input_2\n",
    "\n",
    "    def division(self,input_1 = 0,input_2 = 0):\n",
    "        try :\n",
    "            if input_1 == 0 and input_2 == 0:\n",
    "                input_1 = self.input_1\n",
    "                input_2 = self.input_2\n",
    "            return input_1 / input_2\n",
    "        except:\n",
    "            print(\"both input_1 and input_2 are provided with value 0\")"
   ]
  },
  {
   "cell_type": "code",
   "execution_count": 46,
   "id": "c03f95ad",
   "metadata": {},
   "outputs": [
    {
     "name": "stdout",
     "output_type": "stream",
     "text": [
      "Object is Intialized\n"
     ]
    }
   ],
   "source": [
    "my_calc = Calculator(1,2)"
   ]
  },
  {
   "cell_type": "code",
   "execution_count": 47,
   "id": "51cf42d6",
   "metadata": {},
   "outputs": [
    {
     "data": {
      "text/plain": [
       "1"
      ]
     },
     "execution_count": 47,
     "metadata": {},
     "output_type": "execute_result"
    }
   ],
   "source": [
    "my_calc.input_1"
   ]
  },
  {
   "cell_type": "code",
   "execution_count": 48,
   "id": "2f28a07e",
   "metadata": {},
   "outputs": [
    {
     "data": {
      "text/plain": [
       "2"
      ]
     },
     "execution_count": 48,
     "metadata": {},
     "output_type": "execute_result"
    }
   ],
   "source": [
    "my_calc.input_2"
   ]
  },
  {
   "cell_type": "code",
   "execution_count": 53,
   "id": "e42cce70",
   "metadata": {},
   "outputs": [
    {
     "data": {
      "text/plain": [
       "3"
      ]
     },
     "execution_count": 53,
     "metadata": {},
     "output_type": "execute_result"
    }
   ],
   "source": [
    "my_calc.addition()"
   ]
  },
  {
   "cell_type": "code",
   "execution_count": 52,
   "id": "fa15b976",
   "metadata": {},
   "outputs": [
    {
     "data": {
      "text/plain": [
       "9"
      ]
     },
     "execution_count": 52,
     "metadata": {},
     "output_type": "execute_result"
    }
   ],
   "source": [
    "my_calc.addition(4,5)"
   ]
  },
  {
   "cell_type": "code",
   "execution_count": 67,
   "id": "09785129",
   "metadata": {},
   "outputs": [
    {
     "name": "stdout",
     "output_type": "stream",
     "text": [
      "Object is Intialized\n",
      "both input_1 and input_2 are provided with value 0\n"
     ]
    }
   ],
   "source": [
    "my_calc = Calculator(0,0)\n",
    "my_calc.division()"
   ]
  },
  {
   "cell_type": "code",
   "execution_count": null,
   "id": "c32409ca",
   "metadata": {},
   "outputs": [],
   "source": [
    "__init__ = In Python Object Initialization is doing using/under the method \n",
    "\n",
    "__init__ is a special python bult-in keyword that is called when an object is created \n",
    "\n",
    "__init__ can take n numbers of input arguments and but it cannot have any return value \n",
    "\n",
    "self {you can have your own accesor name} is again a python accessor instance inside class to access attributes/variables within class and within methods"
   ]
  },
  {
   "cell_type": "code",
   "execution_count": null,
   "id": "f8d04c4e",
   "metadata": {},
   "outputs": [],
   "source": [
    "PAtterns\n",
    "\n",
    "*\n",
    "**\n",
    "***\n",
    "****\n",
    "\n",
    "Itertive Loops\n",
    "\n",
    "n = 10\n",
    "0 *\n",
    "1 **\n",
    "2 ***\n",
    "\n",
    "9 *********** "
   ]
  },
  {
   "cell_type": "code",
   "execution_count": 70,
   "id": "01f47ed9",
   "metadata": {},
   "outputs": [
    {
     "name": "stdout",
     "output_type": "stream",
     "text": [
      "* \r\n",
      "* * \r\n",
      "* * * \r\n",
      "* * * * \r\n",
      "* * * * * \r\n"
     ]
    }
   ],
   "source": [
    "def pattern(n):\n",
    "    for i in range(0, n):\n",
    "        for j in range(0, i+1):\n",
    "            print(\"* \",end=\"\")\n",
    "        print(\"\\r\")\n",
    "\n",
    "n= 5\n",
    "pattern(n)"
   ]
  },
  {
   "cell_type": "code",
   "execution_count": 100,
   "id": "945d4213",
   "metadata": {},
   "outputs": [
    {
     "name": "stdout",
     "output_type": "stream",
     "text": [
      "*\n",
      "**\n",
      "***\n",
      "****\n",
      "*****\n"
     ]
    }
   ],
   "source": [
    "n= 5\n",
    "for i in range(1,n+1):\n",
    "    #print(i)\n",
    "    print(f\"{i*'*'}\")"
   ]
  },
  {
   "cell_type": "code",
   "execution_count": 74,
   "id": "b4c142f7",
   "metadata": {},
   "outputs": [
    {
     "name": "stdout",
     "output_type": "stream",
     "text": [
      "10\n",
      "                  *\n",
      "                  * *\n",
      "                  * * *\n",
      "                  * * * *\n",
      "                  * * * * *\n",
      "                  * * * * * *\n",
      "                  * * * * * * *\n",
      "                  * * * * * * * *\n",
      "                  * * * * * * * * *\n",
      "                  * * * * * * * * * *\n"
     ]
    }
   ],
   "source": [
    "n=int(input())\n",
    "for i in range(1,n+1):\n",
    "    for j in range(n-1):\n",
    "          print(\" \", end=\" \")\n",
    "    for k in range(i-1):\n",
    "          print(\"*\",end=\" \")\n",
    "    print('*')"
   ]
  },
  {
   "cell_type": "code",
   "execution_count": 76,
   "id": "34e43864",
   "metadata": {},
   "outputs": [
    {
     "name": "stdout",
     "output_type": "stream",
     "text": [
      "    *\n",
      "   ***\n",
      "  *****\n",
      " *******\n",
      "*********\n"
     ]
    }
   ],
   "source": [
    "def pyramid(rows):\n",
    "    for i in range(rows):\n",
    "        print(' ' * (rows - i - 1) + '*' * (2 * i + 1))\n",
    "\n",
    "\n",
    "pyramid(5)"
   ]
  },
  {
   "cell_type": "code",
   "execution_count": null,
   "id": "852d7264",
   "metadata": {},
   "outputs": [],
   "source": [
    "you need to pass a list , you need to return the maximum , minimum , no of occurance of a number \n",
    "\n",
    "\n",
    "class ListOperations\n",
    "\n",
    "input a list /attribute [2,2,2,1,4,5,6,7,8,9,10,0]\n",
    "\n",
    "functions\n",
    "\n",
    "minimum\n",
    "\n",
    "maximum \n",
    "\n",
    "occurances of a number (2) : 3   (11) : \"Number given is not a part of the list\"\n",
    "\n",
    "try and exception block\n",
    "\n"
   ]
  },
  {
   "cell_type": "code",
   "execution_count": null,
   "id": "a5a7287d",
   "metadata": {},
   "outputs": [],
   "source": [
    "class classname\n",
    "\n",
    "def __init__(self,input_list)\n",
    "    self.input_list  = input_list"
   ]
  },
  {
   "cell_type": "code",
   "execution_count": 77,
   "id": "e611ead4",
   "metadata": {},
   "outputs": [
    {
     "data": {
      "text/plain": [
       "False"
      ]
     },
     "execution_count": 77,
     "metadata": {},
     "output_type": "execute_result"
    }
   ],
   "source": [
    "# mylist = [2,2,2,1,4,5,6,7,8,9,10,0]\n",
    "\n",
    "max in [2,2,2,1,4,5,6,7,8,9,10,0]"
   ]
  },
  {
   "cell_type": "code",
   "execution_count": 93,
   "id": "f16c3c61",
   "metadata": {},
   "outputs": [],
   "source": [
    "class ListOperation:\n",
    "    def __init__(self, inputlist):\n",
    "        self.inputlist = inputlist\n",
    "\n",
    "    def getMax(self):\n",
    "        return max(self.inputlist)\n",
    "        \n",
    "    def getMin(self):\n",
    "        return min(self.inputlist)\n",
    "        \n",
    "    def getOccurances(self,number):\n",
    "        if number in self.inputlist:\n",
    "            count = 0\n",
    "            for i in self.inputlist:\n",
    "                if i == number:\n",
    "                    count = count + 1\n",
    "            print(\"Total Occurance : \", count)\n",
    "        else:\n",
    "            print(\"The Number is not in the list provided.\")\n",
    "        \n",
    "numbers = [1, 2, 3, 4, 2, 3, 4, 5, 3, 4, 4, 5, 6]\n",
    "lOps = ListOperation(numbers)\n"
   ]
  },
  {
   "cell_type": "code",
   "execution_count": 94,
   "id": "da0ffb67",
   "metadata": {},
   "outputs": [
    {
     "data": {
      "text/plain": [
       "[1, 2, 3, 4, 2, 3, 4, 5, 3, 4, 4, 5, 6]"
      ]
     },
     "execution_count": 94,
     "metadata": {},
     "output_type": "execute_result"
    }
   ],
   "source": [
    "lOps.inputlist"
   ]
  },
  {
   "cell_type": "code",
   "execution_count": 95,
   "id": "2f8e3218",
   "metadata": {},
   "outputs": [
    {
     "data": {
      "text/plain": [
       "6"
      ]
     },
     "execution_count": 95,
     "metadata": {},
     "output_type": "execute_result"
    }
   ],
   "source": [
    "lOps.getMax()"
   ]
  },
  {
   "cell_type": "code",
   "execution_count": 96,
   "id": "fea9f95e",
   "metadata": {},
   "outputs": [
    {
     "data": {
      "text/plain": [
       "1"
      ]
     },
     "execution_count": 96,
     "metadata": {},
     "output_type": "execute_result"
    }
   ],
   "source": [
    "lOps.getMin()"
   ]
  },
  {
   "cell_type": "code",
   "execution_count": 97,
   "id": "f9e63db7",
   "metadata": {},
   "outputs": [
    {
     "name": "stdout",
     "output_type": "stream",
     "text": [
      "Total Occurance :  3\n"
     ]
    }
   ],
   "source": [
    "lOps.getOccurances(3)"
   ]
  },
  {
   "cell_type": "code",
   "execution_count": 98,
   "id": "57c2e7ef",
   "metadata": {},
   "outputs": [
    {
     "name": "stdout",
     "output_type": "stream",
     "text": [
      "The Number is not in the list provided.\n"
     ]
    }
   ],
   "source": [
    "lOps.getOccurances(10)"
   ]
  },
  {
   "cell_type": "code",
   "execution_count": null,
   "id": "fb0ad7ff",
   "metadata": {},
   "outputs": [],
   "source": []
  }
 ],
 "metadata": {
  "kernelspec": {
   "display_name": "Python 3",
   "language": "python",
   "name": "python3"
  },
  "language_info": {
   "codemirror_mode": {
    "name": "ipython",
    "version": 3
   },
   "file_extension": ".py",
   "mimetype": "text/x-python",
   "name": "python",
   "nbconvert_exporter": "python",
   "pygments_lexer": "ipython3",
   "version": "3.8.8"
  }
 },
 "nbformat": 4,
 "nbformat_minor": 5
}
