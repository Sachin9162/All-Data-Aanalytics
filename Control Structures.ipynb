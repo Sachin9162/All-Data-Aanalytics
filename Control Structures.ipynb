{
 "cells": [
  {
   "cell_type": "markdown",
   "id": "5023eec1",
   "metadata": {},
   "source": [
    "### <font color =red>Relational operators\n",
    "\n",
    "-  compares the value on either side of the operator and returns the boolean value as True or False"
   ]
  },
  {
   "cell_type": "code",
   "execution_count": 2,
   "id": "46b9857f",
   "metadata": {},
   "outputs": [
    {
     "data": {
      "text/plain": [
       "True"
      ]
     },
     "execution_count": 2,
     "metadata": {},
     "output_type": "execute_result"
    }
   ],
   "source": [
    "10 == 10  #Equal to operator\n"
   ]
  },
  {
   "cell_type": "markdown",
   "id": "f159d373",
   "metadata": {},
   "source": [
    "### <font color =red> Alert!!!\n",
    "\n",
    "#### = is an assignment operator, to assign value of an expression on right to value of variable on left."
   ]
  },
  {
   "cell_type": "code",
   "execution_count": 3,
   "id": "8478afeb",
   "metadata": {},
   "outputs": [
    {
     "data": {
      "text/plain": [
       "False"
      ]
     },
     "execution_count": 3,
     "metadata": {},
     "output_type": "execute_result"
    }
   ],
   "source": [
    "10 == 5"
   ]
  },
  {
   "cell_type": "code",
   "execution_count": 4,
   "id": "d4e92fa0",
   "metadata": {},
   "outputs": [
    {
     "data": {
      "text/plain": [
       "True"
      ]
     },
     "execution_count": 4,
     "metadata": {},
     "output_type": "execute_result"
    }
   ],
   "source": [
    "20 != 5    #Not equal to operator   "
   ]
  },
  {
   "cell_type": "code",
   "execution_count": 5,
   "id": "c4d795d4",
   "metadata": {},
   "outputs": [
    {
     "data": {
      "text/plain": [
       "True"
      ]
     },
     "execution_count": 5,
     "metadata": {},
     "output_type": "execute_result"
    }
   ],
   "source": [
    "10 > 5      #Greater than Operator"
   ]
  },
  {
   "cell_type": "code",
   "execution_count": 6,
   "id": "45e46f27",
   "metadata": {},
   "outputs": [
    {
     "data": {
      "text/plain": [
       "False"
      ]
     },
     "execution_count": 6,
     "metadata": {},
     "output_type": "execute_result"
    }
   ],
   "source": [
    "10 < 5       # Less than operator"
   ]
  },
  {
   "cell_type": "code",
   "execution_count": 7,
   "id": "32a2be3b",
   "metadata": {},
   "outputs": [
    {
     "data": {
      "text/plain": [
       "False"
      ]
     },
     "execution_count": 7,
     "metadata": {},
     "output_type": "execute_result"
    }
   ],
   "source": [
    "10 <=5  #Greater than equal to operator"
   ]
  },
  {
   "cell_type": "code",
   "execution_count": 8,
   "id": "c5fdda8b",
   "metadata": {},
   "outputs": [
    {
     "data": {
      "text/plain": [
       "True"
      ]
     },
     "execution_count": 8,
     "metadata": {},
     "output_type": "execute_result"
    }
   ],
   "source": [
    "10 >=5 #Less than equal to operator"
   ]
  },
  {
   "cell_type": "markdown",
   "id": "161b9d57",
   "metadata": {},
   "source": [
    "### <font color =red> Decision Making"
   ]
  },
  {
   "cell_type": "markdown",
   "id": "e558f43e",
   "metadata": {},
   "source": [
    "**Write a program to check value in variable x is even or odd**"
   ]
  },
  {
   "cell_type": "code",
   "execution_count": 11,
   "id": "f7a58178",
   "metadata": {},
   "outputs": [
    {
     "name": "stdout",
     "output_type": "stream",
     "text": [
      "10 is even number\n"
     ]
    }
   ],
   "source": [
    "x =10\n",
    "if x %2 == 0:\n",
    "    print(x, \"is even number\")\n",
    "else:\n",
    "    print(x, \"is odd number\")"
   ]
  },
  {
   "cell_type": "code",
   "execution_count": 12,
   "id": "34f225da",
   "metadata": {},
   "outputs": [
    {
     "name": "stdout",
     "output_type": "stream",
     "text": [
      "45 is odd number\n"
     ]
    }
   ],
   "source": [
    "x =45\n",
    "if x %2 == 0:\n",
    "    print(x, \"is even number\")\n",
    "else:\n",
    "    print(x, \"is odd number\")"
   ]
  },
  {
   "cell_type": "markdown",
   "id": "9730ade6",
   "metadata": {},
   "source": [
    "**Write a program to accept age of visitor and allows him to PM's party only if he is above 60 years or below 18 years of age**"
   ]
  },
  {
   "cell_type": "code",
   "execution_count": 18,
   "id": "7068a57b",
   "metadata": {},
   "outputs": [
    {
     "name": "stdout",
     "output_type": "stream",
     "text": [
      "Enter your age : 12\n",
      "Enter yor name :Sachin\n",
      "Welcome to tht party Sachin\n"
     ]
    }
   ],
   "source": [
    "x= int(input(\"Enter your age : \"))\n",
    "y= input(\"Enter yor name :\")\n",
    "if x <= 18 or x >= 60:\n",
    "    print(\"Welcome to tht party\", y)\n",
    "else:                                              #single condition\n",
    "    print(\"Sorry!! you do not fit in PM's age criteria\", y)\n",
    "   "
   ]
  },
  {
   "cell_type": "markdown",
   "id": "47f43ee3",
   "metadata": {},
   "source": [
    "**Write a program which offers various discounts based on purchase bills**"
   ]
  },
  {
   "cell_type": "code",
   "execution_count": 23,
   "id": "c9220543",
   "metadata": {},
   "outputs": [
    {
     "name": "stdout",
     "output_type": "stream",
     "text": [
      "Enter the total Bill amount : 5100\n",
      "You won a discount voucher of flat 1000 on your next purchase\n"
     ]
    }
   ],
   "source": [
    "shopping_total = int(input(\"Enter the total Bill amount : \"))\n",
    "\n",
    "if shopping_total >= 5000:\n",
    "    print(\"You won a discount voucher of flat 1000 on your next purchase\")\n",
    "elif shopping_total >= 2500:\n",
    "    print(\"You won a discount voucher of flat 500 on your next purchase\")      # Multiple Conditions\n",
    "elif shopping_total >= 1000:\n",
    "    print(\"You won a discount voucher of flat 100 on your next purchase\")\n",
    "else:\n",
    "    print(\"OOPS!! no discount for you!!!\")  #This is not mandatory to use , it is upto the wish of the programmer"
   ]
  },
  {
   "cell_type": "markdown",
   "id": "3ea9b4f0",
   "metadata": {},
   "source": [
    "**Example on Nested if-else**"
   ]
  },
  {
   "cell_type": "code",
   "execution_count": 26,
   "id": "3f7e37d6",
   "metadata": {},
   "outputs": [
    {
     "name": "stdout",
     "output_type": "stream",
     "text": [
      "Enter year to check India made it to Finals in 20th century : 2011\n",
      "India made it to Finals\n"
     ]
    }
   ],
   "source": [
    "world_cups = {2019 : ['England', 'New-Zeland'], 2015:[\"Australia\", \"New Zeland\"], 2011 : [\"India\", \"Sri Lanka\"], 2007: [\"Australia\", \"Sri Lanka\"], 2003: [\"Australia\", \"India\"]}\n",
    "\n",
    "year = int(input(\"Enter year to check India made it to Finals in 20th century : \"))\n",
    "\n",
    "if year in world_cups :\n",
    "    if \"India\" in world_cups[year] :\n",
    "        print(\"India made it to Finals\")\n",
    "    else:\n",
    "        print(\"India could not make it to Finals\")\n",
    "        \n",
    "else:\n",
    "    print(\"World cup wasnt played in\", year)"
   ]
  },
  {
   "cell_type": "code",
   "execution_count": 32,
   "id": "d7a04654",
   "metadata": {},
   "outputs": [
    {
     "name": "stdout",
     "output_type": "stream",
     "text": [
      "B\n"
     ]
    }
   ],
   "source": [
    "if True or True:\n",
    "    if False and True or False:\n",
    "        print('A')\n",
    "    elif False and False or True and True:\n",
    "        print('B')\n",
    "    else:\n",
    "        print('C')\n",
    "else:\n",
    "    print('D')"
   ]
  },
  {
   "cell_type": "markdown",
   "id": "6d55732c",
   "metadata": {},
   "source": [
    "## <font color = red> **Iteration**"
   ]
  },
  {
   "cell_type": "code",
   "execution_count": 33,
   "id": "d07122ab",
   "metadata": {},
   "outputs": [
    {
     "name": "stdout",
     "output_type": "stream",
     "text": [
      "1\n",
      "2\n",
      "3\n",
      "4\n",
      "5\n",
      "6\n"
     ]
    }
   ],
   "source": [
    "# Iterate over a list of integers\n",
    "\n",
    "l = [1,2,3,4,5,6]\n",
    "for i in l :\n",
    "    print(i)"
   ]
  },
  {
   "cell_type": "code",
   "execution_count": 34,
   "id": "5358fef5",
   "metadata": {},
   "outputs": [
    {
     "name": "stdout",
     "output_type": "stream",
     "text": [
      "H\n",
      "i\n",
      "m\n",
      "a\n",
      "c\n",
      "h\n",
      "a\n",
      "l\n",
      " \n",
      "P\n",
      "r\n",
      "a\n",
      "d\n",
      "e\n",
      "s\n",
      "h\n"
     ]
    }
   ],
   "source": [
    "# Iterate over a string\n",
    "\n",
    "string = \"Himachal Pradesh\"\n",
    "for ch in string:\n",
    "    print(ch)"
   ]
  },
  {
   "cell_type": "code",
   "execution_count": 35,
   "id": "d3b49667",
   "metadata": {},
   "outputs": [
    {
     "name": "stdout",
     "output_type": "stream",
     "text": [
      "H:i:m:a:c:h:a:l: :P:r:a:d:e:s:h:"
     ]
    }
   ],
   "source": [
    "# Iterate over a string -  modify print using end\n",
    "string = \"Himachal Pradesh\"\n",
    "for ch in string:\n",
    "    print(ch, end = \":\") #default value of end = \"\\n\""
   ]
  },
  {
   "cell_type": "code",
   "execution_count": 36,
   "id": "0891218b",
   "metadata": {},
   "outputs": [
    {
     "name": "stdout",
     "output_type": "stream",
     "text": [
      "1 ['Sam', 24]\n",
      "2 ['Sharma', 25]\n",
      "3 ['Saina', 26]\n",
      "4 ['Saif', 24]\n",
      "5 ['Varun', 27]\n"
     ]
    }
   ],
   "source": [
    "# Iterating over a dictionary\n",
    "student_data = {1:['Sam', 24], 2:['Sharma', 25], 3:['Saina', 26], 4:['Saif', 24], 5:['Varun',27]}\n",
    "for key, val in student_data.items():\n",
    "    print(key,val)"
   ]
  },
  {
   "cell_type": "code",
   "execution_count": 37,
   "id": "072aeadf",
   "metadata": {},
   "outputs": [
    {
     "name": "stdout",
     "output_type": "stream",
     "text": [
      "1\n",
      "2\n",
      "3\n",
      "4\n",
      "5\n"
     ]
    }
   ],
   "source": [
    "#Iterate over the keys of a dictionary\n",
    "for key in student_data.keys():\n",
    "    print(key)\n",
    "    "
   ]
  },
  {
   "cell_type": "code",
   "execution_count": 38,
   "id": "c4078de5",
   "metadata": {},
   "outputs": [
    {
     "data": {
      "text/plain": [
       "range(1, 101)"
      ]
     },
     "execution_count": 38,
     "metadata": {},
     "output_type": "execute_result"
    }
   ],
   "source": [
    "#Generate range of values\n",
    "range(1,101)"
   ]
  },
  {
   "cell_type": "code",
   "execution_count": 39,
   "id": "06c400e6",
   "metadata": {},
   "outputs": [],
   "source": [
    "l = list(range(1,101))"
   ]
  },
  {
   "cell_type": "code",
   "execution_count": 40,
   "id": "45418cfe",
   "metadata": {},
   "outputs": [
    {
     "data": {
      "text/plain": [
       "[1,\n",
       " 2,\n",
       " 3,\n",
       " 4,\n",
       " 5,\n",
       " 6,\n",
       " 7,\n",
       " 8,\n",
       " 9,\n",
       " 10,\n",
       " 11,\n",
       " 12,\n",
       " 13,\n",
       " 14,\n",
       " 15,\n",
       " 16,\n",
       " 17,\n",
       " 18,\n",
       " 19,\n",
       " 20,\n",
       " 21,\n",
       " 22,\n",
       " 23,\n",
       " 24,\n",
       " 25,\n",
       " 26,\n",
       " 27,\n",
       " 28,\n",
       " 29,\n",
       " 30,\n",
       " 31,\n",
       " 32,\n",
       " 33,\n",
       " 34,\n",
       " 35,\n",
       " 36,\n",
       " 37,\n",
       " 38,\n",
       " 39,\n",
       " 40,\n",
       " 41,\n",
       " 42,\n",
       " 43,\n",
       " 44,\n",
       " 45,\n",
       " 46,\n",
       " 47,\n",
       " 48,\n",
       " 49,\n",
       " 50,\n",
       " 51,\n",
       " 52,\n",
       " 53,\n",
       " 54,\n",
       " 55,\n",
       " 56,\n",
       " 57,\n",
       " 58,\n",
       " 59,\n",
       " 60,\n",
       " 61,\n",
       " 62,\n",
       " 63,\n",
       " 64,\n",
       " 65,\n",
       " 66,\n",
       " 67,\n",
       " 68,\n",
       " 69,\n",
       " 70,\n",
       " 71,\n",
       " 72,\n",
       " 73,\n",
       " 74,\n",
       " 75,\n",
       " 76,\n",
       " 77,\n",
       " 78,\n",
       " 79,\n",
       " 80,\n",
       " 81,\n",
       " 82,\n",
       " 83,\n",
       " 84,\n",
       " 85,\n",
       " 86,\n",
       " 87,\n",
       " 88,\n",
       " 89,\n",
       " 90,\n",
       " 91,\n",
       " 92,\n",
       " 93,\n",
       " 94,\n",
       " 95,\n",
       " 96,\n",
       " 97,\n",
       " 98,\n",
       " 99,\n",
       " 100]"
      ]
     },
     "execution_count": 40,
     "metadata": {},
     "output_type": "execute_result"
    }
   ],
   "source": [
    "l"
   ]
  },
  {
   "cell_type": "code",
   "execution_count": 42,
   "id": "e52e16fd",
   "metadata": {},
   "outputs": [
    {
     "name": "stdout",
     "output_type": "stream",
     "text": [
      "1 2 3 4 5 6 7 8 9 10 11 12 13 14 15 16 17 18 19 20 21 22 23 24 25 26 27 28 29 30 31 32 33 34 35 36 37 38 39 40 41 42 43 44 45 46 47 48 49 50 51 52 53 54 55 56 57 58 59 60 61 62 63 64 65 66 67 68 69 70 71 72 73 74 75 76 77 78 79 80 81 82 83 84 85 86 87 88 89 90 91 92 93 94 95 96 97 98 99 100 "
     ]
    }
   ],
   "source": [
    "#Iterate over range of values\n",
    "\n",
    "for i in range(1,101):\n",
    "    print(i, end =\" \")"
   ]
  },
  {
   "cell_type": "code",
   "execution_count": 45,
   "id": "260242b9",
   "metadata": {},
   "outputs": [
    {
     "name": "stdout",
     "output_type": "stream",
     "text": [
      "[1, 3, 5, 7, 9, 11, 13, 15, 17, 19, 21, 23, 25, 27, 29, 31, 33, 35, 37, 39, 41, 43, 45, 47, 49, 51, 53, 55, 57, 59, 61, 63, 65, 67, 69, 71, 73, 75, 77, 79, 81, 83, 85, 87, 89, 91, 93, 95, 97, 99]\n",
      "[100, 99, 98, 97, 96, 95, 94, 93, 92, 91, 90, 89, 88, 87, 86, 85, 84, 83, 82, 81, 80, 79, 78, 77, 76, 75, 74, 73, 72, 71, 70, 69, 68, 67, 66, 65, 64, 63, 62, 61, 60, 59, 58, 57, 56, 55, 54, 53, 52, 51, 50, 49, 48, 47, 46, 45, 44, 43, 42, 41, 40, 39, 38, 37, 36, 35, 34, 33, 32, 31, 30, 29, 28, 27, 26, 25, 24, 23, 22, 21, 20, 19, 18, 17, 16, 15, 14, 13, 12, 11, 10, 9, 8, 7, 6, 5, 4, 3, 2, 1]\n"
     ]
    }
   ],
   "source": [
    "#different variations in range\n",
    "print(list(range(1,100,2)))  #Gives number from 1 t0 100 with a step count of 2\n",
    "print(list(range(100,0,-1))) #Gives a reversed sequence of numbers from 100 to 1"
   ]
  },
  {
   "cell_type": "markdown",
   "id": "f0b75dec",
   "metadata": {},
   "source": [
    "**Write a program to print prime numbers between 1 to 20**"
   ]
  },
  {
   "cell_type": "code",
   "execution_count": 47,
   "id": "332c3eda",
   "metadata": {},
   "outputs": [
    {
     "name": "stdout",
     "output_type": "stream",
     "text": [
      "1\n",
      "2\n",
      "3\n",
      "5\n",
      "7\n",
      "11\n",
      "13\n",
      "17\n",
      "19\n"
     ]
    }
   ],
   "source": [
    "for n in range(1,20):\n",
    "    flag = True\n",
    "    for i in range(2,n):\n",
    "        if n % i == 0:\n",
    "            flag =  False\n",
    "            break\n",
    "    if flag :\n",
    "        print(n)\n",
    "        "
   ]
  },
  {
   "cell_type": "markdown",
   "id": "5aab370f",
   "metadata": {},
   "source": [
    "### While - loop"
   ]
  },
  {
   "cell_type": "code",
   "execution_count": 48,
   "id": "d662d708",
   "metadata": {},
   "outputs": [
    {
     "name": "stdout",
     "output_type": "stream",
     "text": [
      "1\n",
      "1\n",
      "1\n",
      "1\n",
      "1\n",
      "1\n",
      "3\n",
      "3\n",
      "quit\n",
      "quit\n"
     ]
    }
   ],
   "source": [
    "ch = \"\"\n",
    "while ch != \"quit\":\n",
    "    ch = input()\n",
    "    print(ch)"
   ]
  },
  {
   "cell_type": "code",
   "execution_count": 49,
   "id": "891428ec",
   "metadata": {},
   "outputs": [
    {
     "name": "stdout",
     "output_type": "stream",
     "text": [
      "1\n",
      "1\n",
      "4\n",
      "4\n",
      "quit\n"
     ]
    }
   ],
   "source": [
    "while True:\n",
    "    ch = input()\n",
    "    if ch == \"quit\":\n",
    "        break\n",
    "    print(ch)"
   ]
  },
  {
   "cell_type": "markdown",
   "id": "668cdd80",
   "metadata": {},
   "source": [
    "## <font color = red> Comprehensions"
   ]
  },
  {
   "cell_type": "markdown",
   "id": "b2cdaf44",
   "metadata": {},
   "source": [
    "***List Comprehension***"
   ]
  },
  {
   "cell_type": "code",
   "execution_count": 2,
   "id": "2c31785c",
   "metadata": {},
   "outputs": [
    {
     "data": {
      "text/plain": [
       "[11, 5, 4, 6, 14]"
      ]
     },
     "execution_count": 2,
     "metadata": {},
     "output_type": "execute_result"
    }
   ],
   "source": [
    "l1 = [\"automobiles\",\"Honda\", \"BEnz\", \"Suzuki\",  \"Morris Garages\"]\n",
    "l2 = []\n",
    "for i in l1 :    # 'i' represents the elements\n",
    "    l2.append(len(i))\n",
    "l2"
   ]
  },
  {
   "cell_type": "markdown",
   "id": "c44eb11d",
   "metadata": {},
   "source": [
    "**The Functional approach**"
   ]
  },
  {
   "cell_type": "code",
   "execution_count": 3,
   "id": "a51e0d9a",
   "metadata": {},
   "outputs": [
    {
     "name": "stdout",
     "output_type": "stream",
     "text": [
      "[11, 5, 4, 6, 14]\n"
     ]
    }
   ],
   "source": [
    "# Example on list comprehension\n",
    "l1 = [\"automobiles\",\"Honda\", \"BEnz\", \"Suzuki\",  \"Morris Garages\"]\n",
    "\n",
    "# Create a lsit consisting of length of each element from the above List\n",
    "l2= [len(i) for i in l1]\n",
    "print(l2)"
   ]
  },
  {
   "cell_type": "code",
   "execution_count": 4,
   "id": "f3078a61",
   "metadata": {},
   "outputs": [
    {
     "name": "stdout",
     "output_type": "stream",
     "text": [
      "automobiles - 11\n",
      "Honda - 5\n",
      "BEnz - 4\n",
      "Suzuki - 6\n",
      "Morris Garages - 14\n"
     ]
    }
   ],
   "source": [
    "# iterating over l1 and l2 simultaneously\n",
    "\n",
    "for i,j in zip(l1,l2):\n",
    "    print(i, \"-\", j)"
   ]
  },
  {
   "cell_type": "markdown",
   "id": "ff98f52d",
   "metadata": {},
   "source": [
    "***Dictionary Comprehension***"
   ]
  },
  {
   "cell_type": "code",
   "execution_count": null,
   "id": "676d2792",
   "metadata": {},
   "outputs": [],
   "source": [
    "# Example of dictionary comprehension\n",
    "l1 = [\"automobiles\",\"Honda\", \"BEnz\", \"Suzuki\",  \"Morris Garages\"]\n",
    "\n",
    "# Create a dictionary consisting of element and length of each element from the above list\n",
    "d = {i :len(i) for i in l1}\n",
    "print(d)"
   ]
  },
  {
   "cell_type": "markdown",
   "id": "278dcda4",
   "metadata": {},
   "source": [
    "***Set Comprehension***"
   ]
  },
  {
   "cell_type": "code",
   "execution_count": 1,
   "id": "376a6409",
   "metadata": {},
   "outputs": [
    {
     "name": "stdout",
     "output_type": "stream",
     "text": [
      "Enter a word : Aeroplane\n"
     ]
    },
    {
     "data": {
      "text/plain": [
       "{'A', 'a', 'e', 'o'}"
      ]
     },
     "execution_count": 1,
     "metadata": {},
     "output_type": "execute_result"
    }
   ],
   "source": [
    "word = input(\"Enter a word : \")\n",
    "vowels = {i for i in word if i in \"AEIOUaeiou\"}\n",
    "vowels"
   ]
  },
  {
   "cell_type": "markdown",
   "id": "c85d5089",
   "metadata": {},
   "source": [
    "## <font color = red> Functions"
   ]
  },
  {
   "cell_type": "markdown",
   "id": "49855b6b",
   "metadata": {},
   "source": [
    "**Ex. Write a function which takes a value as a parmneter and returns its factorial**\n"
   ]
  },
  {
   "cell_type": "code",
   "execution_count": 2,
   "id": "12a3d7ae",
   "metadata": {},
   "outputs": [
    {
     "data": {
      "text/plain": [
       "120"
      ]
     },
     "execution_count": 2,
     "metadata": {},
     "output_type": "execute_result"
    }
   ],
   "source": [
    "def factorial(n):\n",
    "    fact = 1\n",
    "    for i in range(1, n+1):\n",
    "        fact *= i\n",
    "    return fact\n",
    "factorial(5)"
   ]
  },
  {
   "cell_type": "markdown",
   "id": "8b86dc89",
   "metadata": {},
   "source": [
    "**Function Arguments**"
   ]
  },
  {
   "cell_type": "code",
   "execution_count": 6,
   "id": "b68b7aad",
   "metadata": {},
   "outputs": [],
   "source": [
    "def func(name, age = 35): #age is default parameter\n",
    "    print(\"name : \", name)\n",
    "    print(\"age : \" , age)"
   ]
  },
  {
   "cell_type": "code",
   "execution_count": 7,
   "id": "926a2453",
   "metadata": {},
   "outputs": [
    {
     "name": "stdout",
     "output_type": "stream",
     "text": [
      "name :  Jane\n",
      "age :  25\n"
     ]
    }
   ],
   "source": [
    "func(\"Jane\", 25)"
   ]
  },
  {
   "cell_type": "code",
   "execution_count": 8,
   "id": "d33f2c8d",
   "metadata": {},
   "outputs": [
    {
     "name": "stdout",
     "output_type": "stream",
     "text": [
      "name :  Jane\n",
      "age :  35\n"
     ]
    }
   ],
   "source": [
    "func(\"Jane\")"
   ]
  },
  {
   "cell_type": "code",
   "execution_count": 9,
   "id": "d1197f9b",
   "metadata": {},
   "outputs": [
    {
     "name": "stdout",
     "output_type": "stream",
     "text": [
      "name :  Jane\n",
      "age :  35\n",
      "city :  Bangalore\n"
     ]
    }
   ],
   "source": [
    "def func(name, age =35, city =\"Mumbai\"):\n",
    "    print(\"name : \", name)\n",
    "    print(\"age : \", age)\n",
    "    print(\"city : \", city)\n",
    "func(\"Jane\", city =\"Bangalore\") #Keyword argument"
   ]
  },
  {
   "cell_type": "code",
   "execution_count": 13,
   "id": "3d38dea5",
   "metadata": {},
   "outputs": [
    {
     "name": "stdout",
     "output_type": "stream",
     "text": [
      "name :  Sachin\n",
      "age :  22\n",
      "city :  Ranchi\n"
     ]
    }
   ],
   "source": [
    "func(\"Sachin\", 22, city = \"Ranchi\")"
   ]
  },
  {
   "cell_type": "code",
   "execution_count": 14,
   "id": "d20391fb",
   "metadata": {},
   "outputs": [
    {
     "name": "stdout",
     "output_type": "stream",
     "text": [
      "(1, 3, 'abc')\n"
     ]
    }
   ],
   "source": [
    "def var_func(*args):\n",
    "    print(args)\n",
    "    \n",
    "var_func(1,3,\"abc\")  #variable length argument"
   ]
  },
  {
   "cell_type": "markdown",
   "id": "463962a8",
   "metadata": {},
   "source": [
    "## Lambda Function"
   ]
  },
  {
   "cell_type": "code",
   "execution_count": 23,
   "id": "2dc1e401",
   "metadata": {},
   "outputs": [
    {
     "data": {
      "text/plain": [
       "'even'"
      ]
     },
     "execution_count": 23,
     "metadata": {},
     "output_type": "execute_result"
    }
   ],
   "source": [
    "# Write a lambda function to check a number is even or odd\n",
    "\n",
    "f = lambda x: \"even\" if x % 2 == 0 else \"odd\"\n",
    "f(10)"
   ]
  },
  {
   "cell_type": "markdown",
   "id": "7e296437",
   "metadata": {},
   "source": [
    "### <font color =red> map - filter- reduce"
   ]
  },
  {
   "cell_type": "markdown",
   "id": "9dec7d8c",
   "metadata": {},
   "source": [
    "**Some more examples on map-filter-reduce**"
   ]
  },
  {
   "cell_type": "code",
   "execution_count": 2,
   "id": "54c2e0c9",
   "metadata": {},
   "outputs": [
    {
     "name": "stdout",
     "output_type": "stream",
     "text": [
      "<map object at 0x0000020C5D221250>\n",
      "[4, 16, 25, 81]\n"
     ]
    }
   ],
   "source": [
    "L1 = [2,4,5,9]\n",
    "print(map(lambda x: x**2, L1))\n",
    "print(list(map(lambda x: x**2, L1)))"
   ]
  },
  {
   "cell_type": "markdown",
   "id": "478bf8e4",
   "metadata": {},
   "source": [
    "**Defining a function and using it in map**"
   ]
  },
  {
   "cell_type": "code",
   "execution_count": 3,
   "id": "a0663b28",
   "metadata": {},
   "outputs": [
    {
     "name": "stdout",
     "output_type": "stream",
     "text": [
      "[4, 16, 25]\n"
     ]
    }
   ],
   "source": [
    "L1 = [2,4,5]\n",
    "def squareit(n):\n",
    "    return n**2\n",
    "\n",
    "print(list(map(squareit, L1)))"
   ]
  },
  {
   "cell_type": "markdown",
   "id": "ec6cede2",
   "metadata": {},
   "source": [
    "**Filter function to return the multiples of 3**"
   ]
  },
  {
   "cell_type": "code",
   "execution_count": 4,
   "id": "491c281a",
   "metadata": {},
   "outputs": [
    {
     "name": "stdout",
     "output_type": "stream",
     "text": [
      "[3, 6, 9]\n"
     ]
    }
   ],
   "source": [
    "my_list = [3,4,5,6,7,8,9]\n",
    "\n",
    "divby3 = lambda x: x % 3 ==0\n",
    "\n",
    "div = filter(divby3, my_list)\n",
    "print(list(div))"
   ]
  },
  {
   "cell_type": "markdown",
   "id": "86c13c9f",
   "metadata": {},
   "source": [
    "**Ex. Write a python program to count the students above age 18**"
   ]
  },
  {
   "cell_type": "code",
   "execution_count": 10,
   "id": "9923d3c5",
   "metadata": {},
   "outputs": [
    {
     "data": {
      "text/plain": [
       "2"
      ]
     },
     "execution_count": 10,
     "metadata": {},
     "output_type": "execute_result"
    }
   ],
   "source": [
    "students_data = {1:['Sam', 15] , 2:['Sharma',18], 3:['Saina', 16], 4:['Saif',19], 5:['Varun',20]}\n",
    "len(list(filter(lambda x: x[1] > 18, students_data.values())))"
   ]
  },
  {
   "cell_type": "markdown",
   "id": "c758d42f",
   "metadata": {},
   "source": [
    "**Reduce to return product of elements**"
   ]
  },
  {
   "cell_type": "code",
   "execution_count": 11,
   "id": "de10d4d1",
   "metadata": {},
   "outputs": [
    {
     "name": "stdout",
     "output_type": "stream",
     "text": [
      "6\n"
     ]
    }
   ],
   "source": [
    "from functools import reduce  #redyce in not an python inbuilt function\n",
    "\n",
    "q = reduce(lambda x, y: x*y, range(1,4))\n",
    "print(q)"
   ]
  },
  {
   "cell_type": "code",
   "execution_count": null,
   "id": "a057cc88",
   "metadata": {},
   "outputs": [],
   "source": []
  }
 ],
 "metadata": {
  "kernelspec": {
   "display_name": "Python 3",
   "language": "python",
   "name": "python3"
  },
  "language_info": {
   "codemirror_mode": {
    "name": "ipython",
    "version": 3
   },
   "file_extension": ".py",
   "mimetype": "text/x-python",
   "name": "python",
   "nbconvert_exporter": "python",
   "pygments_lexer": "ipython3",
   "version": "3.8.8"
  }
 },
 "nbformat": 4,
 "nbformat_minor": 5
}
