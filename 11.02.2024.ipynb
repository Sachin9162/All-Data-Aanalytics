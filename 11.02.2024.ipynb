{
 "cells": [
  {
   "cell_type": "markdown",
   "id": "7cba2c66",
   "metadata": {},
   "source": [
    "## <font color = blue> Functions"
   ]
  },
  {
   "cell_type": "markdown",
   "id": "13bbb330",
   "metadata": {},
   "source": [
    "### def statements"
   ]
  },
  {
   "cell_type": "code",
   "execution_count": 4,
   "id": "b7ba1d0a",
   "metadata": {},
   "outputs": [],
   "source": [
    "def test():    #Give relevant names\n",
    "    \n",
    "    print(\"This is a test function\")\n",
    "    print(\"Hello everyone\")"
   ]
  },
  {
   "cell_type": "code",
   "execution_count": 5,
   "id": "0b78107b",
   "metadata": {},
   "outputs": [
    {
     "name": "stdout",
     "output_type": "stream",
     "text": [
      "This is a test function\n",
      "Hello everyone\n"
     ]
    }
   ],
   "source": [
    "test()"
   ]
  },
  {
   "cell_type": "code",
   "execution_count": null,
   "id": "e71804c6",
   "metadata": {},
   "outputs": [],
   "source": [
    "def example_function(arg1,arg2 #arguments):\n",
    "    '''\n",
    "    This is where the function's Documrnt string (docstring) goes\n",
    "    '''\n",
    "    # do stuff here\n",
    "    return desired_result"
   ]
  },
  {
   "cell_type": "code",
   "execution_count": 10,
   "id": "a1cc080f",
   "metadata": {},
   "outputs": [],
   "source": [
    "def rectangle_area_perimeter(arg1,arg2):\n",
    "    area = arg1 * arg2\n",
    "    perimeter = 2* (arg1+arg2)\n",
    "    return area,perimeter     # return is used so that we can use some functions later on as well"
   ]
  },
  {
   "cell_type": "code",
   "execution_count": 12,
   "id": "e2bd6ade",
   "metadata": {},
   "outputs": [
    {
     "data": {
      "text/plain": [
       "(500, 120)"
      ]
     },
     "execution_count": 12,
     "metadata": {},
     "output_type": "execute_result"
    }
   ],
   "source": [
    "rectangle_area_perimeter(10,50)"
   ]
  },
  {
   "cell_type": "code",
   "execution_count": 13,
   "id": "c035f718",
   "metadata": {},
   "outputs": [],
   "source": [
    "def rectangle_area_perimeter(arg1,arg2):\n",
    "    area = arg1 * arg2\n",
    "    perimeter = 2* (arg1+arg2)\n",
    "    return area+perimeter     # return is used so that we can use some functions later on as well"
   ]
  },
  {
   "cell_type": "code",
   "execution_count": 14,
   "id": "761e690c",
   "metadata": {},
   "outputs": [
    {
     "data": {
      "text/plain": [
       "620"
      ]
     },
     "execution_count": 14,
     "metadata": {},
     "output_type": "execute_result"
    }
   ],
   "source": [
    "rectangle_area_perimeter(10,50)"
   ]
  },
  {
   "cell_type": "markdown",
   "id": "e6a7ab46",
   "metadata": {},
   "source": [
    "## Example1: Extract a list of first letters from a sentence \n"
   ]
  },
  {
   "cell_type": "code",
   "execution_count": 17,
   "id": "827d8ce4",
   "metadata": {},
   "outputs": [],
   "source": [
    "heisenberg_quote =(\"It ceases to exist without me. No, you clearly don't know who you're talking to, so let me clear this out to you Skyler. I am not in ganger, I am the danger\")"
   ]
  },
  {
   "cell_type": "code",
   "execution_count": 19,
   "id": "f63a966f",
   "metadata": {},
   "outputs": [
    {
     "name": "stdout",
     "output_type": "stream",
     "text": [
      "['It', 'ceases', 'to', 'exist', 'without', 'me.', 'No,', 'you', 'clearly', \"don't\", 'know', 'who', \"you're\", 'talking', 'to,', 'so', 'let', 'me', 'clear', 'this', 'out', 'to', 'you', 'Skyler.', 'I', 'am', 'not', 'in', 'ganger,', 'I', 'am', 'the', 'danger']\n"
     ]
    }
   ],
   "source": [
    "# using list comrehension, we can do the above task in this way\n",
    "words_by_walter = heisenberg_quote.split(' ')  # \" . split() is used to split the string and take every word out\"(' ') use this to define by what you want to spliy, here we used space\n",
    "print(words_by_walter)\n"
   ]
  },
  {
   "cell_type": "code",
   "execution_count": 26,
   "id": "e3db7595",
   "metadata": {},
   "outputs": [
    {
     "name": "stdout",
     "output_type": "stream",
     "text": [
      "I\n",
      "c\n",
      "t\n",
      "e\n",
      "w\n",
      "m\n",
      "N\n",
      "y\n",
      "c\n",
      "d\n",
      "k\n",
      "w\n",
      "y\n",
      "t\n",
      "t\n",
      "s\n",
      "l\n",
      "m\n",
      "c\n",
      "t\n",
      "o\n",
      "t\n",
      "y\n",
      "S\n",
      "I\n",
      "a\n",
      "n\n",
      "i\n",
      "g\n",
      "I\n",
      "a\n",
      "t\n",
      "d\n"
     ]
    }
   ],
   "source": [
    " for words in words_by_walter:\n",
    "    print(words[0])"
   ]
  },
  {
   "cell_type": "code",
   "execution_count": 34,
   "id": "5d1c38bc",
   "metadata": {},
   "outputs": [
    {
     "name": "stdout",
     "output_type": "stream",
     "text": [
      "['I']\n",
      "['I', 'c']\n",
      "['I', 'c', 't']\n",
      "['I', 'c', 't', 'e']\n",
      "['I', 'c', 't', 'e', 'w']\n",
      "['I', 'c', 't', 'e', 'w', 'm']\n",
      "['I', 'c', 't', 'e', 'w', 'm', 'N']\n",
      "['I', 'c', 't', 'e', 'w', 'm', 'N', 'y']\n",
      "['I', 'c', 't', 'e', 'w', 'm', 'N', 'y', 'c']\n",
      "['I', 'c', 't', 'e', 'w', 'm', 'N', 'y', 'c', 'd']\n",
      "['I', 'c', 't', 'e', 'w', 'm', 'N', 'y', 'c', 'd', 'k']\n",
      "['I', 'c', 't', 'e', 'w', 'm', 'N', 'y', 'c', 'd', 'k', 'w']\n",
      "['I', 'c', 't', 'e', 'w', 'm', 'N', 'y', 'c', 'd', 'k', 'w', 'y']\n",
      "['I', 'c', 't', 'e', 'w', 'm', 'N', 'y', 'c', 'd', 'k', 'w', 'y', 't']\n",
      "['I', 'c', 't', 'e', 'w', 'm', 'N', 'y', 'c', 'd', 'k', 'w', 'y', 't', 't']\n",
      "['I', 'c', 't', 'e', 'w', 'm', 'N', 'y', 'c', 'd', 'k', 'w', 'y', 't', 't', 's']\n",
      "['I', 'c', 't', 'e', 'w', 'm', 'N', 'y', 'c', 'd', 'k', 'w', 'y', 't', 't', 's', 'l']\n",
      "['I', 'c', 't', 'e', 'w', 'm', 'N', 'y', 'c', 'd', 'k', 'w', 'y', 't', 't', 's', 'l', 'm']\n",
      "['I', 'c', 't', 'e', 'w', 'm', 'N', 'y', 'c', 'd', 'k', 'w', 'y', 't', 't', 's', 'l', 'm', 'c']\n",
      "['I', 'c', 't', 'e', 'w', 'm', 'N', 'y', 'c', 'd', 'k', 'w', 'y', 't', 't', 's', 'l', 'm', 'c', 't']\n",
      "['I', 'c', 't', 'e', 'w', 'm', 'N', 'y', 'c', 'd', 'k', 'w', 'y', 't', 't', 's', 'l', 'm', 'c', 't', 'o']\n",
      "['I', 'c', 't', 'e', 'w', 'm', 'N', 'y', 'c', 'd', 'k', 'w', 'y', 't', 't', 's', 'l', 'm', 'c', 't', 'o', 't']\n",
      "['I', 'c', 't', 'e', 'w', 'm', 'N', 'y', 'c', 'd', 'k', 'w', 'y', 't', 't', 's', 'l', 'm', 'c', 't', 'o', 't', 'y']\n",
      "['I', 'c', 't', 'e', 'w', 'm', 'N', 'y', 'c', 'd', 'k', 'w', 'y', 't', 't', 's', 'l', 'm', 'c', 't', 'o', 't', 'y', 'S']\n",
      "['I', 'c', 't', 'e', 'w', 'm', 'N', 'y', 'c', 'd', 'k', 'w', 'y', 't', 't', 's', 'l', 'm', 'c', 't', 'o', 't', 'y', 'S', 'I']\n",
      "['I', 'c', 't', 'e', 'w', 'm', 'N', 'y', 'c', 'd', 'k', 'w', 'y', 't', 't', 's', 'l', 'm', 'c', 't', 'o', 't', 'y', 'S', 'I', 'a']\n",
      "['I', 'c', 't', 'e', 'w', 'm', 'N', 'y', 'c', 'd', 'k', 'w', 'y', 't', 't', 's', 'l', 'm', 'c', 't', 'o', 't', 'y', 'S', 'I', 'a', 'n']\n",
      "['I', 'c', 't', 'e', 'w', 'm', 'N', 'y', 'c', 'd', 'k', 'w', 'y', 't', 't', 's', 'l', 'm', 'c', 't', 'o', 't', 'y', 'S', 'I', 'a', 'n', 'i']\n",
      "['I', 'c', 't', 'e', 'w', 'm', 'N', 'y', 'c', 'd', 'k', 'w', 'y', 't', 't', 's', 'l', 'm', 'c', 't', 'o', 't', 'y', 'S', 'I', 'a', 'n', 'i', 'g']\n",
      "['I', 'c', 't', 'e', 'w', 'm', 'N', 'y', 'c', 'd', 'k', 'w', 'y', 't', 't', 's', 'l', 'm', 'c', 't', 'o', 't', 'y', 'S', 'I', 'a', 'n', 'i', 'g', 'I']\n",
      "['I', 'c', 't', 'e', 'w', 'm', 'N', 'y', 'c', 'd', 'k', 'w', 'y', 't', 't', 's', 'l', 'm', 'c', 't', 'o', 't', 'y', 'S', 'I', 'a', 'n', 'i', 'g', 'I', 'a']\n",
      "['I', 'c', 't', 'e', 'w', 'm', 'N', 'y', 'c', 'd', 'k', 'w', 'y', 't', 't', 's', 'l', 'm', 'c', 't', 'o', 't', 'y', 'S', 'I', 'a', 'n', 'i', 'g', 'I', 'a', 't']\n",
      "['I', 'c', 't', 'e', 'w', 'm', 'N', 'y', 'c', 'd', 'k', 'w', 'y', 't', 't', 's', 'l', 'm', 'c', 't', 'o', 't', 'y', 'S', 'I', 'a', 'n', 'i', 'g', 'I', 'a', 't', 'd']\n"
     ]
    }
   ],
   "source": [
    "list_of_first_letters = []\n",
    "for words in words_by_walter:\n",
    "    list_of_first_letters.append(words[0])\n",
    "    print (list_of_first_letters)\n"
   ]
  },
  {
   "cell_type": "code",
   "execution_count": 35,
   "id": "a6d0ae03",
   "metadata": {},
   "outputs": [],
   "source": [
    "list_of_first_letters = []   # Empty List\n",
    "for words in words_by_walter:\n",
    "    list_of_first_letters.append(words[0])"
   ]
  },
  {
   "cell_type": "code",
   "execution_count": 36,
   "id": "988a20bc",
   "metadata": {},
   "outputs": [
    {
     "data": {
      "text/plain": [
       "['I',\n",
       " 'c',\n",
       " 't',\n",
       " 'e',\n",
       " 'w',\n",
       " 'm',\n",
       " 'N',\n",
       " 'y',\n",
       " 'c',\n",
       " 'd',\n",
       " 'k',\n",
       " 'w',\n",
       " 'y',\n",
       " 't',\n",
       " 't',\n",
       " 's',\n",
       " 'l',\n",
       " 'm',\n",
       " 'c',\n",
       " 't',\n",
       " 'o',\n",
       " 't',\n",
       " 'y',\n",
       " 'S',\n",
       " 'I',\n",
       " 'a',\n",
       " 'n',\n",
       " 'i',\n",
       " 'g',\n",
       " 'I',\n",
       " 'a',\n",
       " 't',\n",
       " 'd']"
      ]
     },
     "execution_count": 36,
     "metadata": {},
     "output_type": "execute_result"
    }
   ],
   "source": [
    "list_of_first_letters"
   ]
  },
  {
   "cell_type": "code",
   "execution_count": 41,
   "id": "5b4c459f",
   "metadata": {},
   "outputs": [
    {
     "name": "stdout",
     "output_type": "stream",
     "text": [
      "['hello', 'everyone!', 'my', 'name', 'is', 'sachin']\n"
     ]
    }
   ],
   "source": [
    "introduction = \"hello everyone! my name is sachin\"\n",
    "words_by_sachin = introduction.split(' ')\n",
    "print(words_by_sachin)"
   ]
  },
  {
   "cell_type": "markdown",
   "id": "1674dd30",
   "metadata": {},
   "source": [
    "## Now let us write a function which does the samne task for any given sentence\n"
   ]
  },
  {
   "cell_type": "code",
   "execution_count": 42,
   "id": "f7257023",
   "metadata": {},
   "outputs": [],
   "source": [
    "def last_letters(sentence):\n",
    "    convert_into_words = sentence.split(' ')\n",
    "    \n",
    "    last_char = [word[-1] for word in convert_into_words]\n",
    "    \n",
    "    return last_char"
   ]
  },
  {
   "cell_type": "code",
   "execution_count": 43,
   "id": "da66c33a",
   "metadata": {},
   "outputs": [
    {
     "data": {
      "text/plain": [
       "['o', '!', 'y', 'e', 's', 'n']"
      ]
     },
     "execution_count": 43,
     "metadata": {},
     "output_type": "execute_result"
    }
   ],
   "source": [
    "last_letters(introduction)"
   ]
  },
  {
   "cell_type": "code",
   "execution_count": 44,
   "id": "794fd5b0",
   "metadata": {},
   "outputs": [],
   "source": [
    "def extract_first_letters(sentence):\n",
    "    '''\n",
    "    This fuction makes a sentence as an input and returns the list\n",
    "    of first letters of each word\n",
    "    '''\n",
    "    \n",
    "    #Step 1: Get the list of words in this sentence\n",
    "    words_in_sentence =sentence.split(' ')\n",
    "    \n",
    "    #Step 2: Write a list comprehension to extract the first letters\n",
    "    first_letters = [word[0] for word in words_in_sentence]\n",
    "    \n",
    "    #Step 3: Return the output list first_letters\n",
    "    return first_letters"
   ]
  },
  {
   "cell_type": "code",
   "execution_count": 45,
   "id": "acb5c0e9",
   "metadata": {},
   "outputs": [
    {
     "name": "stdout",
     "output_type": "stream",
     "text": [
      "['I', 'c', 't', 'e', 'w', 'm', 'N', 'y', 'c', 'd', 'k', 'w', 'y', 't', 't', 's', 'l', 'm', 'c', 't', 'o', 't', 'y', 'S', 'I', 'a', 'n', 'i', 'g', 'I', 'a', 't', 'd']\n"
     ]
    }
   ],
   "source": [
    "print(extract_first_letters(heisenberg_quote))"
   ]
  },
  {
   "cell_type": "code",
   "execution_count": 46,
   "id": "c7d24638",
   "metadata": {},
   "outputs": [
    {
     "name": "stdout",
     "output_type": "stream",
     "text": [
      "['h', 'e', 'm', 'n', 'i', 's']\n"
     ]
    }
   ],
   "source": [
    "print(extract_first_letters(introduction))"
   ]
  },
  {
   "cell_type": "markdown",
   "id": "70c13018",
   "metadata": {},
   "source": [
    "## let us test this function on another sentence"
   ]
  },
  {
   "cell_type": "code",
   "execution_count": 47,
   "id": "84c6b100",
   "metadata": {},
   "outputs": [
    {
     "name": "stdout",
     "output_type": "stream",
     "text": [
      "['M', 't', 'f', 'b', 'w', 'y']\n"
     ]
    }
   ],
   "source": [
    "starwars_quote = \"May the force be with you.\"\n",
    "first_letters_starwars =extract_first_letters(starwars_quote)\n",
    "print(first_letters_starwars)"
   ]
  },
  {
   "cell_type": "code",
   "execution_count": 48,
   "id": "be50777e",
   "metadata": {},
   "outputs": [
    {
     "ename": "SyntaxError",
     "evalue": "invalid syntax (<ipython-input-48-9fa575219a43>, line 1)",
     "output_type": "error",
     "traceback": [
      "\u001b[1;36m  File \u001b[1;32m\"<ipython-input-48-9fa575219a43>\"\u001b[1;36m, line \u001b[1;32m1\u001b[0m\n\u001b[1;33m    5! = 5*4*3*2*1\u001b[0m\n\u001b[1;37m     ^\u001b[0m\n\u001b[1;31mSyntaxError\u001b[0m\u001b[1;31m:\u001b[0m invalid syntax\n"
     ]
    }
   ],
   "source": [
    "5 = 5*4*3*2*1\n",
    "\n"
   ]
  },
  {
   "cell_type": "markdown",
   "id": "35bd2c84",
   "metadata": {},
   "source": [
    "## Example-2: let us now write a function which returns the factorial of a number"
   ]
  },
  {
   "cell_type": "markdown",
   "id": "285f1c21",
   "metadata": {},
   "source": [
    "#### In Mathematics, the factorial of a positive integer n, denoted by n!, is the product of all possitive integers less than or  equal to n"
   ]
  },
  {
   "cell_type": "code",
   "execution_count": null,
   "id": "ac064ce5",
   "metadata": {},
   "outputs": [],
   "source": [
    "def factorial(num):\n",
    "    '''\n",
    "    Function for calculating factorial of a number\n",
    "    '''\n",
    "    \n",
    "    #Step"
   ]
  }
 ],
 "metadata": {
  "kernelspec": {
   "display_name": "Python 3",
   "language": "python",
   "name": "python3"
  },
  "language_info": {
   "codemirror_mode": {
    "name": "ipython",
    "version": 3
   },
   "file_extension": ".py",
   "mimetype": "text/x-python",
   "name": "python",
   "nbconvert_exporter": "python",
   "pygments_lexer": "ipython3",
   "version": "3.8.8"
  }
 },
 "nbformat": 4,
 "nbformat_minor": 5
}
