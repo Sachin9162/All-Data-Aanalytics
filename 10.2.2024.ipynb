{
 "cells": [
  {
   "cell_type": "markdown",
   "id": "a3052a44",
   "metadata": {},
   "source": [
    "## Control Structures in Python"
   ]
  },
  {
   "cell_type": "markdown",
   "id": "bf266662",
   "metadata": {},
   "source": [
    "**In programming there are certain decisions based on which you would need to execute certain logics**"
   ]
  },
  {
   "cell_type": "markdown",
   "id": "cfc4abbb",
   "metadata": {},
   "source": [
    "`*Eg. if i have a pan card then only I can file my tax return*"
   ]
  },
  {
   "cell_type": "markdown",
   "id": "1a784ec1",
   "metadata": {},
   "source": [
    "### Control structures\n",
    "\n",
    "1. **If** (If there is no default case , only when the condition matches then only execution happens)\n",
    "2. **If - Else** (if the condition matches then execute else go with the default execution)\n",
    "3. **If - else - if**"
   ]
  },
  {
   "cell_type": "code",
   "execution_count": 10,
   "id": "546fedd0",
   "metadata": {},
   "outputs": [
    {
     "name": "stdout",
     "output_type": "stream",
     "text": [
      "Found\n"
     ]
    }
   ],
   "source": [
    "a=1           # ('=') is a assignment\n",
    "if a ==  1:    # ('==') is comparision\n",
    "    print(\"Found\")\n"
   ]
  },
  {
   "cell_type": "code",
   "execution_count": 9,
   "id": "b7dee15f",
   "metadata": {},
   "outputs": [
    {
     "name": "stdout",
     "output_type": "stream",
     "text": [
      "Not Found\n"
     ]
    }
   ],
   "source": [
    "a=2           # ('=') is a assignment\n",
    "if a ==  1:    # ('==') is comparision\n",
    "    print(\"Found\")\n",
    "else:\n",
    "    print(\"Not Found\")"
   ]
  },
  {
   "cell_type": "code",
   "execution_count": 2,
   "id": "19b94ad3",
   "metadata": {},
   "outputs": [
    {
     "name": "stdout",
     "output_type": "stream",
     "text": [
      "Enter a value to check its divisiblity by 23\n",
      " 'Not' Divisible by 2\n"
     ]
    }
   ],
   "source": [
    "a = int(input('Enter a value to check its divisiblity by 2'))\n",
    "if a%2 == 0:\n",
    "    print(\"Divisible by 2\")\n",
    "else:\n",
    "    print(\" 'Not' Divisible by 2\")"
   ]
  },
  {
   "cell_type": "code",
   "execution_count": 8,
   "id": "d0833fc1",
   "metadata": {},
   "outputs": [
    {
     "name": "stdout",
     "output_type": "stream",
     "text": [
      "Enter a letter: u\n",
      "Letter is vowel\n"
     ]
    }
   ],
   "source": [
    "a = str(input(\"Enter a letter: \"))\n",
    "if a in 'aeiouAEIOU':\n",
    "        print(\"Letter is vowel\")\n",
    "else:\n",
    "       print(\"Letter is not vowel\") \n"
   ]
  },
  {
   "cell_type": "code",
   "execution_count": 10,
   "id": "92f23a16",
   "metadata": {},
   "outputs": [
    {
     "name": "stdout",
     "output_type": "stream",
     "text": [
      "Enter a letter: E\n",
      "Letter is vowel\n"
     ]
    }
   ],
   "source": [
    "a = str(input(\"Enter a letter: \"))\n",
    "if a.lower() in [\"a\",\"e\",\"i\",\"o\",\"u\"]:  #using list data structure\n",
    "        print(\"Letter is vowel\")\n",
    "else:\n",
    "       print(\"Letter is not vowel\") "
   ]
  },
  {
   "cell_type": "markdown",
   "id": "f45615d3",
   "metadata": {},
   "source": [
    "if loan_amount < 5 lakhs then roi =8.5% <Br>\n",
    "if loan amount is in between 5 -10 lakhs, then roi is = 8.9% <Br>\n",
    "else the roi is 9% <Br>"
   ]
  },
  {
   "cell_type": "code",
   "execution_count": 17,
   "id": "017c8484",
   "metadata": {},
   "outputs": [
    {
     "name": "stdout",
     "output_type": "stream",
     "text": [
      "Enter the Loan amount: 1100000\n",
      "Rate of Interest for 1100000  is 9%\n"
     ]
    }
   ],
   "source": [
    "loan_amount = int(input(\"Enter the Loan amount: \"))\n",
    "if loan_amount < 500000:\n",
    "    print(\"Rate of Interest for\", loan_amount ,\" is 8.5%\")\n",
    "elif (loan_amount >= 500000) & (loan_amount <= 100000):\n",
    "    print(\"Rate of Interest for\", loan_amount ,\" is 8.9%\")\n",
    "else:\n",
    "    print(\"Rate of Interest for\", loan_amount ,\" is 9%\")\n",
    "    "
   ]
  },
  {
   "cell_type": "code",
   "execution_count": 21,
   "id": "e7d36314",
   "metadata": {},
   "outputs": [
    {
     "name": "stdout",
     "output_type": "stream",
     "text": [
      "Enter the Loan amount in Rs: 500000\n",
      "Rate of Interest for Rs 500000  is 8.9%\n"
     ]
    }
   ],
   "source": [
    "# USing range\n",
    "loan_amount = int(input(\"Enter the Loan amount in Rs: \"))\n",
    "if loan_amount < 500000:\n",
    "    print(\"Rate of Interest for Rs\", loan_amount ,\" is 8.5%\")\n",
    "elif loan_amount in range(500000,1000001):\n",
    "    print(\"Rate of Interest for Rs\", loan_amount ,\" is 8.9%\")\n",
    "else:\n",
    "    print(\"Rate of Interest for Rs\", loan_amount ,\" is 9%\")"
   ]
  },
  {
   "cell_type": "code",
   "execution_count": 23,
   "id": "f178cc5b",
   "metadata": {},
   "outputs": [
    {
     "name": "stdout",
     "output_type": "stream",
     "text": [
      "Go to clinic\n"
     ]
    }
   ],
   "source": [
    "# 4 variable\n",
    "Age = 30\n",
    "Illness = \"Yes\"\n",
    "Stress = \"Yes\"                                          # \"AND\" =and/ &\n",
    "Anxiety = \"Yes\"                                         # \"OR\"  = or / ||\n",
    "\n",
    "# 1st/Parent conditional statement\n",
    "if (Age < 30) & (Illness == \"Yes\"):\n",
    "    print(\"Not Healthy\")\n",
    "elif (Age <30) & (Illness != \"Yes\"):\n",
    "    print(\"Healthy\")\n",
    "else:\n",
    "    # i am left with people whose age is greater than 30\n",
    "    # 2nd/child conditional statements\n",
    "    if Illness == \"Yes\":\n",
    "        print(\"Go to clinic\")\n",
    "    elif (Stress == \"Yes\") or (Anxiety== \"Yes\"):\n",
    "        print(\"Go for a mental checkup to avoid health concerns\")\n",
    "    else:\n",
    "        print(\"You are healthy\")\n",
    "     "
   ]
  },
  {
   "cell_type": "code",
   "execution_count": 25,
   "id": "28ba96aa",
   "metadata": {},
   "outputs": [
    {
     "name": "stdout",
     "output_type": "stream",
     "text": [
      "Enter your salary : 500000\n",
      "Enter your age59\n",
      "Your tax is  70000.0\n"
     ]
    }
   ],
   "source": [
    "salary= int(input(\"Enter your salary : \"))\n",
    "age = int(input(\"Enter your age\"))\n",
    "if salary >=500000:\n",
    "    if age <= 60:\n",
    "        print(\"Your tax is \", (salary*0.15) -5000 )\n",
    "    else:\n",
    "        print(\"Your tax is 0\")\n",
    "else:\n",
    "    if age <=60:\n",
    "        print(\"Your tax is \", (salary*0.10) -5000 )\n",
    "    else:\n",
    "        print(\"Your tax is zero\")\n",
    "\n",
    "    \n",
    "    "
   ]
  },
  {
   "cell_type": "markdown",
   "id": "385bcbf2",
   "metadata": {},
   "source": [
    "### Loops and Iterations"
   ]
  },
  {
   "cell_type": "markdown",
   "id": "1de1df35",
   "metadata": {},
   "source": [
    "**The type of iteration in which the target is to be acheived : while loops** Eg: filtering <Br>\n",
    "**When the iterations are predifined or fixed : for loops** Eg: Sum, Generate a Sequence <Br>"
   ]
  },
  {
   "cell_type": "code",
   "execution_count": 30,
   "id": "13b08362",
   "metadata": {},
   "outputs": [
    {
     "name": "stdout",
     "output_type": "stream",
     "text": [
      "1\n",
      "2\n",
      "3\n",
      "4\n",
      "5\n",
      "6\n"
     ]
    }
   ],
   "source": [
    "bucket= [\"R\",\"R\",\"R\",\"R\",\"R\",\"B\",\"R\",\"R\",\"R\",\"R\"]\n",
    "found = False  #Initial fact\n",
    "counter = 0\n",
    "\n",
    "while found != True:\n",
    "    if bucket[counter] == \"B\":\n",
    "        found = True\n",
    "    counter= counter +1\n",
    "    print(counter)"
   ]
  },
  {
   "cell_type": "code",
   "execution_count": 29,
   "id": "1e80e58e",
   "metadata": {},
   "outputs": [
    {
     "data": {
      "text/plain": [
       "5"
      ]
     },
     "execution_count": 29,
     "metadata": {},
     "output_type": "execute_result"
    }
   ],
   "source": [
    "bucket.index(\"B\")"
   ]
  },
  {
   "cell_type": "code",
   "execution_count": 34,
   "id": "f948ab55",
   "metadata": {},
   "outputs": [
    {
     "name": "stdout",
     "output_type": "stream",
     "text": [
      "Enter a word: SACHIN\n",
      "a\n"
     ]
    }
   ],
   "source": [
    "word = input(\"Enter a word: \").lower()\n",
    "letters = list(word)\n",
    "counter = 0\n",
    "vowels = (\"a\",\"e\",\"i\",\"o\",\"u\")\n",
    "vowel_not_found = True\n",
    "\n",
    "while vowel_not_found:\n",
    "    if letters[counter] in vowels:\n",
    "        print(letters[counter])\n",
    "        vowel_not_found = False\n",
    "    counter = counter + 1\n",
    "    "
   ]
  },
  {
   "cell_type": "markdown",
   "id": "e829a1ef",
   "metadata": {},
   "source": [
    "**for item in range**<Br>\n",
    "       **do something**"
   ]
  },
  {
   "cell_type": "code",
   "execution_count": 35,
   "id": "1ebe478a",
   "metadata": {},
   "outputs": [
    {
     "name": "stdout",
     "output_type": "stream",
     "text": [
      "Enter a word: Sachin\n",
      "a\n",
      "i\n"
     ]
    }
   ],
   "source": [
    "word = input(\"Enter a word: \").lower()\n",
    "letters = list(word)\n",
    "vowels = (\"a\",\"e\",\"i\",\"o\",\"u\")\n",
    "for idx , item in enumerate(letters):\n",
    "    if item in vowels:\n",
    "        print(item)"
   ]
  },
  {
   "cell_type": "code",
   "execution_count": 44,
   "id": "6534aafa",
   "metadata": {},
   "outputs": [
    {
     "name": "stdout",
     "output_type": "stream",
     "text": [
      "Enter a word: saaaaachiiiiiiiiiiiiiiiiiinnnnnnnnnneeeee\n",
      "{'e', 'i', 'a'}\n"
     ]
    }
   ],
   "source": [
    "word = input(\"Enter a word: \").lower()\n",
    "letters = list(word)\n",
    "vowels = (\"a\",\"e\",\"i\",\"o\",\"u\")\n",
    "vowels_in_words = []\n",
    "for idx , item in enumerate(letters):\n",
    "    if item in vowels:\n",
    "        vowels_in_words.append(item)\n",
    "print(set(vowels_in_words))"
   ]
  },
  {
   "cell_type": "code",
   "execution_count": 45,
   "id": "1f25c062",
   "metadata": {},
   "outputs": [
    {
     "name": "stdout",
     "output_type": "stream",
     "text": [
      "10\n",
      "12\n",
      "14\n",
      "16\n",
      "18\n"
     ]
    }
   ],
   "source": [
    "for j in range(10,20,2):   # 2 is the step count\n",
    "    print(j)"
   ]
  },
  {
   "cell_type": "markdown",
   "id": "c4f8c63c",
   "metadata": {},
   "source": [
    "**Nested Loop**"
   ]
  },
  {
   "cell_type": "code",
   "execution_count": 47,
   "id": "87afce7c",
   "metadata": {},
   "outputs": [
    {
     "name": "stdout",
     "output_type": "stream",
     "text": [
      "0 10 0\n",
      "0 12 0\n",
      "0 14 0\n",
      "0 16 0\n",
      "0 18 0\n",
      "2 10 20\n",
      "2 12 24\n",
      "2 14 28\n",
      "2 16 32\n",
      "2 18 36\n",
      "4 10 40\n",
      "4 12 48\n",
      "4 14 56\n",
      "4 16 64\n",
      "4 18 72\n",
      "6 10 60\n",
      "6 12 72\n",
      "6 14 84\n",
      "6 16 96\n",
      "6 18 108\n",
      "8 10 80\n",
      "8 12 96\n",
      "8 14 112\n",
      "8 16 128\n",
      "8 18 144\n"
     ]
    }
   ],
   "source": [
    "for i in range(0,10,2):  #outer loop\n",
    "    for j in range(10,20,2): #inner loop\n",
    "        print(i , j , i*j)"
   ]
  },
  {
   "cell_type": "markdown",
   "id": "e40bc172",
   "metadata": {},
   "source": [
    "# Functions in Python\n"
   ]
  },
  {
   "cell_type": "code",
   "execution_count": null,
   "id": "31f3716b",
   "metadata": {},
   "outputs": [],
   "source": [
    "def func_name:\n",
    "    the code/logics\n",
    "    return"
   ]
  },
  {
   "cell_type": "code",
   "execution_count": 48,
   "id": "3841306d",
   "metadata": {},
   "outputs": [],
   "source": [
    "def sum_of_two_numbers(n1,n2): #arguments of the functions\n",
    "    return n1+n2"
   ]
  },
  {
   "cell_type": "code",
   "execution_count": 50,
   "id": "74977ee1",
   "metadata": {},
   "outputs": [
    {
     "data": {
      "text/plain": [
       "2000500"
      ]
     },
     "execution_count": 50,
     "metadata": {},
     "output_type": "execute_result"
    }
   ],
   "source": [
    "sum_of_two_numbers(2000000,500)"
   ]
  },
  {
   "cell_type": "code",
   "execution_count": 54,
   "id": "fbbea6dc",
   "metadata": {},
   "outputs": [],
   "source": [
    "def get_employee_tax(salary,age):\n",
    "    if salary >=500000:\n",
    "        if age <= 60:\n",
    "            tax = (salary*0.15) -5000\n",
    "        else:\n",
    "            tax = 0\n",
    "    else:\n",
    "        if age <=60:\n",
    "            tax = (salary*0.10) -5000\n",
    "        else:\n",
    "            tax = 0\n",
    "    return tax\n"
   ]
  },
  {
   "cell_type": "code",
   "execution_count": 55,
   "id": "3c1702b7",
   "metadata": {},
   "outputs": [
    {
     "data": {
      "text/plain": [
       "70000.0"
      ]
     },
     "execution_count": 55,
     "metadata": {},
     "output_type": "execute_result"
    }
   ],
   "source": [
    "get_employee_tax(500000,40)"
   ]
  },
  {
   "cell_type": "code",
   "execution_count": 56,
   "id": "e4bc9d6a",
   "metadata": {},
   "outputs": [
    {
     "data": {
      "text/plain": [
       "5000.0"
      ]
     },
     "execution_count": 56,
     "metadata": {},
     "output_type": "execute_result"
    }
   ],
   "source": [
    "get_employee_tax(100000,20)"
   ]
  },
  {
   "cell_type": "code",
   "execution_count": 57,
   "id": "f469f8ef",
   "metadata": {},
   "outputs": [
    {
     "data": {
      "text/plain": [
       "100000.0"
      ]
     },
     "execution_count": 57,
     "metadata": {},
     "output_type": "execute_result"
    }
   ],
   "source": [
    "get_employee_tax(700000,0)"
   ]
  },
  {
   "cell_type": "code",
   "execution_count": null,
   "id": "0266d9da",
   "metadata": {},
   "outputs": [],
   "source": []
  }
 ],
 "metadata": {
  "kernelspec": {
   "display_name": "Python 3",
   "language": "python",
   "name": "python3"
  },
  "language_info": {
   "codemirror_mode": {
    "name": "ipython",
    "version": 3
   },
   "file_extension": ".py",
   "mimetype": "text/x-python",
   "name": "python",
   "nbconvert_exporter": "python",
   "pygments_lexer": "ipython3",
   "version": "3.8.8"
  }
 },
 "nbformat": 4,
 "nbformat_minor": 5
}
