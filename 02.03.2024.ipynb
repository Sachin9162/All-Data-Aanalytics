{
 "cells": [
  {
   "cell_type": "code",
   "execution_count": 1,
   "id": "4cae6ce4",
   "metadata": {},
   "outputs": [],
   "source": [
    "single_quote_str ='Hello,I am a string'\n",
    "str1= single_quote_str[0:11]\n",
    "str2= single_quote_str[11:20]\n"
   ]
  },
  {
   "cell_type": "code",
   "execution_count": 2,
   "id": "179c3525",
   "metadata": {},
   "outputs": [
    {
     "data": {
      "text/plain": [
       "'Hello,I am '"
      ]
     },
     "execution_count": 2,
     "metadata": {},
     "output_type": "execute_result"
    }
   ],
   "source": [
    "str1\n"
   ]
  },
  {
   "cell_type": "code",
   "execution_count": 3,
   "id": "5793e0ad",
   "metadata": {},
   "outputs": [
    {
     "data": {
      "text/plain": [
       "'a string'"
      ]
     },
     "execution_count": 3,
     "metadata": {},
     "output_type": "execute_result"
    }
   ],
   "source": [
    "str2"
   ]
  },
  {
   "cell_type": "code",
   "execution_count": 5,
   "id": "6ba8782e",
   "metadata": {},
   "outputs": [],
   "source": [
    "new_str = str1 + 'Sachin'"
   ]
  },
  {
   "cell_type": "code",
   "execution_count": 7,
   "id": "a37892c0",
   "metadata": {},
   "outputs": [
    {
     "data": {
      "text/plain": [
       "'Hello,I am Sachin'"
      ]
     },
     "execution_count": 7,
     "metadata": {},
     "output_type": "execute_result"
    }
   ],
   "source": [
    "new_str"
   ]
  },
  {
   "cell_type": "code",
   "execution_count": 12,
   "id": "781d01d6",
   "metadata": {},
   "outputs": [
    {
     "name": "stdout",
     "output_type": "stream",
     "text": [
      "my age is not available\n",
      "no age found\n"
     ]
    }
   ],
   "source": [
    "mystr= input()\n",
    "\n",
    "ints = '1234567890'\n",
    "\n",
    "def nums(mystr):\n",
    "    found_digits = ''\n",
    "    for char in mystr:\n",
    "            if char in ints:\n",
    "                found_digits += char\n",
    "    if found_digits:\n",
    "        return found_digits\n",
    "    else:\n",
    "        print('no age found')\n",
    "\n",
    "result = nums(mystr)\n",
    "if result:\n",
    "    print('Found Age:', result)"
   ]
  },
  {
   "cell_type": "code",
   "execution_count": 19,
   "id": "8baff266",
   "metadata": {},
   "outputs": [
    {
     "name": "stdout",
     "output_type": "stream",
     "text": [
      "programmming is fun\n",
      "The vowels are ooaaiiiiuu\n"
     ]
    }
   ],
   "source": [
    "def more_vowels(input_str):\n",
    "    vowels = \"aeiouAEIOU\"\n",
    "    result = \"\"\n",
    "    for char in input_str:\n",
    "        if char in vowels:\n",
    "            result += char *2\n",
    "    return result\n",
    "    \n",
    "\n",
    "input_str= input()\n",
    "output = more_vowels(input_str)\n",
    "print (f'The vowels are {output}')"
   ]
  },
  {
   "cell_type": "markdown",
   "id": "f689a5cf",
   "metadata": {},
   "source": [
    "## Optional Task\n",
    "you have Two Exels to compare <Br>\n",
    "the final output is the count of values corresponding to each column"
   ]
  },
  {
   "cell_type": "code",
   "execution_count": 24,
   "id": "f3f8bb09",
   "metadata": {},
   "outputs": [
    {
     "name": "stdout",
     "output_type": "stream",
     "text": [
      "sa\n"
     ]
    }
   ],
   "source": [
    " def common_prefix(str_list):\n",
    "    if not str_list:\n",
    "        return \"\"\n",
    "    prefix = str_list[0]\n",
    "    for string in str_list[1:]:\n",
    "        i = 0\n",
    "        while i < len(prefix) and i < len(string) and prefix[i] == string[i]:\n",
    "            i += 1\n",
    "        prefix = prefix[:i]\n",
    "    return prefix\n",
    "\n",
    "input_list = [\"sachin\", \"satyam\" , \"sakaar\"]\n",
    "output = common_prefix(input_list)\n",
    "print(output)"
   ]
  },
  {
   "cell_type": "code",
   "execution_count": 33,
   "id": "9b1fa3c4",
   "metadata": {},
   "outputs": [
    {
     "name": "stdout",
     "output_type": "stream",
     "text": [
      "True\n"
     ]
    }
   ],
   "source": [
    "def are_anagrams(str_1,str_2):\n",
    "    return  sorted(str_1) ==sorted(str_2)\n",
    "\n",
    "input_str1= \"sachin\"\n",
    "input_str2= \"icsnha\"\n",
    "output = are_anagrams(input_str1,input_str2)\n",
    "print(output)"
   ]
  },
  {
   "cell_type": "code",
   "execution_count": 37,
   "id": "144712e5",
   "metadata": {},
   "outputs": [
    {
     "name": "stdout",
     "output_type": "stream",
     "text": [
      "Python programming is awesome\n"
     ]
    }
   ],
   "source": [
    "def remove_multiple_spaces(input_str):\n",
    "    return \" \".join(input_str.split())\n",
    "\n",
    "input_string = \"Python     programming      is       awesome\"\n",
    "output= remove_multiple_spaces(input_string)\n",
    "print(output)"
   ]
  },
  {
   "cell_type": "code",
   "execution_count": 41,
   "id": "0c045c6e",
   "metadata": {},
   "outputs": [
    {
     "name": "stdout",
     "output_type": "stream",
     "text": [
      "This Is AString Without Spaces\n"
     ]
    }
   ],
   "source": [
    "import re\n",
    "\n",
    "def add_space_potential_words(input_str):\n",
    "    return re.sub(r'(?<=[a-z])(?=[A-Z])', ' ', input_str)\n",
    "\n",
    "input_string = \"ThisIsAStringWithoutSpaces\"\n",
    "output = add_space_potential_words(input_string)\n",
    "print(output)"
   ]
  },
  {
   "cell_type": "code",
   "execution_count": 45,
   "id": "ec9af5be",
   "metadata": {},
   "outputs": [
    {
     "name": "stdout",
     "output_type": "stream",
     "text": [
      "sum 30\n",
      "product 3840\n"
     ]
    }
   ],
   "source": [
    "numbers =(2,4,6,8,10)\n",
    "sum_of_elements =sum(numbers)\n",
    "product_of_elements = 1\n",
    "for num in numbers:\n",
    "    product_of_elements *= num\n",
    "print(\"sum\",sum_of_elements )\n",
    "print(\"product\",product_of_elements )\n",
    "    "
   ]
  },
  {
   "cell_type": "code",
   "execution_count": 46,
   "id": "641e5b7b",
   "metadata": {},
   "outputs": [
    {
     "name": "stdout",
     "output_type": "stream",
     "text": [
      "Apple count: 3\n",
      "Banana count: 1\n"
     ]
    }
   ],
   "source": [
    "fruits = (\"apple\", \"banana\", \"orange\", \"apple\", \"grape\", \"apple\")\n",
    "count_of_apples =fruits.count(\"apple\")\n",
    "count_of_banana =fruits.count(\"banana\")\n",
    "print(\"Apple count:\", count_of_apples )\n",
    "print(\"Banana count:\", count_of_banana)"
   ]
  },
  {
   "cell_type": "code",
   "execution_count": 47,
   "id": "e71f5d8b",
   "metadata": {},
   "outputs": [
    {
     "name": "stdout",
     "output_type": "stream",
     "text": [
      "{1, 2, 3, 4, 5}\n"
     ]
    }
   ],
   "source": [
    "my_list = [1,2,3,4,2,3,3,5]\n",
    "unique_elements = set(my_list)\n",
    "print(unique_elements)"
   ]
  },
  {
   "cell_type": "code",
   "execution_count": 48,
   "id": "52435015",
   "metadata": {},
   "outputs": [
    {
     "name": "stdout",
     "output_type": "stream",
     "text": [
      "{4, 5}\n"
     ]
    }
   ],
   "source": [
    "list1= [1,2,3,4,5]\n",
    "list2= [4,5,6,7,8]\n",
    "common_elements = set(list1).intersection(list2)\n",
    "print(common_elements)"
   ]
  },
  {
   "cell_type": "code",
   "execution_count": 54,
   "id": "f59df335",
   "metadata": {},
   "outputs": [
    {
     "name": "stdout",
     "output_type": "stream",
     "text": [
      "{1: 3, 2: 3, 3: 2, 4: 1, 5: 1}\n"
     ]
    }
   ],
   "source": [
    "my_list = [1,2,3,2,4,1,5,3,2,1,]\n",
    "frequency_dict = {}\n",
    "for num in my_list:\n",
    "    frequency_dict[num] = frequency_dict.get(num,0) + 1\n",
    "print(frequency_dict)"
   ]
  },
  {
   "cell_type": "code",
   "execution_count": 55,
   "id": "f246a377",
   "metadata": {},
   "outputs": [
    {
     "name": "stdout",
     "output_type": "stream",
     "text": [
      "{'name': 'john', 'age': 30, 'city': 'New York', 'occupation': 'Engineer'}\n"
     ]
    }
   ],
   "source": [
    "dict1= {\"name\": \"john\", \"age\": 30}\n",
    "dict2= {\"city\": \"New York\", \"occupation\": \"Engineer\"}\n",
    "merged_dict = {**dict1, **dict2}\n",
    "print(merged_dict)"
   ]
  },
  {
   "cell_type": "code",
   "execution_count": null,
   "id": "50f001b8",
   "metadata": {},
   "outputs": [],
   "source": []
  }
 ],
 "metadata": {
  "kernelspec": {
   "display_name": "Python 3",
   "language": "python",
   "name": "python3"
  },
  "language_info": {
   "codemirror_mode": {
    "name": "ipython",
    "version": 3
   },
   "file_extension": ".py",
   "mimetype": "text/x-python",
   "name": "python",
   "nbconvert_exporter": "python",
   "pygments_lexer": "ipython3",
   "version": "3.8.8"
  }
 },
 "nbformat": 4,
 "nbformat_minor": 5
}
