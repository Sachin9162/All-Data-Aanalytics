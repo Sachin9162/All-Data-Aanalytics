{
 "cells": [
  {
   "cell_type": "code",
   "execution_count": 4,
   "id": "a99fd229",
   "metadata": {},
   "outputs": [],
   "source": [
    "def plot_calc(length,width,price_per_sq_unit):\n",
    "    area = length * width\n",
    "    return area * price_per_sq_unit\n"
   ]
  },
  {
   "cell_type": "code",
   "execution_count": 5,
   "id": "d66cde7a",
   "metadata": {},
   "outputs": [
    {
     "name": "stdout",
     "output_type": "stream",
     "text": [
      "Enter the length of the plot: 60\n",
      "Enter the width of the plot: 40\n",
      "Enter the cost per square unit: 7000\n"
     ]
    },
    {
     "data": {
      "text/plain": [
       "16800000"
      ]
     },
     "execution_count": 5,
     "metadata": {},
     "output_type": "execute_result"
    }
   ],
   "source": [
    "length = int(input(\"Enter the length of the plot: \"))\n",
    "width = int(input(\"Enter the width of the plot: \"))\n",
    "price_per_sq_unit = int(input(\"Enter the cost per square unit: \"))\n",
    "plot_calc(length,width,price_per_sq_unit)\n"
   ]
  },
  {
   "cell_type": "code",
   "execution_count": 6,
   "id": "fe3b47b7",
   "metadata": {},
   "outputs": [],
   "source": [
    "def per_calc(et1,et2,final):\n",
    "    '''\n",
    "    This function is used to calculate the percentage of total marks obtained'''\n",
    "    total_marks = 100 + 100 +200   #This contains the total marks of each ET \n",
    "    achieved_marks = et1 + et2 + final  #This contains marks obtained in each et\n",
    "    \n",
    "    #print the percentage of marks obtained\n",
    "    return (achieved_marks/total_marks) * 100"
   ]
  },
  {
   "cell_type": "code",
   "execution_count": 12,
   "id": "6f5b48eb",
   "metadata": {},
   "outputs": [
    {
     "name": "stdout",
     "output_type": "stream",
     "text": [
      "Entr the name of the Student: Sachin\n",
      "Enter the marks obtained in ET1: 80\n",
      "Enter the marks obtained in ET2: 90\n",
      "Enter the marks obtained in 'Final' exam: 100\n",
      "Percentage of marks obtained by Sachin is 67.5 %\n"
     ]
    }
   ],
   "source": [
    "name_of_student = str(input(\"Entr the name of the Student: \"))\n",
    "et1 = int(input(\"Enter the marks obtained in ET1: \"))\n",
    "et2 = int(input(\"Enter the marks obtained in ET2: \"))\n",
    "final = int(input(\"Enter the marks obtained in 'Final' exam: \"))\n",
    "print(f\"Percentage of marks obtained by {name_of_student} is {per_calc(et1,et2,final)} %\") #f string means there is a variable that needs to be executed"
   ]
  },
  {
   "cell_type": "markdown",
   "id": "6591d54e",
   "metadata": {},
   "source": [
    "## OOPS"
   ]
  },
  {
   "cell_type": "code",
   "execution_count": 13,
   "id": "1c2e8a02",
   "metadata": {},
   "outputs": [],
   "source": [
    "empty_list = []"
   ]
  },
  {
   "cell_type": "code",
   "execution_count": 14,
   "id": "71db3d29",
   "metadata": {},
   "outputs": [
    {
     "data": {
      "text/plain": [
       "list"
      ]
     },
     "execution_count": 14,
     "metadata": {},
     "output_type": "execute_result"
    }
   ],
   "source": [
    "type(empty_list)"
   ]
  },
  {
   "cell_type": "code",
   "execution_count": 15,
   "id": "5546ec0e",
   "metadata": {},
   "outputs": [],
   "source": [
    "another_empty_list = list()"
   ]
  },
  {
   "cell_type": "code",
   "execution_count": 16,
   "id": "2d449355",
   "metadata": {},
   "outputs": [
    {
     "data": {
      "text/plain": [
       "[]"
      ]
     },
     "execution_count": 16,
     "metadata": {},
     "output_type": "execute_result"
    }
   ],
   "source": [
    "another_empty_list"
   ]
  },
  {
   "cell_type": "code",
   "execution_count": 20,
   "id": "04723037",
   "metadata": {},
   "outputs": [],
   "source": [
    "another_empty_list.append(2)"
   ]
  },
  {
   "cell_type": "code",
   "execution_count": 21,
   "id": "1ae0af91",
   "metadata": {},
   "outputs": [
    {
     "data": {
      "text/plain": [
       "[1, 2]"
      ]
     },
     "execution_count": 21,
     "metadata": {},
     "output_type": "execute_result"
    }
   ],
   "source": [
    "another_empty_list"
   ]
  },
  {
   "cell_type": "code",
   "execution_count": 24,
   "id": "0a793de4",
   "metadata": {},
   "outputs": [],
   "source": [
    "another_empty_list.append(3)\n",
    "another_empty_list.append(4)"
   ]
  },
  {
   "cell_type": "code",
   "execution_count": 25,
   "id": "75cfc9ca",
   "metadata": {},
   "outputs": [
    {
     "data": {
      "text/plain": [
       "[1, 2, 3, 4]"
      ]
     },
     "execution_count": 25,
     "metadata": {},
     "output_type": "execute_result"
    }
   ],
   "source": [
    "another_empty_list"
   ]
  },
  {
   "cell_type": "code",
   "execution_count": 26,
   "id": "2703ad59",
   "metadata": {
    "scrolled": true
   },
   "outputs": [
    {
     "data": {
      "text/plain": [
       "2"
      ]
     },
     "execution_count": 26,
     "metadata": {},
     "output_type": "execute_result"
    }
   ],
   "source": [
    "another_empty_list.index(3)"
   ]
  },
  {
   "cell_type": "markdown",
   "id": "917d6dcb",
   "metadata": {},
   "source": [
    "## Objects"
   ]
  },
  {
   "cell_type": "code",
   "execution_count": 28,
   "id": "05a1170b",
   "metadata": {},
   "outputs": [
    {
     "name": "stdout",
     "output_type": "stream",
     "text": [
      "<class 'str'>\n"
     ]
    }
   ],
   "source": [
    "learner_name = \"Sachin\"\n",
    "print(type(learner_name))"
   ]
  },
  {
   "cell_type": "code",
   "execution_count": null,
   "id": "f565a321",
   "metadata": {},
   "outputs": [],
   "source": []
  }
 ],
 "metadata": {
  "kernelspec": {
   "display_name": "Python 3",
   "language": "python",
   "name": "python3"
  },
  "language_info": {
   "codemirror_mode": {
    "name": "ipython",
    "version": 3
   },
   "file_extension": ".py",
   "mimetype": "text/x-python",
   "name": "python",
   "nbconvert_exporter": "python",
   "pygments_lexer": "ipython3",
   "version": "3.8.8"
  }
 },
 "nbformat": 4,
 "nbformat_minor": 5
}
