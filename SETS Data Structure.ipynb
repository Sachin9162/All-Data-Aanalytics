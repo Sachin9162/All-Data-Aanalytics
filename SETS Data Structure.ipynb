{
 "cells": [
  {
   "cell_type": "markdown",
   "id": "21d8cfd4",
   "metadata": {},
   "source": [
    "# Sets"
   ]
  },
  {
   "cell_type": "markdown",
   "id": "43755e9f",
   "metadata": {},
   "source": [
    "-  Sets are a type of collection like lists and tuples, storing mixed data.\n",
    "-  Sets are enclosed within curly brackets and elements are written as comma-separated.\n",
    "-  Sets are unordered\n",
    "-  Sets does not allow duplicates"
   ]
  },
  {
   "cell_type": "code",
   "execution_count": 1,
   "id": "e0c8a789",
   "metadata": {},
   "outputs": [
    {
     "data": {
      "text/plain": [
       "{1, 2, 3, 4, 5}"
      ]
     },
     "execution_count": 1,
     "metadata": {},
     "output_type": "execute_result"
    }
   ],
   "source": [
    "l = [1,2,3,4,5,5]         #creating a set deletes duplicate elements\n",
    "set_l = set(l)\n",
    "set(l)"
   ]
  },
  {
   "cell_type": "code",
   "execution_count": 2,
   "id": "2ba141a7",
   "metadata": {},
   "outputs": [
    {
     "data": {
      "text/plain": [
       "5"
      ]
     },
     "execution_count": 2,
     "metadata": {},
     "output_type": "execute_result"
    }
   ],
   "source": [
    "len(set_l)"
   ]
  },
  {
   "cell_type": "code",
   "execution_count": 8,
   "id": "5d5192db",
   "metadata": {},
   "outputs": [
    {
     "data": {
      "text/plain": [
       "{1, 2, 3, 4, 5, 'India'}"
      ]
     },
     "execution_count": 8,
     "metadata": {},
     "output_type": "execute_result"
    }
   ],
   "source": [
    "#adding an object in sets\n",
    "a = {1,2,3,4,5}      # Not neccessary that the set will add elements at the last position\n",
    "a.add(\"India\",)     # Set chooses the location randomly\n",
    "a"
   ]
  },
  {
   "cell_type": "code",
   "execution_count": 10,
   "id": "385e36de",
   "metadata": {},
   "outputs": [
    {
     "data": {
      "text/plain": [
       "{1, 2, 3, 4, 5}"
      ]
     },
     "execution_count": 10,
     "metadata": {},
     "output_type": "execute_result"
    }
   ],
   "source": [
    "# Removing an object in sets\n",
    "a = {1, 2, 3, 4, 5, 'India'}\n",
    "a.remove(\"India\")\n",
    "a"
   ]
  },
  {
   "cell_type": "code",
   "execution_count": 11,
   "id": "d9915282",
   "metadata": {},
   "outputs": [],
   "source": [
    "# Set Operations\n",
    "A ={0,2,4,6,8}\n",
    "B ={1,2,3,4,5}"
   ]
  },
  {
   "cell_type": "code",
   "execution_count": 12,
   "id": "c54f088a",
   "metadata": {},
   "outputs": [
    {
     "name": "stdout",
     "output_type": "stream",
     "text": [
      "{0, 1, 2, 3, 4, 5, 6, 8}\n",
      "{0, 1, 2, 3, 4, 5, 6, 8}\n"
     ]
    }
   ],
   "source": [
    "print(A | B) # Union\n",
    "print(A.union(B))  # Both ways we can do"
   ]
  },
  {
   "cell_type": "code",
   "execution_count": 14,
   "id": "75b7b39e",
   "metadata": {},
   "outputs": [
    {
     "name": "stdout",
     "output_type": "stream",
     "text": [
      "{2, 4}\n",
      "{2, 4}\n"
     ]
    }
   ],
   "source": [
    "print(A&B) #Intersection\n",
    "print(A.intersection(B))       #common elements"
   ]
  },
  {
   "cell_type": "code",
   "execution_count": 15,
   "id": "cf778d15",
   "metadata": {},
   "outputs": [
    {
     "name": "stdout",
     "output_type": "stream",
     "text": [
      "{0, 8, 6}\n",
      "{0, 8, 6}\n"
     ]
    }
   ],
   "source": [
    "print(A-B)  #Difference  \n",
    "print(A.difference(B))   #Removing all the elements of set \"B\" from set \"A\" or only'A' elements"
   ]
  },
  {
   "cell_type": "code",
   "execution_count": 16,
   "id": "3e233235",
   "metadata": {},
   "outputs": [
    {
     "name": "stdout",
     "output_type": "stream",
     "text": [
      "{0, 1, 3, 5, 6, 8}\n"
     ]
    }
   ],
   "source": [
    "#Symmetric Difference\n",
    "print(A ^B)                           #Gives the uncommon elements of the two sets"
   ]
  },
  {
   "cell_type": "code",
   "execution_count": 17,
   "id": "0b75f7a7",
   "metadata": {},
   "outputs": [
    {
     "name": "stdout",
     "output_type": "stream",
     "text": [
      "4\n"
     ]
    }
   ],
   "source": [
    "nums = set([1,1,2,3,3,3,4])\n",
    "print(len(nums))"
   ]
  },
  {
   "cell_type": "code",
   "execution_count": null,
   "id": "44030424",
   "metadata": {},
   "outputs": [],
   "source": []
  }
 ],
 "metadata": {
  "kernelspec": {
   "display_name": "Python 3",
   "language": "python",
   "name": "python3"
  },
  "language_info": {
   "codemirror_mode": {
    "name": "ipython",
    "version": 3
   },
   "file_extension": ".py",
   "mimetype": "text/x-python",
   "name": "python",
   "nbconvert_exporter": "python",
   "pygments_lexer": "ipython3",
   "version": "3.8.8"
  }
 },
 "nbformat": 4,
 "nbformat_minor": 5
}
