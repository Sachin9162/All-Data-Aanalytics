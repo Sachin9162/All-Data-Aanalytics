{
 "cells": [
  {
   "cell_type": "code",
   "execution_count": 2,
   "id": "6dbd5b29",
   "metadata": {},
   "outputs": [
    {
     "name": "stdout",
     "output_type": "stream",
     "text": [
      "Enter Your Name Here:Sachin\n",
      "Enter Your Surname Here:Kumar\n",
      "Hello Sachin Kumar\n"
     ]
    }
   ],
   "source": [
    "Name= input(\"Enter Your Name Here:\")\n",
    "Sir_name= input(\"Enter Your Surname Here:\")\n",
    "print(\"Hello\",Name, Sir_name)"
   ]
  },
  {
   "cell_type": "code",
   "execution_count": 3,
   "id": "4779549d",
   "metadata": {},
   "outputs": [],
   "source": [
    "    # This is a Title\n",
    "    ## This is a heading\n",
    "    ### This is a Subheading"
   ]
  },
  {
   "cell_type": "markdown",
   "id": "549643cc",
   "metadata": {},
   "source": [
    "# This is title\n",
    "## This a heading\n",
    "### This is a sub heading\n",
    "#### Smallest heading you can write\n",
    "##### Write the text into intacics. Wow!"
   ]
  },
  {
   "cell_type": "markdown",
   "id": "351c96c6",
   "metadata": {},
   "source": [
    "__\"THis text is in bold\"__ \n",
    "\n",
    "*\"This text is in italics\"*\n",
    "\n",
    "**This text is bold too**\n",
    "\n",
    "_You can write the text in italic fonts in this way too_\n",
    "\n",
    "***Three stars if you want both bold and italics***\n",
    "\n",
    "___Lets see it it works with three underscores, See! it works___"
   ]
  },
  {
   "cell_type": "markdown",
   "id": "f67d6a9b",
   "metadata": {},
   "source": [
    "## Monospace Font\n",
    "\n",
    "`This is a monospace font`<Br>\n",
    "`Python is an easy Language`\n",
    "    \n",
    " ### Breaking the Lines\n",
    "    \n",
    "___\"Br is used to break lines\"___"
   ]
  },
  {
   "cell_type": "markdown",
   "id": "330e988f",
   "metadata": {},
   "source": [
    "# Indenting\n",
    "\n",
    "**This is the first Line**\n",
    "> Greater than sign is used to move to the next indentation\n",
    ">> Two greater than signs to increase indentation\n",
    ">>> and it follows with increasing number of greater than signs\n",
    ">>>> this keeps going like this"
   ]
  },
  {
   "cell_type": "markdown",
   "id": "9eb963b9",
   "metadata": {},
   "source": [
    "-  This is Bullet\n",
    "\n",
    "    -  This is sub bullet"
   ]
  },
  {
   "cell_type": "markdown",
   "id": "38c8040e",
   "metadata": {},
   "source": [
    "1.  This a Bullet\n",
    "    1.  This is Sub bullet\n",
    "2. This is a bullet\n",
    "    1.  This is sub bullet\n"
   ]
  },
  {
   "cell_type": "markdown",
   "id": "a7273fbc",
   "metadata": {},
   "source": [
    "<font color =blue> This text will be blue</font><Br>\n",
    "<font color = greeen> This text will be green</font><Br>\n",
    "-  <font color = red> This text will be red</font>\n",
    "    -  <font color = yellow> I hate this color</font>"
   ]
  },
  {
   "cell_type": "markdown",
   "id": "24d7b5a7",
   "metadata": {},
   "source": [
    "<img src = \"https://resize.indiatv.in/resize/newbucket/400_-/2021/07/ram-mandir-construction-completed-till-2025-1626368620.webp\">"
   ]
  },
  {
   "cell_type": "code",
   "execution_count": null,
   "id": "f6d63a7f",
   "metadata": {},
   "outputs": [],
   "source": []
  }
 ],
 "metadata": {
  "kernelspec": {
   "display_name": "Python 3",
   "language": "python",
   "name": "python3"
  },
  "language_info": {
   "codemirror_mode": {
    "name": "ipython",
    "version": 3
   },
   "file_extension": ".py",
   "mimetype": "text/x-python",
   "name": "python",
   "nbconvert_exporter": "python",
   "pygments_lexer": "ipython3",
   "version": "3.8.8"
  }
 },
 "nbformat": 4,
 "nbformat_minor": 5
}
