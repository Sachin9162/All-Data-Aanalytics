{
 "cells": [
  {
   "cell_type": "code",
   "execution_count": 1,
   "id": "6b77202c",
   "metadata": {},
   "outputs": [
    {
     "name": "stdout",
     "output_type": "stream",
     "text": [
      "HELLO WORLD\n"
     ]
    }
   ],
   "source": [
    "print(\"HELLO WORLD\")"
   ]
  },
  {
   "cell_type": "code",
   "execution_count": 2,
   "id": "feca52c9",
   "metadata": {},
   "outputs": [
    {
     "name": "stdout",
     "output_type": "stream",
     "text": [
      "HeLLo WoRlD\n"
     ]
    }
   ],
   "source": [
    "print(\"HeLLo WoRlD\")"
   ]
  },
  {
   "cell_type": "code",
   "execution_count": 3,
   "id": "085d69f2",
   "metadata": {},
   "outputs": [
    {
     "name": "stdout",
     "output_type": "stream",
     "text": [
      "Hello World\n"
     ]
    }
   ],
   "source": [
    "print(\"Hello World\")    #This is a comment"
   ]
  },
  {
   "cell_type": "code",
   "execution_count": 4,
   "id": "b4d8a247",
   "metadata": {},
   "outputs": [
    {
     "data": {
      "text/plain": [
       "27"
      ]
     },
     "execution_count": 4,
     "metadata": {},
     "output_type": "execute_result"
    }
   ],
   "source": [
    "3 ** 3"
   ]
  },
  {
   "cell_type": "code",
   "execution_count": 5,
   "id": "8f6a69e2",
   "metadata": {},
   "outputs": [
    {
     "data": {
      "text/plain": [
       "1"
      ]
     },
     "execution_count": 5,
     "metadata": {},
     "output_type": "execute_result"
    }
   ],
   "source": [
    "3%2"
   ]
  },
  {
   "cell_type": "code",
   "execution_count": 6,
   "id": "dc06bf4f",
   "metadata": {},
   "outputs": [
    {
     "data": {
      "text/plain": [
       "2.0"
      ]
     },
     "execution_count": 6,
     "metadata": {},
     "output_type": "execute_result"
    }
   ],
   "source": [
    "6/3\n"
   ]
  },
  {
   "cell_type": "code",
   "execution_count": 2,
   "id": "9e27a520",
   "metadata": {},
   "outputs": [],
   "source": [
    "#scores for wins losses and draw\n",
    "\n",
    "wins = 2\n",
    "losses = -1\n",
    "draw = 1"
   ]
  },
  {
   "cell_type": "code",
   "execution_count": 3,
   "id": "8234dd12",
   "metadata": {},
   "outputs": [
    {
     "data": {
      "text/plain": [
       "2"
      ]
     },
     "execution_count": 3,
     "metadata": {},
     "output_type": "execute_result"
    }
   ],
   "source": [
    "wins"
   ]
  },
  {
   "cell_type": "code",
   "execution_count": 4,
   "id": "86a2e131",
   "metadata": {},
   "outputs": [
    {
     "data": {
      "text/plain": [
       "-1"
      ]
     },
     "execution_count": 4,
     "metadata": {},
     "output_type": "execute_result"
    }
   ],
   "source": [
    "losses"
   ]
  },
  {
   "cell_type": "code",
   "execution_count": 5,
   "id": "991feab7",
   "metadata": {},
   "outputs": [],
   "source": [
    "london_score = 2*wins + 1*losses + 4*draw"
   ]
  },
  {
   "cell_type": "code",
   "execution_count": 6,
   "id": "d655768c",
   "metadata": {},
   "outputs": [
    {
     "name": "stdout",
     "output_type": "stream",
     "text": [
      "7\n"
     ]
    }
   ],
   "source": [
    "print(london_score)"
   ]
  },
  {
   "cell_type": "code",
   "execution_count": 7,
   "id": "b703eda3",
   "metadata": {},
   "outputs": [],
   "source": [
    "IndiaScore =  wins*5 + 0*losses + 2*draw"
   ]
  },
  {
   "cell_type": "code",
   "execution_count": 8,
   "id": "3f029855",
   "metadata": {},
   "outputs": [
    {
     "data": {
      "text/plain": [
       "12"
      ]
     },
     "execution_count": 8,
     "metadata": {},
     "output_type": "execute_result"
    }
   ],
   "source": [
    "IndiaScore"
   ]
  },
  {
   "cell_type": "code",
   "execution_count": 10,
   "id": "09760718",
   "metadata": {},
   "outputs": [
    {
     "name": "stdout",
     "output_type": "stream",
     "text": [
      "Score of india is : 12\n"
     ]
    }
   ],
   "source": [
    "print(\"Score of india is :\",IndiaScore)"
   ]
  },
  {
   "cell_type": "code",
   "execution_count": 9,
   "id": "637da680",
   "metadata": {},
   "outputs": [
    {
     "data": {
      "text/plain": [
       "0"
      ]
     },
     "execution_count": 9,
     "metadata": {},
     "output_type": "execute_result"
    }
   ],
   "source": [
    "wins%draw"
   ]
  },
  {
   "cell_type": "code",
   "execution_count": 15,
   "id": "c0051828",
   "metadata": {},
   "outputs": [
    {
     "name": "stdout",
     "output_type": "stream",
     "text": [
      "2 1 -1\n"
     ]
    }
   ],
   "source": [
    "print(wins,draw,losses)"
   ]
  },
  {
   "cell_type": "code",
   "execution_count": 18,
   "id": "0a697186",
   "metadata": {},
   "outputs": [
    {
     "data": {
      "text/plain": [
       "int"
      ]
     },
     "execution_count": 18,
     "metadata": {},
     "output_type": "execute_result"
    }
   ],
   "source": [
    "type (wins)"
   ]
  },
  {
   "cell_type": "code",
   "execution_count": 11,
   "id": "e3926af8",
   "metadata": {},
   "outputs": [
    {
     "ename": "SyntaxError",
     "evalue": "invalid syntax (<ipython-input-11-2983978c9353>, line 1)",
     "output_type": "error",
     "traceback": [
      "\u001b[1;36m  File \u001b[1;32m\"<ipython-input-11-2983978c9353>\"\u001b[1;36m, line \u001b[1;32m1\u001b[0m\n\u001b[1;33m    z= round(6.123456)2\u001b[0m\n\u001b[1;37m                      ^\u001b[0m\n\u001b[1;31mSyntaxError\u001b[0m\u001b[1;31m:\u001b[0m invalid syntax\n"
     ]
    }
   ],
   "source": [
    "z= round(6.123456)2"
   ]
  },
  {
   "cell_type": "code",
   "execution_count": 22,
   "id": "62fe2e0a",
   "metadata": {},
   "outputs": [
    {
     "data": {
      "text/plain": [
       "False"
      ]
     },
     "execution_count": 22,
     "metadata": {},
     "output_type": "execute_result"
    }
   ],
   "source": [
    "2 == 3\n"
   ]
  },
  {
   "cell_type": "code",
   "execution_count": 23,
   "id": "3d5cd95d",
   "metadata": {},
   "outputs": [
    {
     "data": {
      "text/plain": [
       "True"
      ]
     },
     "execution_count": 23,
     "metadata": {},
     "output_type": "execute_result"
    }
   ],
   "source": [
    "2 ==2"
   ]
  },
  {
   "cell_type": "code",
   "execution_count": 24,
   "id": "2d7e6eb2",
   "metadata": {},
   "outputs": [
    {
     "data": {
      "text/plain": [
       "True"
      ]
     },
     "execution_count": 24,
     "metadata": {},
     "output_type": "execute_result"
    }
   ],
   "source": [
    "2 !=3"
   ]
  },
  {
   "cell_type": "code",
   "execution_count": 25,
   "id": "98a2f892",
   "metadata": {},
   "outputs": [
    {
     "data": {
      "text/plain": [
       "True"
      ]
     },
     "execution_count": 25,
     "metadata": {},
     "output_type": "execute_result"
    }
   ],
   "source": [
    "2 !=1"
   ]
  },
  {
   "cell_type": "code",
   "execution_count": 26,
   "id": "b7d82228",
   "metadata": {},
   "outputs": [
    {
     "data": {
      "text/plain": [
       "False"
      ]
     },
     "execution_count": 26,
     "metadata": {},
     "output_type": "execute_result"
    }
   ],
   "source": [
    "2 !=2\n"
   ]
  },
  {
   "cell_type": "code",
   "execution_count": 27,
   "id": "9e7017a3",
   "metadata": {},
   "outputs": [
    {
     "data": {
      "text/plain": [
       "3"
      ]
     },
     "execution_count": 27,
     "metadata": {},
     "output_type": "execute_result"
    }
   ],
   "source": [
    "2+1"
   ]
  },
  {
   "cell_type": "code",
   "execution_count": 28,
   "id": "ad511a3e",
   "metadata": {},
   "outputs": [
    {
     "data": {
      "text/plain": [
       "1"
      ]
     },
     "execution_count": 28,
     "metadata": {},
     "output_type": "execute_result"
    }
   ],
   "source": [
    "2-1"
   ]
  },
  {
   "cell_type": "code",
   "execution_count": 29,
   "id": "0a418986",
   "metadata": {},
   "outputs": [
    {
     "data": {
      "text/plain": [
       "24"
      ]
     },
     "execution_count": 29,
     "metadata": {},
     "output_type": "execute_result"
    }
   ],
   "source": [
    "3*8"
   ]
  },
  {
   "cell_type": "code",
   "execution_count": 30,
   "id": "aa4a9092",
   "metadata": {},
   "outputs": [
    {
     "data": {
      "text/plain": [
       "8"
      ]
     },
     "execution_count": 30,
     "metadata": {},
     "output_type": "execute_result"
    }
   ],
   "source": [
    "32//4"
   ]
  },
  {
   "cell_type": "code",
   "execution_count": 31,
   "id": "b744fb97",
   "metadata": {},
   "outputs": [
    {
     "data": {
      "text/plain": [
       "64"
      ]
     },
     "execution_count": 31,
     "metadata": {},
     "output_type": "execute_result"
    }
   ],
   "source": [
    "4**3\n"
   ]
  },
  {
   "cell_type": "code",
   "execution_count": 32,
   "id": "72066ffb",
   "metadata": {},
   "outputs": [
    {
     "data": {
      "text/plain": [
       "7.0"
      ]
     },
     "execution_count": 32,
     "metadata": {},
     "output_type": "execute_result"
    }
   ],
   "source": [
    "3+1*6-4/2"
   ]
  },
  {
   "cell_type": "code",
   "execution_count": 42,
   "id": "dcd35195",
   "metadata": {},
   "outputs": [],
   "source": [
    "#Define the fixed values\n",
    "wins = 3\n",
    "losses = -1\n",
    "draw = 1"
   ]
  },
  {
   "cell_type": "code",
   "execution_count": 34,
   "id": "16fc27d6",
   "metadata": {},
   "outputs": [
    {
     "data": {
      "text/plain": [
       "-1"
      ]
     },
     "execution_count": 34,
     "metadata": {},
     "output_type": "execute_result"
    }
   ],
   "source": [
    "losses\n"
   ]
  },
  {
   "cell_type": "code",
   "execution_count": 43,
   "id": "d9118166",
   "metadata": {},
   "outputs": [
    {
     "name": "stdout",
     "output_type": "stream",
     "text": [
      "3 -1 1\n"
     ]
    }
   ],
   "source": [
    "print(wins,losses,draw)"
   ]
  },
  {
   "cell_type": "code",
   "execution_count": 44,
   "id": "f4d273e3",
   "metadata": {},
   "outputs": [
    {
     "name": "stdout",
     "output_type": "stream",
     "text": [
      "1 -1 3\n"
     ]
    }
   ],
   "source": [
    "print(draw,losses,wins)"
   ]
  },
  {
   "cell_type": "code",
   "execution_count": 45,
   "id": "2bc48d65",
   "metadata": {},
   "outputs": [
    {
     "name": "stdout",
     "output_type": "stream",
     "text": [
      "-1 1 3\n"
     ]
    }
   ],
   "source": [
    "print(losses,draw,wins)"
   ]
  },
  {
   "cell_type": "code",
   "execution_count": 46,
   "id": "e4b63103",
   "metadata": {},
   "outputs": [],
   "source": [
    "sachin_points = (3*wins + 2*losses + 1*draw)"
   ]
  },
  {
   "cell_type": "code",
   "execution_count": 47,
   "id": "3942730b",
   "metadata": {},
   "outputs": [
    {
     "data": {
      "text/plain": [
       "8"
      ]
     },
     "execution_count": 47,
     "metadata": {},
     "output_type": "execute_result"
    }
   ],
   "source": [
    "sachin_points"
   ]
  },
  {
   "cell_type": "code",
   "execution_count": 48,
   "id": "290b79b0",
   "metadata": {},
   "outputs": [
    {
     "name": "stdout",
     "output_type": "stream",
     "text": [
      "-1\n",
      "1\n",
      "3\n"
     ]
    }
   ],
   "source": [
    "print(losses)\n",
    "print(draw)\n",
    "print(wins)"
   ]
  },
  {
   "cell_type": "code",
   "execution_count": 51,
   "id": "a64a3eb0",
   "metadata": {},
   "outputs": [
    {
     "name": "stdout",
     "output_type": "stream",
     "text": [
      "sachin's point is 8\n"
     ]
    }
   ],
   "source": [
    "print(f\"sachin's point is {sachin_points}\")"
   ]
  },
  {
   "cell_type": "code",
   "execution_count": 57,
   "id": "d881ed4d",
   "metadata": {},
   "outputs": [],
   "source": [
    "total_wins = 5\n",
    "total_losses = 2\n",
    "total_draw = 1"
   ]
  },
  {
   "cell_type": "code",
   "execution_count": 58,
   "id": "7640f994",
   "metadata": {},
   "outputs": [],
   "source": [
    "subham_points =(total_wins*wins + total_losses*losses + total_draw*draw)"
   ]
  },
  {
   "cell_type": "code",
   "execution_count": 59,
   "id": "57163060",
   "metadata": {},
   "outputs": [
    {
     "name": "stdout",
     "output_type": "stream",
     "text": [
      "subham's point is 14\n"
     ]
    }
   ],
   "source": [
    "print(f\"subham's point is {subham_points}\")"
   ]
  },
  {
   "cell_type": "code",
   "execution_count": 60,
   "id": "21cb0888",
   "metadata": {},
   "outputs": [],
   "source": [
    "#Quantity of Ingredients\n",
    "raisins = 50\n",
    "almonds = 60\n",
    "apricots = 20"
   ]
  },
  {
   "cell_type": "code",
   "execution_count": 61,
   "id": "40289fcd",
   "metadata": {},
   "outputs": [],
   "source": [
    "total_ingredients = (raisins+almonds+apricots)"
   ]
  },
  {
   "cell_type": "code",
   "execution_count": 62,
   "id": "be13f5c3",
   "metadata": {},
   "outputs": [
    {
     "data": {
      "text/plain": [
       "130"
      ]
     },
     "execution_count": 62,
     "metadata": {},
     "output_type": "execute_result"
    }
   ],
   "source": [
    "total_ingredients"
   ]
  },
  {
   "cell_type": "code",
   "execution_count": 71,
   "id": "d6490b9e",
   "metadata": {},
   "outputs": [],
   "source": [
    "percentage_raisins = round(raisins/total_ingredients*100,2)"
   ]
  },
  {
   "cell_type": "code",
   "execution_count": 72,
   "id": "42569d53",
   "metadata": {},
   "outputs": [
    {
     "data": {
      "text/plain": [
       "38.46"
      ]
     },
     "execution_count": 72,
     "metadata": {},
     "output_type": "execute_result"
    }
   ],
   "source": [
    "percentage_raisins"
   ]
  },
  {
   "cell_type": "code",
   "execution_count": 76,
   "id": "0046e7b9",
   "metadata": {},
   "outputs": [
    {
     "name": "stdout",
     "output_type": "stream",
     "text": [
      "Percentage of raisins in the nutritional bar is 38.46 %\n"
     ]
    }
   ],
   "source": [
    "print(f\"Percentage of raisins in the nutritional bar is {percentage_raisins} %\")"
   ]
  },
  {
   "cell_type": "code",
   "execution_count": 77,
   "id": "705ba828",
   "metadata": {},
   "outputs": [],
   "source": [
    "percentage_almonds = round(almonds/total_ingredients*100,2)"
   ]
  },
  {
   "cell_type": "code",
   "execution_count": 78,
   "id": "97ca2285",
   "metadata": {},
   "outputs": [
    {
     "data": {
      "text/plain": [
       "46.15"
      ]
     },
     "execution_count": 78,
     "metadata": {},
     "output_type": "execute_result"
    }
   ],
   "source": [
    "percentage_almonds"
   ]
  },
  {
   "cell_type": "code",
   "execution_count": 79,
   "id": "7d6ae5d1",
   "metadata": {},
   "outputs": [
    {
     "name": "stdout",
     "output_type": "stream",
     "text": [
      "Percentage of almonds in the nutritional bar is 46.15 %\n"
     ]
    }
   ],
   "source": [
    "print(f\"Percentage of almonds in the nutritional bar is {percentage_almonds} %\")"
   ]
  },
  {
   "cell_type": "code",
   "execution_count": 81,
   "id": "c0c958fc",
   "metadata": {},
   "outputs": [],
   "source": [
    "percentage_apricots = round(apricots/total_ingredients*100,2)"
   ]
  },
  {
   "cell_type": "code",
   "execution_count": 82,
   "id": "3f56c73d",
   "metadata": {},
   "outputs": [
    {
     "data": {
      "text/plain": [
       "15.38"
      ]
     },
     "execution_count": 82,
     "metadata": {},
     "output_type": "execute_result"
    }
   ],
   "source": [
    "percentage_apricots"
   ]
  },
  {
   "cell_type": "code",
   "execution_count": 83,
   "id": "c4e63417",
   "metadata": {},
   "outputs": [
    {
     "name": "stdout",
     "output_type": "stream",
     "text": [
      "Percentage of apricots in the nutritional bar is 15.38 %\n"
     ]
    }
   ],
   "source": [
    "print(f\"Percentage of apricots in the nutritional bar is {percentage_apricots} %\")"
   ]
  },
  {
   "cell_type": "code",
   "execution_count": 84,
   "id": "7982d86c",
   "metadata": {},
   "outputs": [],
   "source": [
    "total_percentage = (percentage_raisins+percentage_almonds+percentage_apricots)"
   ]
  },
  {
   "cell_type": "code",
   "execution_count": 85,
   "id": "abaaf26a",
   "metadata": {},
   "outputs": [
    {
     "data": {
      "text/plain": [
       "99.99"
      ]
     },
     "execution_count": 85,
     "metadata": {},
     "output_type": "execute_result"
    }
   ],
   "source": [
    "total_percentage"
   ]
  },
  {
   "cell_type": "code",
   "execution_count": 86,
   "id": "7aa9ff8b",
   "metadata": {},
   "outputs": [
    {
     "name": "stdout",
     "output_type": "stream",
     "text": [
      "Total percentage of all the ingredients is 99.99 %\n"
     ]
    }
   ],
   "source": [
    "print(f\"Total percentage of all the ingredients is {total_percentage} %\")"
   ]
  },
  {
   "cell_type": "code",
   "execution_count": null,
   "id": "b81ae26a",
   "metadata": {},
   "outputs": [],
   "source": []
  }
 ],
 "metadata": {
  "kernelspec": {
   "display_name": "Python 3",
   "language": "python",
   "name": "python3"
  },
  "language_info": {
   "codemirror_mode": {
    "name": "ipython",
    "version": 3
   },
   "file_extension": ".py",
   "mimetype": "text/x-python",
   "name": "python",
   "nbconvert_exporter": "python",
   "pygments_lexer": "ipython3",
   "version": "3.8.8"
  }
 },
 "nbformat": 4,
 "nbformat_minor": 5
}
